{
 "cells": [
  {
   "cell_type": "code",
   "execution_count": 1,
   "id": "9b0767fb-1ee5-4d12-ac87-6758e0712376",
   "metadata": {
    "tags": []
   },
   "outputs": [
    {
     "name": "stdout",
     "output_type": "stream",
     "text": [
      "\n",
      "                  __    __    __    __\n",
      "                 /  \\  /  \\  /  \\  /  \\\n",
      "                /    \\/    \\/    \\/    \\\n",
      "███████████████/  /██/  /██/  /██/  /████████████████████████\n",
      "              /  / \\   / \\   / \\   / \\  \\____\n",
      "             /  /   \\_/   \\_/   \\_/   \\    o \\__,\n",
      "            / _/                       \\_____/  `\n",
      "            |/\n",
      "        ███╗   ███╗ █████╗ ███╗   ███╗██████╗  █████╗\n",
      "        ████╗ ████║██╔══██╗████╗ ████║██╔══██╗██╔══██╗\n",
      "        ██╔████╔██║███████║██╔████╔██║██████╔╝███████║\n",
      "        ██║╚██╔╝██║██╔══██║██║╚██╔╝██║██╔══██╗██╔══██║\n",
      "        ██║ ╚═╝ ██║██║  ██║██║ ╚═╝ ██║██████╔╝██║  ██║\n",
      "        ╚═╝     ╚═╝╚═╝  ╚═╝╚═╝     ╚═╝╚═════╝ ╚═╝  ╚═╝\n",
      "\n",
      "        mamba (0.22.1) supported by @QuantStack\n",
      "\n",
      "        GitHub:  https://github.com/mamba-org/mamba\n",
      "        Twitter: https://twitter.com/QuantStack\n",
      "\n",
      "█████████████████████████████████████████████████████████████\n",
      "\n",
      "\n",
      "Looking for: ['hnswlib']\n",
      "\n",
      "\u001b[?25l\u001b[2K\u001b[0G[+] 0.0s\n",
      "\u001b[2K\u001b[1A\u001b[2K\u001b[0G[+] 0.1s\n",
      "conda-forge/linux-64 \u001b[90m━━━━━━╸\u001b[0m\u001b[33m━━━━━━━━━━━━━━━━\u001b[0m   0.0 B /  ??.?MB @  ??.?MB/s  0.1s\n",
      "conda-forge/noarch   \u001b[33m━━━━━━━━━╸\u001b[0m\u001b[90m━━━━━━━━━━━━━\u001b[0m   0.0 B /  ??.?MB @  ??.?MB/s  0.1s\u001b[2K\u001b[1A\u001b[2K\u001b[1A\u001b[2K\u001b[0G[+] 0.2s\n",
      "conda-forge/linux-64 \u001b[90m━━━━━━━╸\u001b[0m\u001b[33m━━━━━━━━━━━━━━━\u001b[0m   0.0 B /  ??.?MB @  ??.?MB/s  0.2s\n",
      "conda-forge/noarch   \u001b[33m━━━━━━━━━━╸\u001b[0m\u001b[90m━━━━━━━━━━━━\u001b[0m   0.0 B /  ??.?MB @  ??.?MB/s  0.2s\u001b[2K\u001b[1A\u001b[2K\u001b[1A\u001b[2K\u001b[0G[+] 0.3s\n",
      "conda-forge/linux-64 \u001b[90m━━━━━━━━━╸\u001b[0m\u001b[33m━━━━━━━━━━━━━\u001b[0m   0.0 B /  ??.?MB @  ??.?MB/s  0.3s\n",
      "conda-forge/noarch   \u001b[33m━━━━━━━━━━━━╸\u001b[0m\u001b[90m━━━━━━━━━━\u001b[0m  15.0 B /  ??.?MB @  51.0 B/s  0.3s\u001b[2K\u001b[1A\u001b[2K\u001b[1A\u001b[2K\u001b[0G[+] 0.4s\n",
      "conda-forge/linux-64 \u001b[90m━━━━━━━━━━━╸\u001b[0m\u001b[33m━━━━━━━━━━━\u001b[0m 467.7kB /  ??.?MB @   1.2MB/s  0.4s\n",
      "conda-forge/noarch   \u001b[33m━━━━━━━━━━━━━━╸\u001b[0m\u001b[90m━━━━━━━━\u001b[0m 277.0kB /  ??.?MB @ 706.9kB/s  0.4s\u001b[2K\u001b[1A\u001b[2K\u001b[1A\u001b[2K\u001b[0G[+] 0.5s\n",
      "conda-forge/linux-64 \u001b[33m━━━━━━━━╸\u001b[0m\u001b[90m━━━━━━━━━━━━━━\u001b[0m 929.6kB /  ??.?MB @   1.9MB/s  0.5s\n",
      "conda-forge/noarch   \u001b[90m╸\u001b[0m\u001b[33m━━━━━━━━━━━━━━━╸\u001b[0m\u001b[90m━━━━━━\u001b[0m 538.6kB /  ??.?MB @   1.1MB/s  0.5s\u001b[2K\u001b[1A\u001b[2K\u001b[1A\u001b[2K\u001b[0G[+] 0.6s\n",
      "conda-forge/linux-64 \u001b[33m━━━━━━━━━━╸\u001b[0m\u001b[90m━━━━━━━━━━━━\u001b[0m   1.3MB /  ??.?MB @   2.1MB/s  0.6s\n",
      "conda-forge/noarch   \u001b[90m━━╸\u001b[0m\u001b[33m━━━━━━━━━━━━━━━╸\u001b[0m\u001b[90m━━━━\u001b[0m 880.3kB /  ??.?MB @   1.5MB/s  0.6s\u001b[2K\u001b[1A\u001b[2K\u001b[1A\u001b[2K\u001b[0G[+] 0.7s\n",
      "conda-forge/linux-64 \u001b[33m━━━━━━━━━━━━╸\u001b[0m\u001b[90m━━━━━━━━━━\u001b[0m   1.7MB /  ??.?MB @   2.4MB/s  0.7s\n",
      "conda-forge/noarch   \u001b[90m━━━━━╸\u001b[0m\u001b[33m━━━━━━━━━━━━━━━╸\u001b[0m\u001b[90m━\u001b[0m   1.1MB /  ??.?MB @   1.6MB/s  0.7s\u001b[2K\u001b[1A\u001b[2K\u001b[1A\u001b[2K\u001b[0G[+] 0.8s\n",
      "conda-forge/linux-64 \u001b[33m━━━━━━━━━━━━━━╸\u001b[0m\u001b[90m━━━━━━━━\u001b[0m   2.0MB /  ??.?MB @   2.5MB/s  0.8s\n",
      "conda-forge/noarch   \u001b[90m━━━━━━━╸\u001b[0m\u001b[33m━━━━━━━━━━━━━━━\u001b[0m   1.5MB /  ??.?MB @   1.9MB/s  0.8s\u001b[2K\u001b[1A\u001b[2K\u001b[1A\u001b[2K\u001b[0G[+] 0.9s\n",
      "conda-forge/linux-64 \u001b[90m╸\u001b[0m\u001b[33m━━━━━━━━━━━━━━━╸\u001b[0m\u001b[90m━━━━━━\u001b[0m   2.3MB /  ??.?MB @   2.6MB/s  0.9s\n",
      "conda-forge/noarch   \u001b[90m━━━━━━━━━╸\u001b[0m\u001b[33m━━━━━━━━━━━━━\u001b[0m   1.8MB /  ??.?MB @   2.0MB/s  0.9s\u001b[2K\u001b[1A\u001b[2K\u001b[1A\u001b[2K\u001b[0G[+] 1.0s\n",
      "conda-forge/linux-64 \u001b[90m━━━╸\u001b[0m\u001b[33m━━━━━━━━━━━━━━━╸\u001b[0m\u001b[90m━━━\u001b[0m   2.6MB /  ??.?MB @   2.7MB/s  1.0s\n",
      "conda-forge/noarch   \u001b[90m━━━━━━━━━━━╸\u001b[0m\u001b[33m━━━━━━━━━━━\u001b[0m   2.1MB /  ??.?MB @   2.1MB/s  1.0s\u001b[2K\u001b[1A\u001b[2K\u001b[1A\u001b[2K\u001b[0G[+] 1.1s\n",
      "conda-forge/linux-64 \u001b[90m━━━━╸\u001b[0m\u001b[33m━━━━━━━━━━━━━━━╸\u001b[0m\u001b[90m━━\u001b[0m   2.9MB /  ??.?MB @   2.7MB/s  1.1s\n",
      "conda-forge/noarch   \u001b[90m━━━━━━━━━━━━╸\u001b[0m\u001b[33m━━━━━━━━━━\u001b[0m   2.2MB /  ??.?MB @   2.1MB/s  1.1s\u001b[2K\u001b[1A\u001b[2K\u001b[1A\u001b[2K\u001b[0G[+] 1.2s\n",
      "conda-forge/linux-64 \u001b[90m━━━━━━╸\u001b[0m\u001b[33m━━━━━━━━━━━━━━━━\u001b[0m   3.3MB /  ??.?MB @   2.9MB/s  1.2s\n",
      "conda-forge/noarch   \u001b[33m━━━━━━━━━╸\u001b[0m\u001b[90m━━━━━━━━━━━━━\u001b[0m   2.4MB /  ??.?MB @   2.1MB/s  1.2s\u001b[2K\u001b[1A\u001b[2K\u001b[1A\u001b[2K\u001b[0G[+] 1.3s\n",
      "conda-forge/linux-64 \u001b[90m━━━━━━━━╸\u001b[0m\u001b[33m━━━━━━━━━━━━━━\u001b[0m   3.7MB /  ??.?MB @   2.9MB/s  1.3s\n",
      "conda-forge/noarch   \u001b[33m━━━━━━━━━━━╸\u001b[0m\u001b[90m━━━━━━━━━━━\u001b[0m   2.7MB /  ??.?MB @   2.1MB/s  1.3s\u001b[2K\u001b[1A\u001b[2K\u001b[1A\u001b[2K\u001b[0G[+] 1.4s\n",
      "conda-forge/linux-64 \u001b[90m━━━━━━━━━━╸\u001b[0m\u001b[33m━━━━━━━━━━━━\u001b[0m   4.1MB /  ??.?MB @   3.1MB/s  1.4s\n",
      "conda-forge/noarch   \u001b[33m━━━━━━━━━━━━━╸\u001b[0m\u001b[90m━━━━━━━━━\u001b[0m   2.9MB /  ??.?MB @   2.2MB/s  1.4s\u001b[2K\u001b[1A\u001b[2K\u001b[1A\u001b[2K\u001b[0G[+] 1.5s\n",
      "conda-forge/linux-64 \u001b[90m━━━━━━━━━━━━━╸\u001b[0m\u001b[33m━━━━━━━━━\u001b[0m   4.5MB /  ??.?MB @   3.1MB/s  1.5s\n",
      "conda-forge/noarch   \u001b[33m━━━━━━━━━━━━━━━╸\u001b[0m\u001b[90m━━━━━━━\u001b[0m   3.2MB /  ??.?MB @   2.2MB/s  1.5s\u001b[2K\u001b[1A\u001b[2K\u001b[1A\u001b[2K\u001b[0G[+] 1.6s\n",
      "conda-forge/linux-64 \u001b[33m━━━━━━━━━╸\u001b[0m\u001b[90m━━━━━━━━━━━━━\u001b[0m   4.9MB /  ??.?MB @   3.1MB/s  1.6s\n",
      "conda-forge/noarch   \u001b[90m━╸\u001b[0m\u001b[33m━━━━━━━━━━━━━━━╸\u001b[0m\u001b[90m━━━━━\u001b[0m   3.5MB /  ??.?MB @   2.2MB/s  1.6s\u001b[2K\u001b[1A\u001b[2K\u001b[1A\u001b[2K\u001b[0G[+] 1.7s\n",
      "conda-forge/linux-64 \u001b[33m━━━━━━━━━━━╸\u001b[0m\u001b[90m━━━━━━━━━━━\u001b[0m   5.3MB /  ??.?MB @   3.2MB/s  1.7s\n",
      "conda-forge/noarch   \u001b[90m━━━━╸\u001b[0m\u001b[33m━━━━━━━━━━━━━━━╸\u001b[0m\u001b[90m━━\u001b[0m   3.7MB /  ??.?MB @   2.3MB/s  1.7s\u001b[2K\u001b[1A\u001b[2K\u001b[1A\u001b[2K\u001b[0G[+] 1.8s\n",
      "conda-forge/linux-64 \u001b[33m━━━━━━━━━━━━━╸\u001b[0m\u001b[90m━━━━━━━━━\u001b[0m   5.7MB /  ??.?MB @   3.2MB/s  1.8s\n",
      "conda-forge/noarch   \u001b[90m━━━━━━╸\u001b[0m\u001b[33m━━━━━━━━━━━━━━━━\u001b[0m   4.0MB /  ??.?MB @   2.3MB/s  1.8s\u001b[2K\u001b[1A\u001b[2K\u001b[1A\u001b[2K\u001b[0G[+] 1.9s\n",
      "conda-forge/linux-64 \u001b[33m━━━━━━━━━━━━━━━╸\u001b[0m\u001b[90m━━━━━━━\u001b[0m   6.2MB /  ??.?MB @   3.3MB/s  1.9s\n",
      "conda-forge/noarch   \u001b[90m━━━━━━━━╸\u001b[0m\u001b[33m━━━━━━━━━━━━━━\u001b[0m   4.3MB /  ??.?MB @   2.3MB/s  1.9s\u001b[2K\u001b[1A\u001b[2K\u001b[1A\u001b[2K\u001b[0G[+] 2.0s\n",
      "conda-forge/linux-64 \u001b[90m━━╸\u001b[0m\u001b[33m━━━━━━━━━━━━━━━╸\u001b[0m\u001b[90m━━━━\u001b[0m   6.6MB /  ??.?MB @   3.4MB/s  2.0s\n",
      "conda-forge/noarch   \u001b[90m━━━━━━━━━━╸\u001b[0m\u001b[33m━━━━━━━━━━━━\u001b[0m   4.6MB /  ??.?MB @   2.3MB/s  2.0s\u001b[2K\u001b[1A\u001b[2K\u001b[1A\u001b[2K\u001b[0G[+] 2.1s\n",
      "conda-forge/linux-64 \u001b[90m━━━━╸\u001b[0m\u001b[33m━━━━━━━━━━━━━━━╸\u001b[0m\u001b[90m━━\u001b[0m   7.0MB /  ??.?MB @   3.4MB/s  2.1s\n",
      "conda-forge/noarch   \u001b[90m━━━━━━━━━━━━╸\u001b[0m\u001b[33m━━━━━━━━━━\u001b[0m   4.9MB /  ??.?MB @   2.4MB/s  2.1s\u001b[2K\u001b[1A\u001b[2K\u001b[1A\u001b[2K\u001b[0G[+] 2.2s\n",
      "conda-forge/linux-64 \u001b[90m━━━━━━╸\u001b[0m\u001b[33m━━━━━━━━━━━━━━━━\u001b[0m   7.6MB /  ??.?MB @   3.5MB/s  2.2s\n",
      "conda-forge/noarch   \u001b[33m━━━━━━━━━╸\u001b[0m\u001b[90m━━━━━━━━━━━━━\u001b[0m   5.2MB /  ??.?MB @   2.4MB/s  2.2s\u001b[2K\u001b[1A\u001b[2K\u001b[1A\u001b[2K\u001b[0G[+] 2.3s\n",
      "conda-forge/linux-64 \u001b[90m━━━━━━━━╸\u001b[0m\u001b[33m━━━━━━━━━━━━━━\u001b[0m   8.0MB /  ??.?MB @   3.6MB/s  2.3s\n",
      "conda-forge/noarch   \u001b[33m━━━━━━━━━━━╸\u001b[0m\u001b[90m━━━━━━━━━━━\u001b[0m   5.4MB /  ??.?MB @   2.4MB/s  2.3s\u001b[2K\u001b[1A\u001b[2K\u001b[1A\u001b[2K\u001b[0G[+] 2.4s\n",
      "conda-forge/linux-64 \u001b[90m━━━━━━━━━━╸\u001b[0m\u001b[33m━━━━━━━━━━━━\u001b[0m   8.5MB /  ??.?MB @   3.6MB/s  2.4s\n",
      "conda-forge/noarch   \u001b[33m━━━━━━━━━━━━━╸\u001b[0m\u001b[90m━━━━━━━━━\u001b[0m   5.7MB /  ??.?MB @   2.4MB/s  2.4s\u001b[2K\u001b[1A\u001b[2K\u001b[1A\u001b[2K\u001b[0G[+] 2.5s\n",
      "conda-forge/linux-64 \u001b[90m━━━━━━━━━━━━━╸\u001b[0m\u001b[33m━━━━━━━━━\u001b[0m   9.0MB /  ??.?MB @   3.7MB/s  2.5s\n",
      "conda-forge/noarch   \u001b[33m━━━━━━━━━━━━━━━╸\u001b[0m\u001b[90m━━━━━━━\u001b[0m   6.0MB /  ??.?MB @   2.4MB/s  2.5s\u001b[2K\u001b[1A\u001b[2K\u001b[1A\u001b[2K\u001b[0G[+] 2.6s\n",
      "conda-forge/linux-64 \u001b[33m━━━━━━━━━╸\u001b[0m\u001b[90m━━━━━━━━━━━━━\u001b[0m   9.5MB /  ??.?MB @   3.7MB/s  2.6s\n",
      "conda-forge/noarch   \u001b[90m━╸\u001b[0m\u001b[33m━━━━━━━━━━━━━━━╸\u001b[0m\u001b[90m━━━━━\u001b[0m   6.2MB /  ??.?MB @   2.4MB/s  2.6s\u001b[2K\u001b[1A\u001b[2K\u001b[1A\u001b[2K\u001b[0G[+] 2.7s\n",
      "conda-forge/linux-64 \u001b[33m━━━━━━━━━━━╸\u001b[0m\u001b[90m━━━━━━━━━━━\u001b[0m  10.1MB /  ??.?MB @   3.8MB/s  2.7s\n",
      "conda-forge/noarch   \u001b[90m━━━━╸\u001b[0m\u001b[33m━━━━━━━━━━━━━━━╸\u001b[0m\u001b[90m━━\u001b[0m   6.5MB /  ??.?MB @   2.4MB/s  2.7s\u001b[2K\u001b[1A\u001b[2K\u001b[1A\u001b[2K\u001b[0G[+] 2.8s\n",
      "conda-forge/linux-64 \u001b[33m━━━━━━━━━━━━━╸\u001b[0m\u001b[90m━━━━━━━━━\u001b[0m  10.6MB /  ??.?MB @   3.8MB/s  2.8s\n",
      "conda-forge/noarch   \u001b[90m━━━━━━╸\u001b[0m\u001b[33m━━━━━━━━━━━━━━━━\u001b[0m   6.8MB /  ??.?MB @   2.4MB/s  2.8s\u001b[2K\u001b[1A\u001b[2K\u001b[1A\u001b[2K\u001b[0G[+] 2.9s\n",
      "conda-forge/linux-64 \u001b[33m━━━━━━━━━━━━━━━╸\u001b[0m\u001b[90m━━━━━━━\u001b[0m  11.1MB /  ??.?MB @   3.9MB/s  2.9s\n",
      "conda-forge/noarch   \u001b[90m━━━━━━━━╸\u001b[0m\u001b[33m━━━━━━━━━━━━━━\u001b[0m   7.0MB /  ??.?MB @   2.4MB/s  2.9s\u001b[2K\u001b[1A\u001b[2K\u001b[1A\u001b[2K\u001b[0G[+] 3.0s\n",
      "conda-forge/linux-64 \u001b[90m━━╸\u001b[0m\u001b[33m━━━━━━━━━━━━━━━╸\u001b[0m\u001b[90m━━━━\u001b[0m  11.5MB /  ??.?MB @   3.9MB/s  3.0s\n",
      "conda-forge/noarch   \u001b[90m━━━━━━━━━━╸\u001b[0m\u001b[33m━━━━━━━━━━━━\u001b[0m   7.3MB /  ??.?MB @   2.5MB/s  3.0s\u001b[2K\u001b[1A\u001b[2K\u001b[1A\u001b[2K\u001b[0G[+] 3.1s\n",
      "conda-forge/linux-64 \u001b[90m━━━━╸\u001b[0m\u001b[33m━━━━━━━━━━━━━━━╸\u001b[0m\u001b[90m━━\u001b[0m  11.9MB /  ??.?MB @   3.9MB/s  3.1s\n",
      "conda-forge/noarch   \u001b[90m━━━━━━━━━━━━╸\u001b[0m\u001b[33m━━━━━━━━━━\u001b[0m   7.6MB /  ??.?MB @   2.5MB/s  3.1s\u001b[2K\u001b[1A\u001b[2K\u001b[1A\u001b[2K\u001b[0G[+] 3.2s\n",
      "conda-forge/linux-64 \u001b[90m━━━━━━╸\u001b[0m\u001b[33m━━━━━━━━━━━━━━━━\u001b[0m  12.4MB /  ??.?MB @   3.9MB/s  3.2s\n",
      "conda-forge/noarch   \u001b[33m━━━━━━━━━╸\u001b[0m\u001b[90m━━━━━━━━━━━━━\u001b[0m   7.9MB /  ??.?MB @   2.5MB/s  3.2s\u001b[2K\u001b[1A\u001b[2K\u001b[1A\u001b[2K\u001b[0G[+] 3.3s\n",
      "conda-forge/linux-64 \u001b[90m━━━━━━━━╸\u001b[0m\u001b[33m━━━━━━━━━━━━━━\u001b[0m  12.9MB /  ??.?MB @   3.9MB/s  3.3s\n",
      "conda-forge/noarch   \u001b[33m━━━━━━━━━━━╸\u001b[0m\u001b[90m━━━━━━━━━━━\u001b[0m   8.1MB /  ??.?MB @   2.5MB/s  3.3s\u001b[2K\u001b[1A\u001b[2K\u001b[1A\u001b[2K\u001b[0G[+] 3.4s\n",
      "conda-forge/linux-64 \u001b[90m━━━━━━━━━━╸\u001b[0m\u001b[33m━━━━━━━━━━━━\u001b[0m  13.3MB /  ??.?MB @   4.0MB/s  3.4s\n",
      "conda-forge/noarch   \u001b[33m━━━━━━━━━━━━━╸\u001b[0m\u001b[90m━━━━━━━━━\u001b[0m   8.4MB /  ??.?MB @   2.5MB/s  3.4s\u001b[2K\u001b[1A\u001b[2K\u001b[1A\u001b[2K\u001b[0G[+] 3.5s\n",
      "conda-forge/linux-64 \u001b[90m━━━━━━━━━━━━━╸\u001b[0m\u001b[33m━━━━━━━━━\u001b[0m  13.8MB /  ??.?MB @   4.0MB/s  3.5s\n",
      "conda-forge/noarch   \u001b[33m━━━━━━━━━━━━━━━╸\u001b[0m\u001b[90m━━━━━━━\u001b[0m   8.7MB /  ??.?MB @   2.5MB/s  3.5s\u001b[2K\u001b[1A\u001b[2K\u001b[1A\u001b[2K\u001b[0G[+] 3.6s\n",
      "conda-forge/linux-64 \u001b[33m━━━━━━━━━╸\u001b[0m\u001b[90m━━━━━━━━━━━━━\u001b[0m  14.3MB /  ??.?MB @   4.0MB/s  3.6s\n",
      "conda-forge/noarch   \u001b[90m━╸\u001b[0m\u001b[33m━━━━━━━━━━━━━━━╸\u001b[0m\u001b[90m━━━━━\u001b[0m   8.9MB /  ??.?MB @   2.5MB/s  3.6s\u001b[2K\u001b[1A\u001b[2K\u001b[1A\u001b[2K\u001b[0G[+] 3.7s\n",
      "conda-forge/linux-64 \u001b[33m━━━━━━━━━━━╸\u001b[0m\u001b[90m━━━━━━━━━━━\u001b[0m  14.7MB /  ??.?MB @   4.0MB/s  3.7s\n",
      "conda-forge/noarch   \u001b[90m━━━━╸\u001b[0m\u001b[33m━━━━━━━━━━━━━━━╸\u001b[0m\u001b[90m━━\u001b[0m   9.2MB /  ??.?MB @   2.5MB/s  3.7s\u001b[2K\u001b[1A\u001b[2K\u001b[1A\u001b[2K\u001b[0G[+] 3.8s\n",
      "conda-forge/linux-64 \u001b[33m━━━━━━━━━━━━━╸\u001b[0m\u001b[90m━━━━━━━━━\u001b[0m  15.0MB /  ??.?MB @   4.0MB/s  3.8s\n",
      "conda-forge/noarch   \u001b[90m━━━━━━╸\u001b[0m\u001b[33m━━━━━━━━━━━━━━━━\u001b[0m   9.4MB /  ??.?MB @   2.5MB/s  3.8s\u001b[2K\u001b[1A\u001b[2K\u001b[1A\u001b[2K\u001b[0G[+] 3.9s\n",
      "conda-forge/linux-64 \u001b[33m━━━━━━━━━━━━━━━╸\u001b[0m\u001b[90m━━━━━━━\u001b[0m  15.4MB /  ??.?MB @   4.0MB/s  3.9s\n",
      "conda-forge/noarch   \u001b[90m━━━━━━━━╸\u001b[0m\u001b[33m━━━━━━━━━━━━━━\u001b[0m   9.7MB /  ??.?MB @   2.5MB/s  3.9s\u001b[2K\u001b[1A\u001b[2K\u001b[1A\u001b[2K\u001b[0G[+] 4.0s\n",
      "conda-forge/linux-64 \u001b[90m━━╸\u001b[0m\u001b[33m━━━━━━━━━━━━━━━╸\u001b[0m\u001b[90m━━━━\u001b[0m  15.8MB /  ??.?MB @   4.0MB/s  4.0s\n",
      "conda-forge/noarch   \u001b[90m━━━━━━━━━━╸\u001b[0m\u001b[33m━━━━━━━━━━━━\u001b[0m  10.0MB /  ??.?MB @   2.5MB/s  4.0s\u001b[2K\u001b[1A\u001b[2K\u001b[1A\u001b[2K\u001b[0G[+] 4.1s\n",
      "conda-forge/linux-64 \u001b[90m━━━╸\u001b[0m\u001b[33m━━━━━━━━━━━━━━━╸\u001b[0m\u001b[90m━━━\u001b[0m  16.0MB /  ??.?MB @   4.0MB/s  4.1s\n",
      "conda-forge/noarch   \u001b[90m━━━━━━━━━━━╸\u001b[0m\u001b[33m━━━━━━━━━━━\u001b[0m  10.2MB /  ??.?MB @   2.5MB/s  4.1s\u001b[2K\u001b[1A\u001b[2K\u001b[1A\u001b[2K\u001b[0G[+] 4.2s\n",
      "conda-forge/linux-64 \u001b[90m━━━╸\u001b[0m\u001b[33m━━━━━━━━━━━━━━━╸\u001b[0m\u001b[90m━━━\u001b[0m  16.0MB /  ??.?MB @   4.0MB/s  4.2s\n",
      "conda-forge/noarch   \u001b[90m━━━━━━━━━━━╸\u001b[0m\u001b[33m━━━━━━━━━━━\u001b[0m  10.2MB /  ??.?MB @   2.5MB/s  4.2s\u001b[2K\u001b[1A\u001b[2K\u001b[1A\u001b[2K\u001b[0G[+] 4.3s\n",
      "conda-forge/linux-64 \u001b[90m━━━╸\u001b[0m\u001b[33m━━━━━━━━━━━━━━━╸\u001b[0m\u001b[90m━━━\u001b[0m  16.0MB /  ??.?MB @   4.0MB/s  4.3s\n",
      "conda-forge/noarch   \u001b[90m━━━━━━━━━━━╸\u001b[0m\u001b[33m━━━━━━━━━━━\u001b[0m  10.2MB /  ??.?MB @   2.5MB/s  4.3s\u001b[2K\u001b[1A\u001b[2K\u001b[1A\u001b[2K\u001b[0G[+] 4.4s\n",
      "conda-forge/linux-64 \u001b[90m━━━╸\u001b[0m\u001b[33m━━━━━━━━━━━━━━━╸\u001b[0m\u001b[90m━━━\u001b[0m  16.0MB /  ??.?MB @   4.0MB/s  4.4s\n",
      "conda-forge/noarch   \u001b[90m━━━━━━━━━━━╸\u001b[0m\u001b[33m━━━━━━━━━━━\u001b[0m  10.2MB /  ??.?MB @   2.5MB/s  4.4s\u001b[2K\u001b[1A\u001b[2K\u001b[1A\u001b[2K\u001b[0G[+] 4.5s\n",
      "conda-forge/linux-64 \u001b[90m━━━╸\u001b[0m\u001b[33m━━━━━━━━━━━━━━━╸\u001b[0m\u001b[90m━━━\u001b[0m  16.0MB /  ??.?MB @   4.0MB/s  4.5s\n",
      "conda-forge/noarch   \u001b[90m━━━━━━━━━━━╸\u001b[0m\u001b[33m━━━━━━━━━━━\u001b[0m  10.2MB /  ??.?MB @   2.5MB/s  4.5s\u001b[2K\u001b[1A\u001b[2K\u001b[1A\u001b[2K\u001b[0G[+] 4.6s\n",
      "conda-forge/linux-64 \u001b[90m━━━╸\u001b[0m\u001b[33m━━━━━━━━━━━━━━━╸\u001b[0m\u001b[90m━━━\u001b[0m  16.0MB /  ??.?MB @   4.0MB/s  4.6s\n",
      "conda-forge/noarch   \u001b[90m━━━━━━━━━━━╸\u001b[0m\u001b[33m━━━━━━━━━━━\u001b[0m  10.2MB /  ??.?MB @   2.5MB/s  4.6s\u001b[2K\u001b[1A\u001b[2K\u001b[1A\u001b[2K\u001b[0G[+] 4.7s\n",
      "conda-forge/linux-64 \u001b[90m━━━╸\u001b[0m\u001b[33m━━━━━━━━━━━━━━━╸\u001b[0m\u001b[90m━━━\u001b[0m  16.0MB /  ??.?MB @   4.0MB/s  4.7s\n",
      "conda-forge/noarch   \u001b[90m━━━━━━━━━━━╸\u001b[0m\u001b[33m━━━━━━━━━━━\u001b[0m  10.2MB /  ??.?MB @   2.5MB/s  4.7s\u001b[2K\u001b[1A\u001b[2K\u001b[1A\u001b[2K\u001b[0G[+] 4.8s\n",
      "conda-forge/linux-64 \u001b[90m━━━╸\u001b[0m\u001b[33m━━━━━━━━━━━━━━━╸\u001b[0m\u001b[90m━━━\u001b[0m  16.0MB /  ??.?MB @   4.0MB/s  4.8s\n",
      "conda-forge/noarch   \u001b[90m━━━━━━━━━━━╸\u001b[0m\u001b[33m━━━━━━━━━━━\u001b[0m  10.2MB /  ??.?MB @   2.5MB/s  4.8s\u001b[2K\u001b[1A\u001b[2K\u001b[1A\u001b[2K\u001b[0G[+] 4.9s\n",
      "conda-forge/linux-64 \u001b[90m━━╸\u001b[0m\u001b[33m━━━━━━━━━━━━━━━╸\u001b[0m\u001b[90m━━━\u001b[0m  16.0MB @   4.0MB/s             4.9s\n",
      "conda-forge/noarch   ━━━━━━━━━━━━━━━━━━━━━━  10.2MB @   2.5MB/s Finalizing  4.9s\u001b[2K\u001b[1A\u001b[2K\u001b[1A\u001b[2K\u001b[0G[+] 5.0s\n",
      "conda-forge/linux-64 \u001b[90m━━━╸\u001b[0m\u001b[33m━━━━━━━━━━━━━━━╸\u001b[0m\u001b[90m━━━\u001b[0m  16.0MB /  ??.?MB @   4.0MB/s  5.0s\u001b[2K\u001b[1A\u001b[2K\u001b[0G[+] 5.1s\n",
      "conda-forge/linux-64 \u001b[90m━━━╸\u001b[0m\u001b[33m━━━━━━━━━━━━━━━╸\u001b[0m\u001b[90m━━━\u001b[0m  16.0MB /  ??.?MB @   4.0MB/s  5.1s\u001b[2K\u001b[1A\u001b[2K\u001b[0G[+] 5.2s\n",
      "conda-forge/linux-64 \u001b[90m━━━╸\u001b[0m\u001b[33m━━━━━━━━━━━━━━━╸\u001b[0m\u001b[90m━━━\u001b[0m  16.0MB /  ??.?MB @   4.0MB/s  5.2s\u001b[2K\u001b[1A\u001b[2K\u001b[0G[+] 5.3s\n",
      "conda-forge/linux-64 \u001b[90m━━━╸\u001b[0m\u001b[33m━━━━━━━━━━━━━━━╸\u001b[0m\u001b[90m━━━\u001b[0m  16.0MB /  ??.?MB @   4.0MB/s  5.3s\u001b[2K\u001b[1A\u001b[2K\u001b[0G[+] 5.4s\n",
      "conda-forge/linux-64 \u001b[90m━━━╸\u001b[0m\u001b[33m━━━━━━━━━━━━━━━╸\u001b[0m\u001b[90m━━━\u001b[0m  16.0MB /  ??.?MB @   4.0MB/s  5.4s\u001b[2K\u001b[1A\u001b[2K\u001b[0G[+] 5.5s\n",
      "conda-forge/linux-64 \u001b[90m━━━╸\u001b[0m\u001b[33m━━━━━━━━━━━━━━━╸\u001b[0m\u001b[90m━━━\u001b[0m  16.0MB /  ??.?MB @   4.0MB/s  5.5s\u001b[2K\u001b[1A\u001b[2K\u001b[0G[+] 5.6s\n",
      "conda-forge/linux-64 \u001b[90m━━━╸\u001b[0m\u001b[33m━━━━━━━━━━━━━━━╸\u001b[0m\u001b[90m━━━\u001b[0m  16.0MB /  ??.?MB @   4.0MB/s  5.6s\u001b[2K\u001b[1A\u001b[2K\u001b[0G[+] 5.7s\n",
      "conda-forge/linux-64 \u001b[90m━━━╸\u001b[0m\u001b[33m━━━━━━━━━━━━━━━╸\u001b[0m\u001b[90m━━━\u001b[0m  16.0MB /  ??.?MB @   4.0MB/s  5.7s\u001b[2K\u001b[1A\u001b[2K\u001b[0G[+] 5.8s\n",
      "conda-forge/linux-64 \u001b[90m━━━╸\u001b[0m\u001b[33m━━━━━━━━━━━━━━━╸\u001b[0m\u001b[90m━━━\u001b[0m  16.0MB /  ??.?MB @   4.0MB/s  5.8s\u001b[2K\u001b[1A\u001b[2K\u001b[0G[+] 5.9s\n",
      "conda-forge/linux-64 \u001b[90m━━━╸\u001b[0m\u001b[33m━━━━━━━━━━━━━━━╸\u001b[0m\u001b[90m━━━\u001b[0m  16.0MB /  ??.?MB @   4.0MB/s  5.9s\u001b[2K\u001b[1A\u001b[2K\u001b[0G[+] 6.0s\n",
      "conda-forge/linux-64 \u001b[90m━━━╸\u001b[0m\u001b[33m━━━━━━━━━━━━━━━╸\u001b[0m\u001b[90m━━━\u001b[0m  16.0MB /  ??.?MB @   4.0MB/s  6.0s\u001b[2K\u001b[1A\u001b[2K\u001b[0G[+] 6.1s\n",
      "conda-forge/linux-64 \u001b[90m━━━╸\u001b[0m\u001b[33m━━━━━━━━━━━━━━━╸\u001b[0m\u001b[90m━━━\u001b[0m  16.0MB /  ??.?MB @   4.0MB/s  6.1s\u001b[2K\u001b[1A\u001b[2K\u001b[0Gconda-forge/noarch                                 @   2.5MB/s  4.9s\n",
      "[+] 6.2s\n",
      "conda-forge/linux-64 \u001b[90m━━━━━╸\u001b[0m\u001b[33m━━━━━━━━━━━━━━━╸\u001b[0m\u001b[90m━\u001b[0m  18.1MB /  ??.?MB @   2.9MB/s  6.2s\u001b[2K\u001b[1A\u001b[2K\u001b[0G[+] 6.3s\n",
      "conda-forge/linux-64 \u001b[90m━━━━━━━╸\u001b[0m\u001b[33m━━━━━━━━━━━━━━━\u001b[0m  18.8MB /  ??.?MB @   3.0MB/s  6.3s\u001b[2K\u001b[1A\u001b[2K\u001b[0G[+] 6.4s\n",
      "conda-forge/linux-64 \u001b[90m━━━━━━━━━╸\u001b[0m\u001b[33m━━━━━━━━━━━━━\u001b[0m  19.2MB /  ??.?MB @   3.0MB/s  6.4s\u001b[2K\u001b[1A\u001b[2K\u001b[0G[+] 6.5s\n",
      "conda-forge/linux-64 \u001b[90m━━━━━━━━━━━╸\u001b[0m\u001b[33m━━━━━━━━━━━\u001b[0m  19.7MB /  ??.?MB @   3.0MB/s  6.5s\u001b[2K\u001b[1A\u001b[2K\u001b[0G[+] 6.6s\n",
      "conda-forge/linux-64 \u001b[33m━━━━━━━━╸\u001b[0m\u001b[90m━━━━━━━━━━━━━━\u001b[0m  20.2MB /  ??.?MB @   3.1MB/s  6.6s\u001b[2K\u001b[1A\u001b[2K\u001b[0G[+] 6.7s\n",
      "conda-forge/linux-64 \u001b[33m━━━━━━━━━━╸\u001b[0m\u001b[90m━━━━━━━━━━━━\u001b[0m  20.7MB /  ??.?MB @   3.1MB/s  6.7s\u001b[2K\u001b[1A\u001b[2K\u001b[0G[+] 6.8s\n",
      "conda-forge/linux-64 \u001b[33m━━━━━━━━━━━━╸\u001b[0m\u001b[90m━━━━━━━━━━\u001b[0m  21.2MB /  ??.?MB @   3.1MB/s  6.8s\u001b[2K\u001b[1A\u001b[2K\u001b[0G[+] 6.9s\n",
      "conda-forge/linux-64 \u001b[33m━━━━━━━━━━━━━━╸\u001b[0m\u001b[90m━━━━━━━━\u001b[0m  21.6MB /  ??.?MB @   3.1MB/s  6.9s\u001b[2K\u001b[1A\u001b[2K\u001b[0G[+] 7.0s\n",
      "conda-forge/linux-64 \u001b[90m╸\u001b[0m\u001b[33m━━━━━━━━━━━━━━━╸\u001b[0m\u001b[90m━━━━━━\u001b[0m  22.1MB /  ??.?MB @   3.2MB/s  7.0s\u001b[2K\u001b[1A\u001b[2K\u001b[0G[+] 7.1s\n",
      "conda-forge/linux-64 \u001b[90m━━━╸\u001b[0m\u001b[33m━━━━━━━━━━━━━━━╸\u001b[0m\u001b[90m━━━\u001b[0m  22.6MB /  ??.?MB @   3.2MB/s  7.1s\u001b[2K\u001b[1A\u001b[2K\u001b[0G[+] 7.2s\n",
      "conda-forge/linux-64 \u001b[90m━━━━━╸\u001b[0m\u001b[33m━━━━━━━━━━━━━━━╸\u001b[0m\u001b[90m━\u001b[0m  23.1MB /  ??.?MB @   3.2MB/s  7.2s\u001b[2K\u001b[1A\u001b[2K\u001b[0G[+] 7.3s\n",
      "conda-forge/linux-64 \u001b[90m━━━━━━╸\u001b[0m\u001b[33m━━━━━━━━━━━━━━━━\u001b[0m  23.3MB /  ??.?MB @   3.2MB/s  7.3s\u001b[2K\u001b[1A\u001b[2K\u001b[0G[+] 7.4s\n",
      "conda-forge/linux-64 \u001b[90m━━━━━━━━╸\u001b[0m\u001b[33m━━━━━━━━━━━━━━\u001b[0m  23.8MB /  ??.?MB @   3.2MB/s  7.4s\u001b[2K\u001b[1A\u001b[2K\u001b[0G[+] 7.5s\n",
      "conda-forge/linux-64 \u001b[90m━━━━━━━━━━╸\u001b[0m\u001b[33m━━━━━━━━━━━━\u001b[0m  24.2MB /  ??.?MB @   3.2MB/s  7.5s\u001b[2K\u001b[1A\u001b[2K\u001b[0G[+] 7.6s\n",
      "conda-forge/linux-64 \u001b[90m━━━━━━━━━━━━━╸\u001b[0m\u001b[33m━━━━━━━━━\u001b[0m  24.7MB /  ??.?MB @   3.3MB/s  7.6s\u001b[2K\u001b[1A\u001b[2K\u001b[0G[+] 7.7s\n",
      "conda-forge/linux-64 \u001b[33m━━━━━━━━━╸\u001b[0m\u001b[90m━━━━━━━━━━━━━\u001b[0m  25.3MB /  ??.?MB @   3.3MB/s  7.7s\u001b[2K\u001b[1A\u001b[2K\u001b[0G[+] 7.8s\n",
      "conda-forge/linux-64 \u001b[33m━━━━━━━━━━━╸\u001b[0m\u001b[90m━━━━━━━━━━━\u001b[0m  25.9MB /  ??.?MB @   3.3MB/s  7.8s\u001b[2K\u001b[1A\u001b[2K\u001b[0G[+] 7.9s\n",
      "conda-forge/linux-64 \u001b[33m━━━━━━━━━━━━━╸\u001b[0m\u001b[90m━━━━━━━━━\u001b[0m  26.4MB /  ??.?MB @   3.4MB/s  7.9s\u001b[2K\u001b[1A\u001b[2K\u001b[0G[+] 8.0s\n",
      "conda-forge/linux-64 \u001b[33m━━━━━━━━━━━━━━━╸\u001b[0m\u001b[90m━━━━━━━\u001b[0m  26.9MB /  ??.?MB @   3.4MB/s  8.0s\u001b[2K\u001b[1A\u001b[2K\u001b[0G[+] 8.1s\n",
      "conda-forge/linux-64 \u001b[90m━━╸\u001b[0m\u001b[33m━━━━━━━━━━━━━━━╸\u001b[0m\u001b[90m━━━━\u001b[0m  27.5MB /  ??.?MB @   3.4MB/s  8.1s\u001b[2K\u001b[1A\u001b[2K\u001b[0G[+] 8.2s\n",
      "conda-forge/linux-64 \u001b[90m━━╸\u001b[0m\u001b[33m━━━━━━━━━━━━━━━╸\u001b[0m\u001b[90m━━━━\u001b[0m  27.5MB /  ??.?MB @   3.4MB/s  8.2s\u001b[2K\u001b[1A\u001b[2K\u001b[0G[+] 8.3s\n",
      "conda-forge/linux-64 \u001b[90m━━╸\u001b[0m\u001b[33m━━━━━━━━━━━━━━━╸\u001b[0m\u001b[90m━━━━\u001b[0m  27.5MB /  ??.?MB @   3.4MB/s  8.3s\u001b[2K\u001b[1A\u001b[2K\u001b[0G[+] 8.4s\n",
      "conda-forge/linux-64 \u001b[90m━━╸\u001b[0m\u001b[33m━━━━━━━━━━━━━━━╸\u001b[0m\u001b[90m━━━━\u001b[0m  27.5MB /  ??.?MB @   3.4MB/s  8.4s\u001b[2K\u001b[1A\u001b[2K\u001b[0G[+] 8.5s\n",
      "conda-forge/linux-64 \u001b[90m━━╸\u001b[0m\u001b[33m━━━━━━━━━━━━━━━╸\u001b[0m\u001b[90m━━━━\u001b[0m  27.5MB /  ??.?MB @   3.4MB/s  8.5s\u001b[2K\u001b[1A\u001b[2K\u001b[0G[+] 8.6s\n",
      "conda-forge/linux-64 \u001b[90m━━╸\u001b[0m\u001b[33m━━━━━━━━━━━━━━━╸\u001b[0m\u001b[90m━━━━\u001b[0m  27.5MB /  ??.?MB @   3.4MB/s  8.6s\u001b[2K\u001b[1A\u001b[2K\u001b[0G[+] 8.7s\n",
      "conda-forge/linux-64 \u001b[90m━━╸\u001b[0m\u001b[33m━━━━━━━━━━━━━━━╸\u001b[0m\u001b[90m━━━━\u001b[0m  27.5MB /  ??.?MB @   3.4MB/s  8.7s\u001b[2K\u001b[1A\u001b[2K\u001b[0G[+] 8.8s\n",
      "conda-forge/linux-64 \u001b[90m━━╸\u001b[0m\u001b[33m━━━━━━━━━━━━━━━╸\u001b[0m\u001b[90m━━━━\u001b[0m  27.5MB /  ??.?MB @   3.4MB/s  8.8s\u001b[2K\u001b[1A\u001b[2K\u001b[0G[+] 8.9s\n",
      "conda-forge/linux-64 \u001b[90m━━╸\u001b[0m\u001b[33m━━━━━━━━━━━━━━━╸\u001b[0m\u001b[90m━━━━\u001b[0m  27.5MB /  ??.?MB @   3.4MB/s  8.9s\u001b[2K\u001b[1A\u001b[2K\u001b[0G[+] 9.0s\n",
      "conda-forge/linux-64 \u001b[90m━━╸\u001b[0m\u001b[33m━━━━━━━━━━━━━━━╸\u001b[0m\u001b[90m━━━━\u001b[0m  27.5MB /  ??.?MB @   3.4MB/s  9.0s\u001b[2K\u001b[1A\u001b[2K\u001b[0G[+] 9.1s\n",
      "conda-forge/linux-64 \u001b[90m━━╸\u001b[0m\u001b[33m━━━━━━━━━━━━━━━╸\u001b[0m\u001b[90m━━━━\u001b[0m  27.5MB /  ??.?MB @   3.4MB/s  9.1s\u001b[2K\u001b[1A\u001b[2K\u001b[0G[+] 9.2s\n",
      "conda-forge/linux-64 \u001b[90m━━╸\u001b[0m\u001b[33m━━━━━━━━━━━━━━━╸\u001b[0m\u001b[90m━━━━\u001b[0m  27.5MB /  ??.?MB @   3.4MB/s  9.2s\u001b[2K\u001b[1A\u001b[2K\u001b[0G[+] 9.3s\n",
      "conda-forge/linux-64 \u001b[90m━━╸\u001b[0m\u001b[33m━━━━━━━━━━━━━━━╸\u001b[0m\u001b[90m━━━━\u001b[0m  27.5MB /  ??.?MB @   3.4MB/s  9.3s\u001b[2K\u001b[1A\u001b[2K\u001b[0G[+] 9.4s\n",
      "conda-forge/linux-64 \u001b[90m━━╸\u001b[0m\u001b[33m━━━━━━━━━━━━━━━╸\u001b[0m\u001b[90m━━━━\u001b[0m  27.5MB /  ??.?MB @   3.4MB/s  9.4s\u001b[2K\u001b[1A\u001b[2K\u001b[0G[+] 9.5s\n",
      "conda-forge/linux-64 \u001b[90m━━╸\u001b[0m\u001b[33m━━━━━━━━━━━━━━━╸\u001b[0m\u001b[90m━━━━\u001b[0m  27.5MB /  ??.?MB @   3.4MB/s  9.5s\u001b[2K\u001b[1A\u001b[2K\u001b[0G[+] 9.6s\n",
      "conda-forge/linux-64 \u001b[90m━━╸\u001b[0m\u001b[33m━━━━━━━━━━━━━━━╸\u001b[0m\u001b[90m━━━━\u001b[0m  27.5MB /  ??.?MB @   3.4MB/s  9.6s\u001b[2K\u001b[1A\u001b[2K\u001b[0G[+] 9.7s\n",
      "conda-forge/linux-64 \u001b[90m━━╸\u001b[0m\u001b[33m━━━━━━━━━━━━━━━╸\u001b[0m\u001b[90m━━━━\u001b[0m  27.5MB /  ??.?MB @   3.4MB/s  9.7s\u001b[2K\u001b[1A\u001b[2K\u001b[0G[+] 9.8s\n",
      "conda-forge/linux-64 \u001b[90m━━╸\u001b[0m\u001b[33m━━━━━━━━━━━━━━━╸\u001b[0m\u001b[90m━━━━\u001b[0m  27.5MB /  ??.?MB @   3.4MB/s  9.8s\u001b[2K\u001b[1A\u001b[2K\u001b[0G[+] 9.9s\n",
      "conda-forge/linux-64 \u001b[90m━━╸\u001b[0m\u001b[33m━━━━━━━━━━━━━━━╸\u001b[0m\u001b[90m━━━━\u001b[0m  27.5MB /  ??.?MB @   3.4MB/s  9.9s\u001b[2K\u001b[1A\u001b[2K\u001b[0G[+] 10.0s\n",
      "conda-forge/linux-64 \u001b[90m━━╸\u001b[0m\u001b[33m━━━━━━━━━━━━━━━╸\u001b[0m\u001b[90m━━━━\u001b[0m  27.5MB /  ??.?MB @   3.4MB/s 10.0s\u001b[2K\u001b[1A\u001b[2K\u001b[0G[+] 10.1s\n",
      "conda-forge/linux-64 \u001b[90m━━╸\u001b[0m\u001b[33m━━━━━━━━━━━━━━━╸\u001b[0m\u001b[90m━━━━\u001b[0m  27.5MB /  ??.?MB @   3.4MB/s 10.1s\u001b[2K\u001b[1A\u001b[2K\u001b[0G[+] 10.2s\n",
      "conda-forge/linux-64 \u001b[90m━━╸\u001b[0m\u001b[33m━━━━━━━━━━━━━━━╸\u001b[0m\u001b[90m━━━━\u001b[0m  27.5MB /  ??.?MB @   3.4MB/s 10.2s\u001b[2K\u001b[1A\u001b[2K\u001b[0G[+] 10.3s\n",
      "conda-forge/linux-64 \u001b[90m━━╸\u001b[0m\u001b[33m━━━━━━━━━━━━━━━╸\u001b[0m\u001b[90m━━━━\u001b[0m  27.5MB /  ??.?MB @   3.4MB/s 10.3s\u001b[2K\u001b[1A\u001b[2K\u001b[0G[+] 10.4s\n",
      "conda-forge/linux-64 \u001b[90m━━╸\u001b[0m\u001b[33m━━━━━━━━━━━━━━━╸\u001b[0m\u001b[90m━━━━\u001b[0m  27.5MB /  ??.?MB @   3.4MB/s 10.4s\u001b[2K\u001b[1A\u001b[2K\u001b[0G[+] 10.5s\n",
      "conda-forge/linux-64 \u001b[90m━━╸\u001b[0m\u001b[33m━━━━━━━━━━━━━━━╸\u001b[0m\u001b[90m━━━━\u001b[0m  27.5MB /  ??.?MB @   3.4MB/s 10.5s\u001b[2K\u001b[1A\u001b[2K\u001b[0G[+] 10.6s\n",
      "conda-forge/linux-64 \u001b[90m━━╸\u001b[0m\u001b[33m━━━━━━━━━━━━━━━╸\u001b[0m\u001b[90m━━━━\u001b[0m  27.5MB /  ??.?MB @   3.4MB/s 10.6s\u001b[2K\u001b[1A\u001b[2K\u001b[0G[+] 10.7s\n",
      "conda-forge/linux-64 \u001b[90m━━╸\u001b[0m\u001b[33m━━━━━━━━━━━━━━━╸\u001b[0m\u001b[90m━━━━\u001b[0m  27.5MB /  ??.?MB @   3.4MB/s 10.7s\u001b[2K\u001b[1A\u001b[2K\u001b[0G[+] 10.8s\n",
      "conda-forge/linux-64 \u001b[90m━━╸\u001b[0m\u001b[33m━━━━━━━━━━━━━━━╸\u001b[0m\u001b[90m━━━━\u001b[0m  27.5MB /  ??.?MB @   3.4MB/s 10.8s\u001b[2K\u001b[1A\u001b[2K\u001b[0G[+] 10.9s\n",
      "conda-forge/linux-64 \u001b[90m━━╸\u001b[0m\u001b[33m━━━━━━━━━━━━━━━╸\u001b[0m\u001b[90m━━━━\u001b[0m  27.5MB /  ??.?MB @   3.4MB/s 10.9s\u001b[2K\u001b[1A\u001b[2K\u001b[0G[+] 11.0s\n",
      "conda-forge/linux-64 ━━━━━━━━━━━━━━━━━━━━━━  27.6MB @   3.4MB/s Finalizing 11.0s\u001b[2K\u001b[1A\u001b[2K\u001b[0G[+] 11.1s\n",
      "conda-forge/linux-64 ━━━━━━━━━━━━━━━━━━━━━━  27.6MB @   3.4MB/s Finalizing 11.1s\u001b[2K\u001b[1A\u001b[2K\u001b[0G[+] 11.2s\n",
      "\u001b[2K\u001b[1A\u001b[2K\u001b[0G[+] 11.3s\n",
      "\u001b[2K\u001b[1A\u001b[2K\u001b[0G[+] 11.4s\n",
      "\u001b[2K\u001b[1A\u001b[2K\u001b[0G[+] 11.5s\n",
      "\u001b[2K\u001b[1A\u001b[2K\u001b[0G[+] 11.6s\n",
      "\u001b[2K\u001b[1A\u001b[2K\u001b[0G[+] 11.7s\n",
      "\u001b[2K\u001b[1A\u001b[2K\u001b[0G[+] 11.8s\n",
      "\u001b[2K\u001b[1A\u001b[2K\u001b[0G[+] 11.9s\n",
      "\u001b[2K\u001b[1A\u001b[2K\u001b[0G[+] 12.0s\n",
      "\u001b[2K\u001b[1A\u001b[2K\u001b[0G[+] 12.1s\n",
      "\u001b[2K\u001b[1A\u001b[2K\u001b[0G[+] 12.2s\n",
      "\u001b[2K\u001b[1A\u001b[2K\u001b[0G[+] 12.3s\n",
      "\u001b[2K\u001b[1A\u001b[2K\u001b[0G[+] 12.4s\n",
      "\u001b[2K\u001b[1A\u001b[2K\u001b[0G[+] 12.5s\n",
      "\u001b[2K\u001b[1A\u001b[2K\u001b[0G[+] 12.6s\n",
      "\u001b[2K\u001b[1A\u001b[2K\u001b[0G[+] 12.7s\n",
      "\u001b[2K\u001b[1A\u001b[2K\u001b[0G[+] 12.8s\n",
      "\u001b[2K\u001b[1A\u001b[2K\u001b[0G[+] 12.9s\n",
      "\u001b[2K\u001b[1A\u001b[2K\u001b[0G[+] 13.0s\n",
      "\u001b[2K\u001b[1A\u001b[2K\u001b[0G[+] 13.1s\n",
      "\u001b[2K\u001b[1A\u001b[2K\u001b[0G[+] 13.2s\n",
      "\u001b[2K\u001b[1A\u001b[2K\u001b[0G[+] 13.3s\n",
      "\u001b[2K\u001b[1A\u001b[2K\u001b[0G[+] 13.4s\n",
      "\u001b[2K\u001b[1A\u001b[2K\u001b[0G[+] 13.5s\n",
      "\u001b[2K\u001b[1A\u001b[2K\u001b[0G[+] 13.6s\n",
      "\u001b[2K\u001b[1A\u001b[2K\u001b[0G[+] 13.7s\n",
      "\u001b[2K\u001b[1A\u001b[2K\u001b[0G[+] 13.8s\n",
      "\u001b[2K\u001b[1A\u001b[2K\u001b[0G[+] 13.9s\n",
      "\u001b[2K\u001b[1A\u001b[2K\u001b[0G[+] 14.0s\n",
      "\u001b[2K\u001b[1A\u001b[2K\u001b[0G[+] 14.1s\n",
      "\u001b[2K\u001b[1A\u001b[2K\u001b[0G[+] 14.2s\n",
      "\u001b[2K\u001b[1A\u001b[2K\u001b[0G[+] 14.3s\n",
      "\u001b[2K\u001b[1A\u001b[2K\u001b[0G[+] 14.4s\n",
      "\u001b[2K\u001b[1A\u001b[2K\u001b[0G[+] 14.5s\n",
      "\u001b[2K\u001b[1A\u001b[2K\u001b[0G[+] 14.6s\n",
      "\u001b[2K\u001b[1A\u001b[2K\u001b[0Gconda-forge/linux-64                               @   3.4MB/s 11.2s\n",
      "\u001b[?25h\n",
      "Pinned packages:\n",
      "  - python 3.9.*\n",
      "\n",
      "\n",
      "Transaction\n",
      "\n",
      "  Prefix: /srv/conda/envs/notebook\n",
      "\n",
      "  Updating specs:\n",
      "\n",
      "   - hnswlib\n",
      "   - ca-certificates\n",
      "   - certifi\n",
      "   - openssl\n",
      "\n",
      "\n",
      "  Package              Version  Build           Channel                   Size\n",
      "────────────────────────────────────────────────────────────────────────────────\n",
      "  Install:\n",
      "────────────────────────────────────────────────────────────────────────────────\n",
      "\n",
      "\u001b[32m  + hnswlib        \u001b[00m      0.6.2  py39h7c9e3ff_5  conda-forge/linux-64     171kB\n",
      "\n",
      "  Upgrade:\n",
      "────────────────────────────────────────────────────────────────────────────────\n",
      "\n",
      "\u001b[31m  - ca-certificates\u001b[00m  2022.9.14  ha878542_0      installed                     \n",
      "\u001b[32m  + ca-certificates\u001b[00m  2022.9.24  ha878542_0      conda-forge/linux-64     154kB\n",
      "\u001b[31m  - certifi        \u001b[00m  2022.9.14  pyhd8ed1ab_0    installed                     \n",
      "\u001b[32m  + certifi        \u001b[00m  2022.9.24  pyhd8ed1ab_0    conda-forge/noarch       159kB\n",
      "\u001b[31m  - numpy          \u001b[00m     1.23.3  py39hba7629e_0  installed                     \n",
      "\u001b[32m  + numpy          \u001b[00m     1.23.4  py39h3d75532_1  conda-forge/linux-64       7MB\n",
      "\u001b[31m  - openssl        \u001b[00m     1.1.1q  h166bdaf_0      installed                     \n",
      "\u001b[32m  + openssl        \u001b[00m     1.1.1s  h166bdaf_0      conda-forge/linux-64       2MB\n",
      "\n",
      "  Summary:\n",
      "\n",
      "  Install: 1 packages\n",
      "  Upgrade: 4 packages\n",
      "\n",
      "  Total download: 10MB\n",
      "\n",
      "────────────────────────────────────────────────────────────────────────────────\n",
      "\n",
      "\u001b[?25l\u001b[2K\u001b[0G[+] 0.0s\n",
      "Downloading      \u001b[90m━━━━━━━━━━━━━━━━━━━━━━━\u001b[0m   0.0 B                            0.0s\n",
      "Extracting       \u001b[90m━━━━━━━━━━━━━━━━━━━━━━━\u001b[0m       0                            0.0s\u001b[2K\u001b[1A\u001b[2K\u001b[1A\u001b[2K\u001b[0G[+] 0.1s\n",
      "Downloading  (5) \u001b[33m━━━━━━━━━━━━━━━━━━━━━━━\u001b[0m   0.0 B ca-certificates            0.0s\n",
      "Extracting       \u001b[90m━━━━━━━━━━━━━━━━━━━━━━━\u001b[0m       0                            0.0s\u001b[2K\u001b[1A\u001b[2K\u001b[1A\u001b[2K\u001b[0Gcertifi                                            158.7kB @ 936.8kB/s  0.2s\n",
      "ca-certificates                                    153.9kB @ 844.1kB/s  0.2s\n",
      "[+] 0.2s\n",
      "Downloading  (3) \u001b[33m━━━━━━━━━━━━━━━━━━━━━━━\u001b[0m 312.6kB hnswlib                    0.1s\n",
      "Extracting   (2) \u001b[90m━━━━━━╸\u001b[0m\u001b[33m━━━━━━━━━━━━━━━━\u001b[0m       0 ca-certificates            0.0s\u001b[2K\u001b[1A\u001b[2K\u001b[1A\u001b[2K\u001b[0Gopenssl                                              2.2MB @  10.7MB/s  0.2s\n",
      "numpy                                                7.4MB @  28.3MB/s  0.3s\n",
      "hnswlib                                            171.1kB @ 618.7kB/s  0.3s\n",
      "[+] 0.3s\n",
      "Downloading      ━━━━━━━━━━━━━━━━━━━━━━━  10.1MB                            0.2s\n",
      "Extracting   (5) \u001b[90m━━━━━━━━╸\u001b[0m\u001b[33m━━━━━━━━━━━━━━\u001b[0m       0 ca-certificates            0.1s\u001b[2K\u001b[1A\u001b[2K\u001b[1A\u001b[2K\u001b[0G[+] 0.4s\n",
      "Downloading      ━━━━━━━━━━━━━━━━━━━━━━━  10.1MB                            0.2s\n",
      "Extracting   (3) ━━━━━━━━╸\u001b[33m━━━━━━━━━━━━━━\u001b[0m       2 hnswlib                    0.2s\u001b[2K\u001b[1A\u001b[2K\u001b[1A\u001b[2K\u001b[0G[+] 0.5s\n",
      "Downloading      ━━━━━━━━━━━━━━━━━━━━━━━  10.1MB                            0.2s\n",
      "Extracting   (2) ━━━━━━━━━━━━╸\u001b[33m━━━━━━━━━━\u001b[0m       3 numpy                      0.3s\u001b[2K\u001b[1A\u001b[2K\u001b[1A\u001b[2K\u001b[0G[+] 0.6s\n",
      "Downloading      ━━━━━━━━━━━━━━━━━━━━━━━  10.1MB                            0.2s\n",
      "Extracting   (1) ━━━━━━━━━━━━━━━━━╸\u001b[33m━━━━━\u001b[0m       4 numpy                      0.4s\u001b[2K\u001b[1A\u001b[2K\u001b[1A\u001b[2K\u001b[0G[+] 0.7s\n",
      "Downloading      ━━━━━━━━━━━━━━━━━━━━━━━  10.1MB                            0.2s\n",
      "Extracting   (1) ━━━━━━━━━━━━━━━━━╸\u001b[33m━━━━━\u001b[0m       4 numpy                      0.5s\u001b[2K\u001b[1A\u001b[2K\u001b[1A\u001b[2K\u001b[0G[+] 0.8s\n",
      "Downloading      ━━━━━━━━━━━━━━━━━━━━━━━  10.1MB                            0.2s\n",
      "Extracting   (1) ━━━━━━━━━━━━━━━━━╸\u001b[33m━━━━━\u001b[0m       4 numpy                      0.6s\u001b[2K\u001b[1A\u001b[2K\u001b[1A\u001b[2K\u001b[0G[+] 0.9s\n",
      "Downloading      ━━━━━━━━━━━━━━━━━━━━━━━  10.1MB                            0.2s\n",
      "Extracting   (1) ━━━━━━━━━━━━━━━━━╸\u001b[33m━━━━━\u001b[0m       4 numpy                      0.7s\u001b[2K\u001b[1A\u001b[2K\u001b[1A\u001b[2K\u001b[0G[+] 1.0s\n",
      "Downloading      ━━━━━━━━━━━━━━━━━━━━━━━  10.1MB                            0.2s\n",
      "Extracting   (1) ━━━━━━━━━━━━━━━━━╸\u001b[33m━━━━━\u001b[0m       4 numpy                      0.8s\u001b[2K\u001b[1A\u001b[2K\u001b[1A\u001b[2K\u001b[0G[+] 1.1s\n",
      "Downloading      ━━━━━━━━━━━━━━━━━━━━━━━  10.1MB                            0.2s\n",
      "Extracting   (1) ━━━━━━━━━━━━━━━━━╸\u001b[33m━━━━━\u001b[0m       4 numpy                      0.9s\u001b[2K\u001b[1A\u001b[2K\u001b[1A\u001b[2K\u001b[0G[+] 1.2s\n",
      "Downloading      ━━━━━━━━━━━━━━━━━━━━━━━  10.1MB                            0.2s\n",
      "Extracting   (1) ━━━━━━━━━━━━━━━━━╸\u001b[33m━━━━━\u001b[0m       4 numpy                      1.0s\u001b[2K\u001b[1A\u001b[2K\u001b[1A\u001b[2K\u001b[0G[+] 1.3s\n",
      "Downloading      ━━━━━━━━━━━━━━━━━━━━━━━  10.1MB                            0.2s\n",
      "Extracting   (1) ━━━━━━━━━━━━━━━━━╸\u001b[33m━━━━━\u001b[0m       4 numpy                      1.1s\u001b[2K\u001b[1A\u001b[2K\u001b[1A\u001b[2K\u001b[0G[+] 1.4s\n",
      "Downloading      ━━━━━━━━━━━━━━━━━━━━━━━  10.1MB                            0.2s\n",
      "Extracting   (1) ━━━━━━━━━━━━━━━━━╸\u001b[33m━━━━━\u001b[0m       4 numpy                      1.2s\u001b[2K\u001b[1A\u001b[2K\u001b[1A\u001b[2K\u001b[0G\u001b[?25hPreparing transaction: done\n",
      "Verifying transaction: done\n",
      "Executing transaction: done\n"
     ]
    }
   ],
   "source": [
    "! mamba install hnswlib -y"
   ]
  },
  {
   "cell_type": "code",
   "execution_count": 2,
   "id": "bf591c1a-ee17-4e9c-8e18-5f6a1b495ec0",
   "metadata": {
    "tags": []
   },
   "outputs": [
    {
     "name": "stdout",
     "output_type": "stream",
     "text": [
      "Collecting sentence_transformers\n",
      "  Using cached sentence_transformers-2.2.2-py3-none-any.whl\n",
      "Requirement already satisfied: tqdm in /srv/conda/envs/notebook/lib/python3.9/site-packages (from sentence_transformers) (4.64.1)\n",
      "Requirement already satisfied: scikit-learn in /srv/conda/envs/notebook/lib/python3.9/site-packages (from sentence_transformers) (1.1.2)\n",
      "Collecting sentencepiece\n",
      "  Using cached sentencepiece-0.1.97-cp39-cp39-manylinux_2_17_x86_64.manylinux2014_x86_64.whl (1.3 MB)\n",
      "Requirement already satisfied: huggingface-hub>=0.4.0 in /srv/conda/envs/notebook/lib/python3.9/site-packages (from sentence_transformers) (0.10.1)\n",
      "Requirement already satisfied: torch>=1.6.0 in /srv/conda/envs/notebook/lib/python3.9/site-packages (from sentence_transformers) (1.12.1.post200)\n",
      "Requirement already satisfied: torchvision in /srv/conda/envs/notebook/lib/python3.9/site-packages (from sentence_transformers) (0.13.0a0+8069656)\n",
      "Requirement already satisfied: transformers<5.0.0,>=4.6.0 in /srv/conda/envs/notebook/lib/python3.9/site-packages (from sentence_transformers) (4.24.0)\n",
      "Requirement already satisfied: numpy in /srv/conda/envs/notebook/lib/python3.9/site-packages (from sentence_transformers) (1.23.4)\n",
      "Requirement already satisfied: scipy in /srv/conda/envs/notebook/lib/python3.9/site-packages (from sentence_transformers) (1.9.1)\n",
      "Collecting nltk\n",
      "  Using cached nltk-3.7-py3-none-any.whl (1.5 MB)\n",
      "Requirement already satisfied: filelock in /srv/conda/envs/notebook/lib/python3.9/site-packages (from huggingface-hub>=0.4.0->sentence_transformers) (3.8.0)\n",
      "Requirement already satisfied: requests in /srv/conda/envs/notebook/lib/python3.9/site-packages (from huggingface-hub>=0.4.0->sentence_transformers) (2.28.1)\n",
      "Requirement already satisfied: typing-extensions>=3.7.4.3 in /srv/conda/envs/notebook/lib/python3.9/site-packages (from huggingface-hub>=0.4.0->sentence_transformers) (4.3.0)\n",
      "Requirement already satisfied: pyyaml>=5.1 in /srv/conda/envs/notebook/lib/python3.9/site-packages (from huggingface-hub>=0.4.0->sentence_transformers) (5.4.1)\n",
      "Requirement already satisfied: packaging>=20.9 in /srv/conda/envs/notebook/lib/python3.9/site-packages (from huggingface-hub>=0.4.0->sentence_transformers) (21.3)\n",
      "Requirement already satisfied: tokenizers!=0.11.3,<0.14,>=0.11.1 in /srv/conda/envs/notebook/lib/python3.9/site-packages (from transformers<5.0.0,>=4.6.0->sentence_transformers) (0.13.2)\n",
      "Requirement already satisfied: regex!=2019.12.17 in /srv/conda/envs/notebook/lib/python3.9/site-packages (from transformers<5.0.0,>=4.6.0->sentence_transformers) (2022.10.31)\n",
      "Requirement already satisfied: joblib in /srv/conda/envs/notebook/lib/python3.9/site-packages (from nltk->sentence_transformers) (1.2.0)\n",
      "Requirement already satisfied: click in /srv/conda/envs/notebook/lib/python3.9/site-packages (from nltk->sentence_transformers) (8.0.4)\n",
      "Requirement already satisfied: threadpoolctl>=2.0.0 in /srv/conda/envs/notebook/lib/python3.9/site-packages (from scikit-learn->sentence_transformers) (3.1.0)\n",
      "Requirement already satisfied: pillow!=8.3.*,>=5.3.0 in /srv/conda/envs/notebook/lib/python3.9/site-packages (from torchvision->sentence_transformers) (9.2.0)\n",
      "Requirement already satisfied: pyparsing!=3.0.5,>=2.0.2 in /srv/conda/envs/notebook/lib/python3.9/site-packages (from packaging>=20.9->huggingface-hub>=0.4.0->sentence_transformers) (3.0.9)\n",
      "Requirement already satisfied: charset-normalizer<3,>=2 in /srv/conda/envs/notebook/lib/python3.9/site-packages (from requests->huggingface-hub>=0.4.0->sentence_transformers) (2.1.1)\n",
      "Requirement already satisfied: certifi>=2017.4.17 in /srv/conda/envs/notebook/lib/python3.9/site-packages (from requests->huggingface-hub>=0.4.0->sentence_transformers) (2022.9.24)\n",
      "Requirement already satisfied: urllib3<1.27,>=1.21.1 in /srv/conda/envs/notebook/lib/python3.9/site-packages (from requests->huggingface-hub>=0.4.0->sentence_transformers) (1.26.11)\n",
      "Requirement already satisfied: idna<4,>=2.5 in /srv/conda/envs/notebook/lib/python3.9/site-packages (from requests->huggingface-hub>=0.4.0->sentence_transformers) (3.3)\n",
      "Installing collected packages: sentencepiece, nltk, sentence_transformers\n",
      "Successfully installed nltk-3.7 sentence_transformers-2.2.2 sentencepiece-0.1.97\n"
     ]
    }
   ],
   "source": [
    "!pip install sentence_transformers"
   ]
  },
  {
   "cell_type": "code",
   "execution_count": 3,
   "id": "c9c04fdf-2751-451b-b4ff-179a776bc172",
   "metadata": {},
   "outputs": [],
   "source": [
    "import hnswlib\n",
    "import numpy as np\n",
    "from pathlib import Path\n",
    "import pickle\n",
    "from IPython.display import Markdown\n",
    "from tqdm.auto import tqdm\n",
    "from sentence_transformers import SentenceTransformer\n",
    "import random\n",
    "import datetime\n",
    "import pandas as pd\n",
    "import re\n"
   ]
  },
  {
   "cell_type": "code",
   "execution_count": 4,
   "id": "ae292e72-ca7b-4072-93b6-bc2ca589920f",
   "metadata": {},
   "outputs": [],
   "source": [
    "model_id = \"multi-qa-mpnet-base-dot-v1\"\n",
    "model = SentenceTransformer(model_id)"
   ]
  },
  {
   "cell_type": "code",
   "execution_count": 5,
   "id": "7632de2d-50c0-46e9-827e-2387b8e681a6",
   "metadata": {},
   "outputs": [
    {
     "data": {
      "application/vnd.jupyter.widget-view+json": {
       "model_id": "1c243c1ede00415aa8d1d64d0175775a",
       "version_major": 2,
       "version_minor": 0
      },
      "text/plain": [
       "  0%|          | 0/390 [00:00<?, ?it/s]"
      ]
     },
     "metadata": {},
     "output_type": "display_data"
    }
   ],
   "source": [
    "paths = list(Path(\"segments\").glob(\"**/*.pickle\"))\n",
    "\n",
    "segments = []\n",
    "for path in tqdm(paths):\n",
    "    with open(path, \"rb\") as f:\n",
    "        segment_subset = pickle.load(f)                    \n",
    "        segments.extend(segment_subset)\n",
    "\n",
    "        \n",
    "duplicated_texts = pd.DataFrame(segments)[\"text\"].value_counts().reset_index()\n",
    "duplicated_texts_list = duplicated_texts[duplicated_texts[\"text\"] > 2][\"index\"].tolist()\n",
    "# filter out segments that appear often in the podcasts. They are not relevant\n",
    "\n",
    "segments = [x for x in segments \n",
    "            if x[\"text\"] not in duplicated_texts_list \n",
    "            and \"Unfortunately that doesn't exist in this world. We're really at the beginning of the regenerative agriculture\" not in  x[\"text\"]\n",
    "            and \"It's also not investment advice.\" not in x[\"text\"]\n",
    "            and \"So get ready, get a cup of coffee, a cup of tea,\" not in x[\"text\"]\n",
    "           ]\n",
    "\n",
    "dim = 768\n",
    "N = len(segments)\n",
    "p = hnswlib.Index(space='l2', dim=dim)  # possible options are l2, cosine or ip\n",
    "p.init_index(max_elements=N+1, ef_construction=100, M=16)\n",
    "p.add_items([x.pop(\"embedding\") for x in segments])"
   ]
  },
  {
   "cell_type": "code",
   "execution_count": 6,
   "id": "d2cf3b66-791e-4a37-a1c8-22bf0079738f",
   "metadata": {},
   "outputs": [
    {
     "ename": "ModuleNotFoundError",
     "evalue": "No module named 'fastbm25'",
     "output_type": "error",
     "traceback": [
      "\u001b[0;31m---------------------------------------------------------------------------\u001b[0m",
      "\u001b[0;31mModuleNotFoundError\u001b[0m                       Traceback (most recent call last)",
      "Cell \u001b[0;32mIn [6], line 1\u001b[0m\n\u001b[0;32m----> 1\u001b[0m \u001b[38;5;28;01mfrom\u001b[39;00m \u001b[38;5;21;01mfastbm25\u001b[39;00m \u001b[38;5;28;01mimport\u001b[39;00m fastbm25\n\u001b[1;32m      3\u001b[0m tokenized_corpus \u001b[38;5;241m=\u001b[39m [doc[\u001b[38;5;124m\"\u001b[39m\u001b[38;5;124mtext\u001b[39m\u001b[38;5;124m\"\u001b[39m]\u001b[38;5;241m.\u001b[39mlower()\u001b[38;5;241m.\u001b[39msplit(\u001b[38;5;124m\"\u001b[39m\u001b[38;5;124m \u001b[39m\u001b[38;5;124m\"\u001b[39m) \u001b[38;5;28;01mfor\u001b[39;00m doc \u001b[38;5;129;01min\u001b[39;00m segments]\n\u001b[1;32m      4\u001b[0m bm25_model \u001b[38;5;241m=\u001b[39m fastbm25(tokenized_corpus)\n",
      "\u001b[0;31mModuleNotFoundError\u001b[0m: No module named 'fastbm25'"
     ]
    }
   ],
   "source": [
    "from fastbm25 import fastbm25\n",
    "\n",
    "tokenized_corpus = [doc[\"text\"].lower().split(\" \") for doc in segments]\n",
    "bm25_model = fastbm25(tokenized_corpus)\n"
   ]
  },
  {
   "cell_type": "code",
   "execution_count": null,
   "id": "66e49e17-2735-43e5-a69f-79d707707a7c",
   "metadata": {},
   "outputs": [],
   "source": [
    "def highlight_matches(text, query):\n",
    "    for word in query.split():\n",
    "        word = word.replace(\"?\", \"\").lower()\n",
    "        text = re.sub(f\" {word} \", f\" **{word}** \", text, re.IGNORECASE)\n",
    "        text = re.sub(f\" {word.capitalize()} \", f\" **{word}** \", text, re.IGNORECASE)\n",
    "        # text = re.sub(f\" {word} \", f\" **{word}** \", text, re.IGNORECASE)\n",
    "    return text\n",
    "        \n",
    "\n",
    "def query(query: str, k=10):\n",
    "    embedding = model.encode(query)\n",
    "    labels, distances = p.knn_query(embedding, k=k)\n",
    "    if query.endswith(\"?\"):\n",
    "        results = [x for idx, x in enumerate(segments) if idx in labels[0]]\n",
    "    else:\n",
    "        results = bm25_model.top_k_sentence(query.lower().split(),k=k)\n",
    "        results = [x for idx, x in enumerate(segments) if idx in [x[1] for x in results]]\n",
    "    for result, distance in zip(results, distances[0]):\n",
    "        display(Markdown(f\"\"\"{result[\"meta\"][\"feed_meta\"][\"title\"]}  \n",
    "        **{result['meta']['title']}**  \n",
    "        **{datetime.timedelta(seconds=int(result['start']))}-{datetime.timedelta(seconds=int(result['end']))}**   \n",
    "        {highlight_matches(result['text'], query)}  \n",
    "        ---\"\"\"\n",
    "        ))"
   ]
  },
  {
   "cell_type": "code",
   "execution_count": 205,
   "id": "d2b4016e-e6e5-4944-9dc8-a0a11b6241a9",
   "metadata": {
    "tags": []
   },
   "outputs": [
    {
     "data": {
      "text/markdown": [
       "Investing in Regenerative Agriculture and Food  \n",
       "        **33 Thomas Rippel, using a blockchain to help Farmland Stewardship Organisations grow**  \n",
       "        **0:34:08-0:34:49**   \n",
       "        That's very interesting. Yes. I think that's very encouraging and necessary. Well necessary to some extent. In the end you know it is a fact that land prices have gone up substantially in the last especially in the last 20 years. In **germany** well I can give you specific numbers for the last 10 years. So in the past 10 years land prices in **germany** have gone up 150 percent. In neighboring Poland prices have gone up 700 percent. In Romania they've gone up 800 percent.  \n",
       "        ---"
      ],
      "text/plain": [
       "<IPython.core.display.Markdown object>"
      ]
     },
     "metadata": {},
     "output_type": "display_data"
    },
    {
     "data": {
      "text/markdown": [
       "Investing in Regenerative Agriculture and Food  \n",
       "        **33 Thomas Rippel, using a blockchain to help Farmland Stewardship Organisations grow**  \n",
       "        **0:34:25-0:35:12**   \n",
       "        especially in the last 20 years. In **germany** well I can give you specific numbers for the last 10 years. So in the past 10 years land prices in **germany** have gone up 150 percent. In neighboring Poland prices have gone up 700 percent. In Romania they've gone up 800 percent. So it's really really dramatic quite dramatic. And there's you know nothing a farmland stewardship organization can do about these market dynamics. The only thing we can do is to make sure that we buy the land and then it's secured for the long term. Yeah because that's the crux right.  \n",
       "        ---"
      ],
      "text/plain": [
       "<IPython.core.display.Markdown object>"
      ]
     },
     "metadata": {},
     "output_type": "display_data"
    },
    {
     "data": {
      "text/markdown": [
       "Investing in Regenerative Agriculture and Food  \n",
       "        **33 Thomas Rippel, using a blockchain to help Farmland Stewardship Organisations grow**  \n",
       "        **0:37:40-0:38:18**   \n",
       "        it you know they're so idealistic they would never do that. But let's think one generation down the line. They inherit these shares you know they have no personal connection to this anymore. And then then you're really facing danger. How do you get around them. Well there's a very interesting model also in **germany** by a syndicate that has found a legal way to get around this in that. So they're doing this for real estate for housing. And there's OK. How can I put this really simply.  \n",
       "        ---"
      ],
      "text/plain": [
       "<IPython.core.display.Markdown object>"
      ]
     },
     "metadata": {},
     "output_type": "display_data"
    },
    {
     "data": {
      "text/markdown": [
       "Investing in Regenerative Agriculture and Food  \n",
       "        **33 Thomas Rippel, using a blockchain to help Farmland Stewardship Organisations grow**  \n",
       "        **0:45:39-0:46:49**   \n",
       "        out to sustainable farmers right so where would you be buying so I'm buying these tokens and we're not going to go into all the technical details I will definitely post a link to the project in the description but so I'm buying the tokens where would terra fina buy the land is that Switzerland and bound because you're there or is it much more freely like it could also be **germany** or France or even further further abroad yeah so we are really looking at first at **germany** and France because there's these very well established farmland stewardship organizations that have the three that I'm looking at terra de lien in France that has existed for 10 years and been implementing this model of buying land and through and raising money through issued shares that offer no return so you would be partnering with with the with already established farmland stewardship organizations and helping them  \n",
       "        ---"
      ],
      "text/plain": [
       "<IPython.core.display.Markdown object>"
      ]
     },
     "metadata": {},
     "output_type": "display_data"
    },
    {
     "data": {
      "text/markdown": [
       "Investing in Regenerative Agriculture and Food  \n",
       "        **33 Thomas Rippel, using a blockchain to help Farmland Stewardship Organisations grow**  \n",
       "        **0:46:07-0:47:12**   \n",
       "        looking at first at **germany** and France because there's these very well established farmland stewardship organizations that have the three that I'm looking at terra de lien in France that has existed for 10 years and been implementing this model of buying land and through and raising money through issued shares that offer no return so you would be partnering with with the with already established farmland stewardship organizations and helping them basically to to grow right exactly so we would raise the capital through the issued tokens and then invest in those existing organizations that have a very very solid track record and those three organizations I'm looking at the B.O. Bodengen Ostershaft in **germany** Kulturland Genschlaff in Germany Kulturland Genschlaff that I have a very close relationship with and the board of directors has approved to  \n",
       "        ---"
      ],
      "text/plain": [
       "<IPython.core.display.Markdown object>"
      ]
     },
     "metadata": {},
     "output_type": "display_data"
    },
    {
     "data": {
      "text/markdown": [
       "Investing in Regenerative Agriculture and Food  \n",
       "        **33 Thomas Rippel, using a blockchain to help Farmland Stewardship Organisations grow**  \n",
       "        **0:46:41-0:47:45**   \n",
       "        basically to to grow right exactly so we would raise the capital through the issued tokens and then invest in those existing organizations that have a very very solid track record and those three organizations I'm looking at the B.O. Bodengen Ostershaft in **germany** Kulturland Genschlaff in **germany** Kulturland Genschlaff that I have a very close relationship with and the board of directors has approved to be to be part of this from the beginning so I already have one organization that is partnering and terra de lien in France they together they have invested more than a hundred million euros in land so we would invest in those organizations we would the money that we raise we invest directly in those organizations and through this legal framework of veto right on the sale of land and a right of first refusal if land would under some circumstances in  \n",
       "        ---"
      ],
      "text/plain": [
       "<IPython.core.display.Markdown object>"
      ]
     },
     "metadata": {},
     "output_type": "display_data"
    },
    {
     "data": {
      "text/markdown": [
       "Investing in Regenerative Agriculture and Food  \n",
       "        **Transition Finance for Farmers with Benedikt (his story, his vision and the farm)**  \n",
       "        **0:43:15-0:43:53**   \n",
       "        actually implementing one of these projects. Or am I wrong? Yeah. I mean, it took some motivation, I guess, to bring him over. But I mean, his way of doing agriculture is quite popular in Brazil, in Argentina, and also on a large scale. So it is being proven in a way there already. And he started a couple of projects in Europe, one in Spain, one in Switzerland, one in Portugal, and a few others. And then we are lucky to have him in **germany** as well.  \n",
       "        ---"
      ],
      "text/plain": [
       "<IPython.core.display.Markdown object>"
      ]
     },
     "metadata": {},
     "output_type": "display_data"
    },
    {
     "data": {
      "text/markdown": [
       "Investing in Regenerative Agriculture and Food  \n",
       "        **160 Benedikt Bösel, updates from the 3000h German farm in transition**  \n",
       "        **0:43:49-0:44:34**   \n",
       "        Let's go. So that's really beautiful. And I'm actually really, really grateful and happy for the partners that we have, the KTBL, the New School Institute, Enlightenment Institutes, there's really, you know, just great partners that help us gather some of the information and the data. And to be honest with you, even more so like, we have so many initiatives now in **germany** who do very similar things that we do, and they also gather the data. So I think that's really great because it's not just us, it's like a lot of different cool and progressive initiatives in **germany** that are looking in the same kind of philosophies and bringing different universities and different institutes into it also.  \n",
       "        ---"
      ],
      "text/plain": [
       "<IPython.core.display.Markdown object>"
      ]
     },
     "metadata": {},
     "output_type": "display_data"
    },
    {
     "data": {
      "text/markdown": [
       "Investing in Regenerative Agriculture and Food  \n",
       "        **160 Benedikt Bösel, updates from the 3000h German farm in transition**  \n",
       "        **0:44:05-0:44:57**   \n",
       "        And to be honest with you, even more so like, we have so many initiatives now in **germany** who do very similar things that we do, and they also gather the data. So I think that's really great because it's not just us, it's like a lot of different cool and progressive initiatives in **germany** that are looking in the same kind of philosophies and bringing different universities and different institutes into it also. So I think there's a huge momentum also in the gathering of data. And then of course, which is like for us, like a really strong focus is the question of what do we do with the data? Like we need the data, of course, but then, you know, we still live in the 21st century. So where we really bring it together is when we now use that to actually develop software,  \n",
       "        ---"
      ],
      "text/plain": [
       "<IPython.core.display.Markdown object>"
      ]
     },
     "metadata": {},
     "output_type": "display_data"
    },
    {
     "data": {
      "text/markdown": [
       "Investing in Regenerative Agriculture and Food  \n",
       "        **Transition Finance for Farmers with Benedikt - Jurrien Appers of Triodos Bank Investment Management**  \n",
       "        **0:01:23-0:02:00**   \n",
       "        space. They share their insights, how they would finance the speed-up of the regenerative transition on Benedikt's 1,000 hectares, which is almost 2,500 acres, farm in **germany** close to Berlin. This is an open process. We are sharing our lessons through the podcast episodes as we go along. We don't have the answers yet. That's a lot of questions. So please share with us any examples of transition finance you've seen, other inspiration, people to interview, etc. Get in touch via the contact page on the website, investinginregenerativeagriculture.com.  \n",
       "        ---"
      ],
      "text/plain": [
       "<IPython.core.display.Markdown object>"
      ]
     },
     "metadata": {},
     "output_type": "display_data"
    },
    {
     "data": {
      "text/markdown": [
       "Investing in Regenerative Agriculture and Food  \n",
       "        **77 Paul Gambill, paying farmers for storing carbon in their soils at Nori**  \n",
       "        **0:51:02-0:51:24**   \n",
       "        What do you, is it 5, 10, 15 years? My guess would be between 5 and 15 years before we reach like really, really big scale. Necessary scale. Yeah. I think it'll go faster than solar did. **germany** basically subsidized solar for the world. And then China took over. Yeah. Then China subsidized the overcapacity. Exactly.  \n",
       "        ---"
      ],
      "text/plain": [
       "<IPython.core.display.Markdown object>"
      ]
     },
     "metadata": {},
     "output_type": "display_data"
    },
    {
     "data": {
      "text/markdown": [
       "Investing in Regenerative Agriculture and Food  \n",
       "        **77 Paul Gambill, paying farmers for storing carbon in their soils at Nori**  \n",
       "        **0:51:14-0:51:35**   \n",
       "        Germany basically subsidized solar for the world. And then China took over. Yeah. Then China subsidized the overcapacity. Exactly. And so, but those were different times. But it wasn't a crazy amount. It wasn't 10 billion. I have to look at the numbers. But of course, the subsidies were enormous at the time.  \n",
       "        ---"
      ],
      "text/plain": [
       "<IPython.core.display.Markdown object>"
      ]
     },
     "metadata": {},
     "output_type": "display_data"
    },
    {
     "data": {
      "text/markdown": [
       "Investing in Regenerative Agriculture and Food  \n",
       "        **183 Johannes Scheibe on using carbon credits to transition from understocked and overgrazed to zero input grazing**  \n",
       "        **0:12:22-0:12:46**   \n",
       "        Yeah, exactly. But then you find a very, let's say, open mind or much more interested group of farmers in the UK. Like was that a sort of desperate move? Like, okay, we keep knocking on doors in **germany** and nobody opens the door. They keep saying, okay, animals should be in. What are you telling me? A grazing app? I don't need a grazing app. I need a barn app.  \n",
       "        ---"
      ],
      "text/plain": [
       "<IPython.core.display.Markdown object>"
      ]
     },
     "metadata": {},
     "output_type": "display_data"
    },
    {
     "data": {
      "text/markdown": [
       "Investing in Regenerative Agriculture and Food  \n",
       "        **Transition Finance for Farmers with Benedikt - Thomas Kliemt-Rippel, Kulturland Genossenschaft**  \n",
       "        **0:23:07-0:23:46**   \n",
       "        There's 200 families as members of that community supported farm. And they manage to support not just one person. So in **germany** now, you could maybe support not even one family with this, with 33 hectares. So you would on average need 60 hectares to support one family. Okay, conventional model, 60 hectares to support one family and probably one of the family members needs to work off farm to make it work. Yeah. And on Lüzsen and Höf, it supports 10 full-time positions. Wow. Right.  \n",
       "        ---"
      ],
      "text/plain": [
       "<IPython.core.display.Markdown object>"
      ]
     },
     "metadata": {},
     "output_type": "display_data"
    },
    {
     "data": {
      "text/markdown": [
       "Investing in Regenerative Agriculture and Food  \n",
       "        **Transition Finance for Farmers with Benedikt - Bert Mulder, Tomasu**  \n",
       "        **0:01:29-0:02:00**   \n",
       "        farmers. We are interviewing leading practitioners in the regenerative agriculture and food finance space. They shared our insights, how they would finance the speed up of the regenerative transition on Benedict's 1000 hectares, which is almost two and a half thousand acres farm in **germany** close to Berlin. This is an open process. We are sharing our lessons through the podcast episodes as we go along. We don't have the answers yet. Just a lot of questions.  \n",
       "        ---"
      ],
      "text/plain": [
       "<IPython.core.display.Markdown object>"
      ]
     },
     "metadata": {},
     "output_type": "display_data"
    },
    {
     "data": {
      "text/markdown": [
       "Investing in Regenerative Agriculture and Food  \n",
       "        **Transition Finance for Farmers with Benedikt - Gut&Bösel farm**  \n",
       "        **0:07:19-0:07:57**   \n",
       "        actually implementing one of these projects. Or am I wrong? Yeah. It took some motivation, I guess, to bring him over. But I mean, his way of doing agriculture is quite popular in Brazil, in Argentina, and also on a large scale. So it is being proven in a way there already. And he started a couple of projects in Europe, one in Spain, one in Switzerland, one in Portugal, and a few others. And then we are lucky to have him in **germany** as well.  \n",
       "        ---"
      ],
      "text/plain": [
       "<IPython.core.display.Markdown object>"
      ]
     },
     "metadata": {},
     "output_type": "display_data"
    },
    {
     "data": {
      "text/markdown": [
       "Farmerama  \n",
       "        **44: Radical roots, Slow Money, CSAs and Allies.**  \n",
       "        **0:19:00-0:19:57**   \n",
       "        and farming too, why is it so important to have a CSA cross-border event at this time? I told myself this morning I wouldn't use the word Brexit today. CSA beyond borders is not just about beyond the border, you know, whether hard or soft or whatever it is on the island of Ireland, but across the world. And this, Marasa and I met in Thessaloniki at a community-supported agriculture international event organised by Roisin and it was there that we plotted the idea to have this event. And my mother last week went to a CSA in **germany** next to where my brother lives in **germany** and the welcome that she received there and the on-the-ground effort to provide food, to live in a community where people have real relationships based on trust, on resilience and that kind of thing.  \n",
       "        ---"
      ],
      "text/plain": [
       "<IPython.core.display.Markdown object>"
      ]
     },
     "metadata": {},
     "output_type": "display_data"
    },
    {
     "data": {
      "text/markdown": [
       "Farmerama  \n",
       "        **44: Radical roots, Slow Money, CSAs and Allies.**  \n",
       "        **0:19:27-0:20:15**   \n",
       "        event organised by Roisin and it was there that we plotted the idea to have this event. And my mother last week went to a CSA in **germany** next to where my brother lives in **germany** and the welcome that she received there and the on-the-ground effort to provide food, to live in a community where people have real relationships based on trust, on resilience and that kind of thing. And we experienced it last night, staying with Jenny and her hospitality and meeting you this morning. And we know it from other CSAs that we've visited, be it in Ireland, be it in the UK, be it in Scotland, it doesn't matter what the names of the places are, the people are always the same.  \n",
       "        ---"
      ],
      "text/plain": [
       "<IPython.core.display.Markdown object>"
      ]
     },
     "metadata": {},
     "output_type": "display_data"
    },
    {
     "data": {
      "text/markdown": [
       "Farmerama  \n",
       "        **61: Fine Fleeces, Pasture Cropping and Land in Commons**  \n",
       "        **0:36:53-0:38:09**   \n",
       "        and we are just now in the final stages. In the next couple of weeks we will make the final agreements with the two couples who will be taking over this farm and we now have several farms that we are in the process of taking over and then looking for young people to farm. I think the way we have worked it out now is very much scalable without running the danger that it is going to get structurally corrupted. I think we put in a lot of safeguards there. I really do think that this can be a model that can be a solution for thousands of farms in **germany** but also outside of **germany** and I am very happy to share our know-how. I think it can be pretty much copy-pasted and also the infrastructure that we created in terms of the IT, we have worked very, very hard to keep developing that. It is still in prototype phase but by the middle of next year we should have a 2.0 version of the software  \n",
       "        ---"
      ],
      "text/plain": [
       "<IPython.core.display.Markdown object>"
      ]
     },
     "metadata": {},
     "output_type": "display_data"
    },
    {
     "data": {
      "text/markdown": [
       "Farmerama  \n",
       "        **61: Fine Fleeces, Pasture Cropping and Land in Commons**  \n",
       "        **0:37:27-0:38:45**   \n",
       "        there. I really do think that this can be a model that can be a solution for thousands of farms in **germany** but also outside of **germany** and I am very happy to share our know-how. I think it can be pretty much copy-pasted and also the infrastructure that we created in terms of the IT, we have worked very, very hard to keep developing that. It is still in prototype phase but by the middle of next year we should have a 2.0 version of the software ready where other users can use it. Individual farms could use the software just to run their own little crowd investing campaign. We are not going to charge the classical fee model of whatever, 5-7% or so on. We want this to be a commons-based tool. We are going to say, well, we think maybe we need about 3% or something like that to cover our costs but then it is up to you to decide if you can pay more or less than that.  \n",
       "        ---"
      ],
      "text/plain": [
       "<IPython.core.display.Markdown object>"
      ]
     },
     "metadata": {},
     "output_type": "display_data"
    }
   ],
   "source": [
    "query(\"What to do with potatoes?\", k=20, ) "
   ]
  },
  {
   "cell_type": "code",
   "execution_count": null,
   "id": "4aea093a-8d7d-41a2-a219-e6ed32251b3d",
   "metadata": {},
   "outputs": [],
   "source": []
  }
 ],
 "metadata": {
  "kernelspec": {
   "display_name": "Python [conda env:notebook] *",
   "language": "python",
   "name": "conda-env-notebook-py"
  },
  "language_info": {
   "codemirror_mode": {
    "name": "ipython",
    "version": 3
   },
   "file_extension": ".py",
   "mimetype": "text/x-python",
   "name": "python",
   "nbconvert_exporter": "python",
   "pygments_lexer": "ipython3",
   "version": "3.9.13"
  }
 },
 "nbformat": 4,
 "nbformat_minor": 5
}

{
 "cells": [
  {
   "cell_type": "code",
   "execution_count": 1,
   "id": "bc2f77a0-af58-4318-b0c5-9a79d657312e",
   "metadata": {},
   "outputs": [
    {
     "name": "stdout",
     "output_type": "stream",
     "text": [
      "Collecting feedparser\n",
      "  Using cached feedparser-6.0.10-py3-none-any.whl (81 kB)\n",
      "Collecting sgmllib3k\n",
      "  Using cached sgmllib3k-1.0.0-py3-none-any.whl\n",
      "Installing collected packages: sgmllib3k, feedparser\n",
      "Successfully installed feedparser-6.0.10 sgmllib3k-1.0.0\n",
      "Note: you may need to restart the kernel to use updated packages.\n"
     ]
    }
   ],
   "source": [
    "pip install feedparser\n"
   ]
  },
  {
   "cell_type": "code",
   "execution_count": 2,
   "id": "d2233997-f4f3-4026-b195-51ed287c95e1",
   "metadata": {},
   "outputs": [],
   "source": [
    "import feedparser\n",
    "import pandas as pd\n",
    "from pathlib import Path\n",
    "import functools\n",
    "import pathlib\n",
    "import shutil\n",
    "import requests\n",
    "from tqdm.auto import tqdm\n",
    "import requests\n",
    "import pickle\n",
    "DOWNLOAD_FOLDER = Path(\"data\")\n",
    "FEEDMETA = Path(\"feedmeta\")\n",
    "\n",
    "\n",
    "def download_episode(url, filename):\n",
    "    if not filename.exists() and filename.stem not in [x.stem for x in Path(\"transcriptions\").glob(\"**/*\")]:\n",
    "        r = requests.get(url, stream=True, allow_redirects=True)\n",
    "        if r.status_code != 200:\n",
    "            r.raise_for_status()  # Will only raise for 4xx codes, so...\n",
    "            raise RuntimeError(f\"Request to {url} returned status code {r.status_code}\")\n",
    "        file_size = int(r.headers.get('Content-Length', 0))\n",
    "\n",
    "        path = pathlib.Path(filename).expanduser().resolve()\n",
    "        path.parent.mkdir(parents=True, exist_ok=True)\n",
    "\n",
    "        desc = \"(Unknown total file size)\" if file_size == 0 else \"\"\n",
    "        r.raw.read = functools.partial(r.raw.read, decode_content=True)  # Decompress if needed\n",
    "        with tqdm.wrapattr(r.raw, \"read\", total=file_size, desc=desc, leave=False) as r_raw:\n",
    "            with path.open(\"wb\") as f:\n",
    "                shutil.copyfileobj(r_raw, f)"
   ]
  },
  {
   "cell_type": "code",
   "execution_count": 5,
   "id": "c2185ac7-6a52-44b6-b8dc-b5c88c2dedcc",
   "metadata": {
    "tags": []
   },
   "outputs": [
    {
     "data": {
      "application/vnd.jupyter.widget-view+json": {
       "model_id": "4199234219e245ffaf707d6f5f51ee7e",
       "version_major": 2,
       "version_minor": 0
      },
      "text/plain": [
       "Podcast:   0%|          | 0/2 [00:00<?, ?it/s]"
      ]
     },
     "metadata": {},
     "output_type": "display_data"
    },
    {
     "data": {
      "application/vnd.jupyter.widget-view+json": {
       "model_id": "de2106c8b3b34928b0c1635231c83faf",
       "version_major": 2,
       "version_minor": 0
      },
      "text/plain": [
       "Podcast Farmerama:   0%|          | 0/152 [00:00<?, ?it/s]"
      ]
     },
     "metadata": {},
     "output_type": "display_data"
    },
    {
     "data": {
      "application/vnd.jupyter.widget-view+json": {
       "model_id": "3a1e4d4398e6421a8d4abf43da86d3fa",
       "version_major": 2,
       "version_minor": 0
      },
      "text/plain": [
       "Podcast The Regenerative Agroforestry :   0%|          | 0/51 [00:00<?, ?it/s]"
      ]
     },
     "metadata": {},
     "output_type": "display_data"
    },
    {
     "data": {
      "application/vnd.jupyter.widget-view+json": {
       "model_id": "00011c3883b84098ad75f941099be015",
       "version_major": 2,
       "version_minor": 0
      },
      "text/plain": [
       "Podcast:   0%|          | 0/2 [00:00<?, ?it/s]"
      ]
     },
     "metadata": {},
     "output_type": "display_data"
    }
   ],
   "source": [
    "feeds = [\n",
    "    # \"https://anchor.fm/s/df98870/podcast/rss\",\n",
    "    # \"https://feeds.buzzsprout.com/1154870.rss\",\n",
    "    \"http://feeds.soundcloud.com/users/soundcloud:users:294272020/sounds.rss\",\n",
    "    \"https://feeds.acast.com/public/shows/5eded114811f0313e89ddaeb\"\n",
    "]\n",
    "\n",
    "for feed in tqdm(feeds, desc=\"Podcast\"):\n",
    "    podcast = feedparser.parse(feed)\n",
    "    podcast_title = podcast[\"feed\"][\"title\"]\n",
    "    folder_path = DOWNLOAD_FOLDER / podcast_title \n",
    "    folder_path.mkdir(exist_ok=True)\n",
    "    for episode in tqdm(podcast[\"entries\"], desc=f\"Podcast {podcast_title[:30]}\"):\n",
    "        download_episode(\n",
    "            url=[x for x in episode[\"links\"] if x[\"type\"].startswith(\"audio\")][0][\"href\"],\n",
    "            filename=folder_path / [x for x in episode[\"links\"] if x[\"type\"].startswith(\"audio\")][0][\"href\"].split(\"/\")[-1]\n",
    "        )\n",
    "        \n",
    "        \n",
    "for feed in tqdm(feeds, desc=\"Podcast\"):\n",
    "    podcast = feedparser.parse(feed)\n",
    "    podcast_title = podcast[\"feed\"][\"title\"]\n",
    "    folder_path = FEEDMETA \n",
    "    folder_path.mkdir(exist_ok=True)\n",
    "    with open(folder_path / f\"{podcast_title}.meta.pickle\", \"wb\") as f:\n",
    "        pickle.dump(podcast, f)"
   ]
  }
 ],
 "metadata": {
  "kernelspec": {
   "display_name": "Python [conda env:notebook] *",
   "language": "python",
   "name": "conda-env-notebook-py"
  },
  "language_info": {
   "codemirror_mode": {
    "name": "ipython",
    "version": 3
   },
   "file_extension": ".py",
   "mimetype": "text/x-python",
   "name": "python",
   "nbconvert_exporter": "python",
   "pygments_lexer": "ipython3",
   "version": "3.9.13"
  }
 },
 "nbformat": 4,
 "nbformat_minor": 5
}

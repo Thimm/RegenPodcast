{
 "cells": [
  {
   "cell_type": "code",
   "execution_count": 1,
   "id": "b6b7e306-cfd7-4a19-bf64-1836cc7a8594",
   "metadata": {
    "collapsed": true,
    "jupyter": {
     "outputs_hidden": true
    },
    "tags": []
   },
   "outputs": [
    {
     "name": "stdout",
     "output_type": "stream",
     "text": [
      "Collecting git+https://github.com/openai/whisper.git\n",
      "  Cloning https://github.com/openai/whisper.git to /tmp/pip-req-build-tqpqgv5w\n",
      "  Running command git clone --filter=blob:none --quiet https://github.com/openai/whisper.git /tmp/pip-req-build-tqpqgv5w\n",
      "  Resolved https://github.com/openai/whisper.git to commit 9f70a352f9f8630ab3aa0d06af5cb9532bd8c21d\n",
      "  Preparing metadata (setup.py) ... \u001b[?25ldone\n",
      "\u001b[?25hRequirement already satisfied: numpy in /srv/conda/envs/notebook/lib/python3.9/site-packages (from whisper==1.0) (1.23.3)\n",
      "Requirement already satisfied: torch in /srv/conda/envs/notebook/lib/python3.9/site-packages (from whisper==1.0) (1.12.1.post200)\n",
      "Requirement already satisfied: tqdm in /srv/conda/envs/notebook/lib/python3.9/site-packages (from whisper==1.0) (4.64.1)\n",
      "Collecting more-itertools\n",
      "  Using cached more_itertools-9.0.0-py3-none-any.whl (52 kB)\n",
      "Collecting transformers>=4.19.0\n",
      "  Using cached transformers-4.24.0-py3-none-any.whl (5.5 MB)\n",
      "Collecting ffmpeg-python==0.2.0\n",
      "  Using cached ffmpeg_python-0.2.0-py3-none-any.whl (25 kB)\n",
      "Requirement already satisfied: future in /srv/conda/envs/notebook/lib/python3.9/site-packages (from ffmpeg-python==0.2.0->whisper==1.0) (0.18.2)\n",
      "Collecting regex!=2019.12.17\n",
      "  Using cached regex-2022.10.31-cp39-cp39-manylinux_2_17_x86_64.manylinux2014_x86_64.whl (769 kB)\n",
      "Collecting huggingface-hub<1.0,>=0.10.0\n",
      "  Using cached huggingface_hub-0.10.1-py3-none-any.whl (163 kB)\n",
      "Collecting tokenizers!=0.11.3,<0.14,>=0.11.1\n",
      "  Using cached tokenizers-0.13.1-cp39-cp39-manylinux_2_17_x86_64.manylinux2014_x86_64.whl (7.6 MB)\n",
      "Requirement already satisfied: filelock in /srv/conda/envs/notebook/lib/python3.9/site-packages (from transformers>=4.19.0->whisper==1.0) (3.8.0)\n",
      "Requirement already satisfied: requests in /srv/conda/envs/notebook/lib/python3.9/site-packages (from transformers>=4.19.0->whisper==1.0) (2.28.1)\n",
      "Requirement already satisfied: pyyaml>=5.1 in /srv/conda/envs/notebook/lib/python3.9/site-packages (from transformers>=4.19.0->whisper==1.0) (5.4.1)\n",
      "Requirement already satisfied: packaging>=20.0 in /srv/conda/envs/notebook/lib/python3.9/site-packages (from transformers>=4.19.0->whisper==1.0) (21.3)\n",
      "Requirement already satisfied: typing_extensions in /srv/conda/envs/notebook/lib/python3.9/site-packages (from torch->whisper==1.0) (4.3.0)\n",
      "Requirement already satisfied: pyparsing!=3.0.5,>=2.0.2 in /srv/conda/envs/notebook/lib/python3.9/site-packages (from packaging>=20.0->transformers>=4.19.0->whisper==1.0) (3.0.9)\n",
      "Requirement already satisfied: idna<4,>=2.5 in /srv/conda/envs/notebook/lib/python3.9/site-packages (from requests->transformers>=4.19.0->whisper==1.0) (3.3)\n",
      "Requirement already satisfied: certifi>=2017.4.17 in /srv/conda/envs/notebook/lib/python3.9/site-packages (from requests->transformers>=4.19.0->whisper==1.0) (2022.9.14)\n",
      "Requirement already satisfied: charset-normalizer<3,>=2 in /srv/conda/envs/notebook/lib/python3.9/site-packages (from requests->transformers>=4.19.0->whisper==1.0) (2.1.1)\n",
      "Requirement already satisfied: urllib3<1.27,>=1.21.1 in /srv/conda/envs/notebook/lib/python3.9/site-packages (from requests->transformers>=4.19.0->whisper==1.0) (1.26.11)\n",
      "Building wheels for collected packages: whisper\n",
      "  Building wheel for whisper (setup.py) ... \u001b[?25ldone\n",
      "\u001b[?25h  Created wheel for whisper: filename=whisper-1.0-py3-none-any.whl size=1175199 sha256=ecea518f4357cbc8e1e6cf7c8b1f989ba0c3781c032c6617d6206a6f20f47ac0\n",
      "  Stored in directory: /tmp/pip-ephem-wheel-cache-on3tj768/wheels/fe/03/29/e7919208d11b4ab32972cb448bb84a9a675d92cd52c9a48341\n",
      "Successfully built whisper\n",
      "Installing collected packages: tokenizers, regex, more-itertools, ffmpeg-python, huggingface-hub, transformers, whisper\n",
      "Successfully installed ffmpeg-python-0.2.0 huggingface-hub-0.10.1 more-itertools-9.0.0 regex-2022.10.31 tokenizers-0.13.1 transformers-4.24.0 whisper-1.0\n"
     ]
    }
   ],
   "source": [
    "!pip install git+https://github.com/openai/whisper.git\n"
   ]
  },
  {
   "cell_type": "code",
   "execution_count": 4,
   "id": "3ecf0cea-e735-4e4b-8d92-eb26e5f888f7",
   "metadata": {},
   "outputs": [],
   "source": [
    "import whisper\n",
    "import torch  # pytorch install steps: pytorch.org\n",
    "from pathlib import Path \n",
    "from tqdm.auto import tqdm\n",
    "import pickle\n"
   ]
  },
  {
   "cell_type": "code",
   "execution_count": 3,
   "id": "ee4d1ff3-2152-4d06-8849-83e894ede275",
   "metadata": {},
   "outputs": [
    {
     "name": "stdout",
     "output_type": "stream",
     "text": [
      "cuda\n"
     ]
    }
   ],
   "source": [
    "device = \"cuda\" if torch.cuda.is_available() else \"cpu\"\n",
    "print(device)\n",
    "\n",
    "model = whisper.load_model(\"medium.en\").to(device)"
   ]
  },
  {
   "cell_type": "code",
   "execution_count": 5,
   "id": "7347686c-fd5e-4183-be71-bf9ad076b810",
   "metadata": {},
   "outputs": [
    {
     "data": {
      "application/vnd.jupyter.widget-view+json": {
       "model_id": "a59e4654cf46401ba0c71ba7c6d3146a",
       "version_major": 2,
       "version_minor": 0
      },
      "text/plain": [
       "0it [00:00, ?it/s]"
      ]
     },
     "metadata": {},
     "output_type": "display_data"
    }
   ],
   "source": [
    "transcriptions = Path(\"transcriptions\")\n",
    "transcriptions.mkdir(exist_ok=True)\n",
    "paths = list(Path(\"data\").glob(\"**/*.mp3\")) \n",
    "paths = [x for x in paths if not x.exists()]\n",
    "\n",
    "for path in tqdm(paths):\n",
    "    output_path = transcriptions / path.parts[1]\n",
    "    output_path.mkdir(exist_ok=True)\n",
    "    file_path = output_path / path.with_suffix('.pickle').parts[-1]\n",
    "    result = model.transcribe(str(path))\n",
    "    with open(file_path, \"wb\") as handle:\n",
    "        pickle.dump(result, handle)"
   ]
  },
  {
   "cell_type": "code",
   "execution_count": 7,
   "id": "5afb7a4b-08f3-442d-addf-8da11298f1f9",
   "metadata": {},
   "outputs": [
    {
     "data": {
      "text/plain": [
       "[]"
      ]
     },
     "execution_count": 7,
     "metadata": {},
     "output_type": "execute_result"
    }
   ],
   "source": []
  },
  {
   "cell_type": "code",
   "execution_count": 1,
   "id": "45efe110-dd8d-4d10-a6f8-e3facfd5339b",
   "metadata": {},
   "outputs": [
    {
     "name": "stdout",
     "output_type": "stream",
     "text": [
      "@@@@@@@@@@@@@@@@@@@@@@@@@@@@@@@@@@@@@@@@@@@@@@@@@@@@@@@@@@@\n",
      "@         WARNING: UNPROTECTED PRIVATE KEY FILE!          @\n",
      "@@@@@@@@@@@@@@@@@@@@@@@@@@@@@@@@@@@@@@@@@@@@@@@@@@@@@@@@@@@\n",
      "Permissions 0660 for '/home/jovyan/.ssh/id_ed25519' are too open.\n",
      "It is required that your private key files are NOT accessible by others.\n",
      "This private key will be ignored.\n",
      "Load key \"/home/jovyan/.ssh/id_ed25519\": bad permissions\n",
      "git@github.com: Permission denied (publickey).\n",
      "fatal: Could not read from remote repository.\n",
      "\n",
      "Please make sure you have the correct access rights\n",
      "and the repository exists.\n"
     ]
    }
   ],
   "source": [
    "! cp -r markdown/* ../docs/\n",
    "! git pull && git add ../docs && git commit -m \"New content\" && git push"
   ]
  }
 ],
 "metadata": {
  "kernelspec": {
   "display_name": "Python [conda env:notebook] *",
   "language": "python",
   "name": "conda-env-notebook-py"
  },
  "language_info": {
   "codemirror_mode": {
    "name": "ipython",
    "version": 3
   },
   "file_extension": ".py",
   "mimetype": "text/x-python",
   "name": "python",
   "nbconvert_exporter": "python",
   "pygments_lexer": "ipython3",
   "version": "3.9.13"
  }
 },
 "nbformat": 4,
 "nbformat_minor": 5
}

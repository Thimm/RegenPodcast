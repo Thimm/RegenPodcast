{
 "cells": [
  {
   "cell_type": "code",
   "execution_count": 1,
   "id": "47c7493f-a588-4712-940b-e01dafab0c6d",
   "metadata": {
    "tags": []
   },
   "outputs": [
    {
     "name": "stdout",
     "output_type": "stream",
     "text": [
      "Collecting sentence_transformers\n",
      "  Using cached sentence_transformers-2.2.2-py3-none-any.whl\n",
      "Collecting feedparser\n",
      "  Using cached feedparser-6.0.10-py3-none-any.whl (81 kB)\n",
      "Requirement already satisfied: scipy in /srv/conda/envs/notebook/lib/python3.9/site-packages (from sentence_transformers) (1.9.1)\n",
      "Requirement already satisfied: tqdm in /srv/conda/envs/notebook/lib/python3.9/site-packages (from sentence_transformers) (4.64.1)\n",
      "Requirement already satisfied: torch>=1.6.0 in /srv/conda/envs/notebook/lib/python3.9/site-packages (from sentence_transformers) (1.12.1.post200)\n",
      "Collecting transformers<5.0.0,>=4.6.0\n",
      "  Using cached transformers-4.24.0-py3-none-any.whl (5.5 MB)\n",
      "Collecting sentencepiece\n",
      "  Using cached sentencepiece-0.1.97-cp39-cp39-manylinux_2_17_x86_64.manylinux2014_x86_64.whl (1.3 MB)\n",
      "Requirement already satisfied: numpy in /srv/conda/envs/notebook/lib/python3.9/site-packages (from sentence_transformers) (1.23.3)\n",
      "Requirement already satisfied: scikit-learn in /srv/conda/envs/notebook/lib/python3.9/site-packages (from sentence_transformers) (1.1.2)\n",
      "Collecting nltk\n",
      "  Using cached nltk-3.7-py3-none-any.whl (1.5 MB)\n",
      "Collecting huggingface-hub>=0.4.0\n",
      "  Using cached huggingface_hub-0.11.0-py3-none-any.whl (182 kB)\n",
      "Requirement already satisfied: torchvision in /srv/conda/envs/notebook/lib/python3.9/site-packages (from sentence_transformers) (0.13.0a0+8069656)\n",
      "Collecting sgmllib3k\n",
      "  Using cached sgmllib3k-1.0.0-py3-none-any.whl\n",
      "Requirement already satisfied: pyyaml>=5.1 in /srv/conda/envs/notebook/lib/python3.9/site-packages (from huggingface-hub>=0.4.0->sentence_transformers) (5.4.1)\n",
      "Requirement already satisfied: requests in /srv/conda/envs/notebook/lib/python3.9/site-packages (from huggingface-hub>=0.4.0->sentence_transformers) (2.28.1)\n",
      "Requirement already satisfied: typing-extensions>=3.7.4.3 in /srv/conda/envs/notebook/lib/python3.9/site-packages (from huggingface-hub>=0.4.0->sentence_transformers) (4.3.0)\n",
      "Requirement already satisfied: filelock in /srv/conda/envs/notebook/lib/python3.9/site-packages (from huggingface-hub>=0.4.0->sentence_transformers) (3.8.0)\n",
      "Requirement already satisfied: packaging>=20.9 in /srv/conda/envs/notebook/lib/python3.9/site-packages (from huggingface-hub>=0.4.0->sentence_transformers) (21.3)\n",
      "Collecting regex!=2019.12.17\n",
      "  Using cached regex-2022.10.31-cp39-cp39-manylinux_2_17_x86_64.manylinux2014_x86_64.whl (769 kB)\n",
      "Collecting tokenizers!=0.11.3,<0.14,>=0.11.1\n",
      "  Using cached tokenizers-0.13.2-cp39-cp39-manylinux_2_17_x86_64.manylinux2014_x86_64.whl (7.6 MB)\n",
      "Requirement already satisfied: click in /srv/conda/envs/notebook/lib/python3.9/site-packages (from nltk->sentence_transformers) (8.0.4)\n",
      "Requirement already satisfied: joblib in /srv/conda/envs/notebook/lib/python3.9/site-packages (from nltk->sentence_transformers) (1.2.0)\n",
      "Requirement already satisfied: threadpoolctl>=2.0.0 in /srv/conda/envs/notebook/lib/python3.9/site-packages (from scikit-learn->sentence_transformers) (3.1.0)\n",
      "Requirement already satisfied: pillow!=8.3.*,>=5.3.0 in /srv/conda/envs/notebook/lib/python3.9/site-packages (from torchvision->sentence_transformers) (9.2.0)\n",
      "Requirement already satisfied: pyparsing!=3.0.5,>=2.0.2 in /srv/conda/envs/notebook/lib/python3.9/site-packages (from packaging>=20.9->huggingface-hub>=0.4.0->sentence_transformers) (3.0.9)\n",
      "Requirement already satisfied: idna<4,>=2.5 in /srv/conda/envs/notebook/lib/python3.9/site-packages (from requests->huggingface-hub>=0.4.0->sentence_transformers) (3.3)\n",
      "Requirement already satisfied: certifi>=2017.4.17 in /srv/conda/envs/notebook/lib/python3.9/site-packages (from requests->huggingface-hub>=0.4.0->sentence_transformers) (2022.9.14)\n",
      "Requirement already satisfied: charset-normalizer<3,>=2 in /srv/conda/envs/notebook/lib/python3.9/site-packages (from requests->huggingface-hub>=0.4.0->sentence_transformers) (2.1.1)\n",
      "Requirement already satisfied: urllib3<1.27,>=1.21.1 in /srv/conda/envs/notebook/lib/python3.9/site-packages (from requests->huggingface-hub>=0.4.0->sentence_transformers) (1.26.11)\n",
      "Installing collected packages: tokenizers, sgmllib3k, sentencepiece, regex, feedparser, nltk, huggingface-hub, transformers, sentence_transformers\n",
      "Successfully installed feedparser-6.0.10 huggingface-hub-0.11.0 nltk-3.7 regex-2022.10.31 sentence_transformers-2.2.2 sentencepiece-0.1.97 sgmllib3k-1.0.0 tokenizers-0.13.2 transformers-4.24.0\n"
     ]
    }
   ],
   "source": [
    "! pip install sentence_transformers feedparser"
   ]
  },
  {
   "cell_type": "code",
   "execution_count": 2,
   "id": "4e73913e-0b31-48e3-959c-19222949f382",
   "metadata": {},
   "outputs": [],
   "source": [
    "from pathlib import Path\n",
    "from tqdm.auto import tqdm\n",
    "import pickle\n",
    "import json\n",
    "from sentence_transformers import SentenceTransformer"
   ]
  },
  {
   "cell_type": "code",
   "execution_count": 3,
   "id": "1f06a9ce-1420-48e2-a761-4a9d4e4b8cea",
   "metadata": {},
   "outputs": [],
   "source": [
    "def prepare_segments(segments, window=7, stride=1):\n",
    "    data = []\n",
    "    for j in range(0, len(segments), stride):\n",
    "        j_end = min(j+window, len(segments)-1)\n",
    "        text = ''.join([x[\"text\"] for x in segments[j:j_end]])\n",
    "        start = segments[j]['start']\n",
    "        end = segments[j_end]['end']\n",
    "        row_id = f\"{path.stem}-t{segments[j]['start']}\"\n",
    "        meta = {\n",
    "                    \"id\": row_id,\n",
    "                    \"text\": text.strip(),\n",
    "                    \"start\": start,\n",
    "                    \"end\": end\n",
    "        }\n",
    "        data.append(meta)\n",
    "    return data\n",
    "\n",
    "\n",
    "def batch(iterable, n=1):\n",
    "    l = len(iterable)\n",
    "    for ndx in range(0, l, n):\n",
    "        yield iterable[ndx:min(ndx + n, l)]\n",
    "        \n",
    "        \n",
    "from functools import lru_cache\n",
    "\n",
    "@lru_cache(100)\n",
    "def load_meta(feedtitle):\n",
    "    FEED_META = list(Path(\"feedmeta\").glob(\"*.pickle\"))\n",
    "    with open([x for x in FEED_META if x.stem.startswith(feedtitle)][0], \"rb\") as f:\n",
    "        return pickle.load(f)\n",
    "    \n",
    "    \n",
    "def filter_audio_link(link):\n",
    "    if link[\"type\"].startswith(\"audio\"):\n",
    "        return True\n",
    "    \n",
    "def get_episode_meta(feedtitle, episode_link):\n",
    "    meta = load_meta(feedtitle)\n",
    "    episode_meta = [\n",
    "        x for x in meta[\"entries\"] \n",
    "        if list(filter(filter_audio_link, x[\"links\"]))[0][\"href\"].split(\"/\")[-1].startswith(episode_link)\n",
    "    ][0]\n",
    "    episode_meta[\"feed_meta\"] = meta[\"feed\"]\n",
    "    return episode_meta\n"
   ]
  },
  {
   "cell_type": "code",
   "execution_count": 4,
   "id": "4f924c9a-ce43-4afe-864c-fd0a05d8eeb2",
   "metadata": {
    "tags": []
   },
   "outputs": [],
   "source": [
    "model_id = \"multi-qa-mpnet-base-dot-v1\"\n",
    "model = SentenceTransformer(model_id)"
   ]
  },
  {
   "cell_type": "code",
   "execution_count": 5,
   "id": "4fac83be-03e3-468c-84d9-68f2368fa61e",
   "metadata": {},
   "outputs": [],
   "source": [
    "SEGMENTS_PATH = Path(\"segments\")\n",
    "SEGMENTS_PATH.mkdir(exist_ok=True)"
   ]
  },
  {
   "cell_type": "code",
   "execution_count": 6,
   "id": "8601deb3-e9a6-4fb5-9dbb-6b53b1e2bc7d",
   "metadata": {},
   "outputs": [
    {
     "data": {
      "application/vnd.jupyter.widget-view+json": {
       "model_id": "4e5b0649e1f34bea9e3630ca7a9a86af",
       "version_major": 2,
       "version_minor": 0
      },
      "text/plain": [
       "  0%|          | 0/1121 [00:00<?, ?it/s]"
      ]
     },
     "metadata": {},
     "output_type": "display_data"
    },
    {
     "ename": "IndexError",
     "evalue": "list index out of range",
     "output_type": "error",
     "traceback": [
      "\u001b[0;31m---------------------------------------------------------------------------\u001b[0m",
      "\u001b[0;31mIndexError\u001b[0m                                Traceback (most recent call last)",
      "Cell \u001b[0;32mIn [6], line 13\u001b[0m\n\u001b[1;32m     10\u001b[0m \u001b[38;5;28;01mwith\u001b[39;00m \u001b[38;5;28mopen\u001b[39m(path, \u001b[38;5;124m\"\u001b[39m\u001b[38;5;124mrb\u001b[39m\u001b[38;5;124m\"\u001b[39m) \u001b[38;5;28;01mas\u001b[39;00m f:\n\u001b[1;32m     11\u001b[0m     segments \u001b[38;5;241m=\u001b[39m pickle\u001b[38;5;241m.\u001b[39mload(f)[\u001b[38;5;124m\"\u001b[39m\u001b[38;5;124msegments\u001b[39m\u001b[38;5;124m\"\u001b[39m]\n\u001b[0;32m---> 13\u001b[0m meta_data \u001b[38;5;241m=\u001b[39m \u001b[43mget_episode_meta\u001b[49m\u001b[43m(\u001b[49m\n\u001b[1;32m     14\u001b[0m \u001b[43m    \u001b[49m\u001b[43mfeedtitle\u001b[49m\u001b[38;5;241;43m=\u001b[39;49m\u001b[43mpath\u001b[49m\u001b[38;5;241;43m.\u001b[39;49m\u001b[43mparts\u001b[49m\u001b[43m[\u001b[49m\u001b[38;5;241;43m1\u001b[39;49m\u001b[43m]\u001b[49m\u001b[43m,\u001b[49m\u001b[43m \u001b[49m\n\u001b[1;32m     15\u001b[0m \u001b[43m    \u001b[49m\u001b[43mepisode_link\u001b[49m\u001b[38;5;241;43m=\u001b[39;49m\u001b[43mpath\u001b[49m\u001b[38;5;241;43m.\u001b[39;49m\u001b[43mstem\u001b[49m\n\u001b[1;32m     16\u001b[0m \u001b[43m\u001b[49m\u001b[43m)\u001b[49m\n\u001b[1;32m     17\u001b[0m prepared_segments \u001b[38;5;241m=\u001b[39m prepare_segments(segments, window\u001b[38;5;241m=\u001b[39m\u001b[38;5;241m10\u001b[39m, stride\u001b[38;5;241m=\u001b[39m\u001b[38;5;241m3\u001b[39m)\n\u001b[1;32m     18\u001b[0m embeddings \u001b[38;5;241m=\u001b[39m []\n",
      "Cell \u001b[0;32mIn [3], line 40\u001b[0m, in \u001b[0;36mget_episode_meta\u001b[0;34m(feedtitle, episode_link)\u001b[0m\n\u001b[1;32m     38\u001b[0m \u001b[38;5;28;01mdef\u001b[39;00m \u001b[38;5;21mget_episode_meta\u001b[39m(feedtitle, episode_link):\n\u001b[1;32m     39\u001b[0m     meta \u001b[38;5;241m=\u001b[39m load_meta(feedtitle)\n\u001b[0;32m---> 40\u001b[0m     episode_meta \u001b[38;5;241m=\u001b[39m \u001b[43m[\u001b[49m\n\u001b[1;32m     41\u001b[0m \u001b[43m        \u001b[49m\u001b[43mx\u001b[49m\u001b[43m \u001b[49m\u001b[38;5;28;43;01mfor\u001b[39;49;00m\u001b[43m \u001b[49m\u001b[43mx\u001b[49m\u001b[43m \u001b[49m\u001b[38;5;129;43;01min\u001b[39;49;00m\u001b[43m \u001b[49m\u001b[43mmeta\u001b[49m\u001b[43m[\u001b[49m\u001b[38;5;124;43m\"\u001b[39;49m\u001b[38;5;124;43mentries\u001b[39;49m\u001b[38;5;124;43m\"\u001b[39;49m\u001b[43m]\u001b[49m\u001b[43m \u001b[49m\n\u001b[1;32m     42\u001b[0m \u001b[43m        \u001b[49m\u001b[38;5;28;43;01mif\u001b[39;49;00m\u001b[43m \u001b[49m\u001b[38;5;28;43mlist\u001b[39;49m\u001b[43m(\u001b[49m\u001b[38;5;28;43mfilter\u001b[39;49m\u001b[43m(\u001b[49m\u001b[43mfilter_audio_link\u001b[49m\u001b[43m,\u001b[49m\u001b[43m \u001b[49m\u001b[43mx\u001b[49m\u001b[43m[\u001b[49m\u001b[38;5;124;43m\"\u001b[39;49m\u001b[38;5;124;43mlinks\u001b[39;49m\u001b[38;5;124;43m\"\u001b[39;49m\u001b[43m]\u001b[49m\u001b[43m)\u001b[49m\u001b[43m)\u001b[49m\u001b[43m[\u001b[49m\u001b[38;5;241;43m0\u001b[39;49m\u001b[43m]\u001b[49m\u001b[43m[\u001b[49m\u001b[38;5;124;43m\"\u001b[39;49m\u001b[38;5;124;43mhref\u001b[39;49m\u001b[38;5;124;43m\"\u001b[39;49m\u001b[43m]\u001b[49m\u001b[38;5;241;43m.\u001b[39;49m\u001b[43msplit\u001b[49m\u001b[43m(\u001b[49m\u001b[38;5;124;43m\"\u001b[39;49m\u001b[38;5;124;43m/\u001b[39;49m\u001b[38;5;124;43m\"\u001b[39;49m\u001b[43m)\u001b[49m\u001b[43m[\u001b[49m\u001b[38;5;241;43m-\u001b[39;49m\u001b[38;5;241;43m1\u001b[39;49m\u001b[43m]\u001b[49m\u001b[38;5;241;43m.\u001b[39;49m\u001b[43mstartswith\u001b[49m\u001b[43m(\u001b[49m\u001b[43mepisode_link\u001b[49m\u001b[43m)\u001b[49m\n\u001b[1;32m     43\u001b[0m \u001b[43m    \u001b[49m\u001b[43m]\u001b[49m\u001b[43m[\u001b[49m\u001b[38;5;241;43m0\u001b[39;49m\u001b[43m]\u001b[49m\n\u001b[1;32m     44\u001b[0m     episode_meta[\u001b[38;5;124m\"\u001b[39m\u001b[38;5;124mfeed_meta\u001b[39m\u001b[38;5;124m\"\u001b[39m] \u001b[38;5;241m=\u001b[39m meta[\u001b[38;5;124m\"\u001b[39m\u001b[38;5;124mfeed\u001b[39m\u001b[38;5;124m\"\u001b[39m]\n\u001b[1;32m     45\u001b[0m     \u001b[38;5;28;01mreturn\u001b[39;00m episode_meta\n",
      "\u001b[0;31mIndexError\u001b[0m: list index out of range"
     ]
    }
   ],
   "source": [
    "paths = list(Path(\"transcriptions\").glob(\"**/*.pickle\"))\n",
    "batch_size = 10\n",
    "\n",
    "for path in tqdm(paths):\n",
    "    output_folder = SEGMENTS_PATH / path.parts[1] \n",
    "    output_folder.mkdir(exist_ok=True)\n",
    "    output_path = output_folder / path.name\n",
    "    if not output_path.exists():\n",
    "        embeddings = []\n",
    "        with open(path, \"rb\") as f:\n",
    "            segments = pickle.load(f)[\"segments\"]\n",
    "\n",
    "        meta_data = get_episode_meta(\n",
    "            feedtitle=path.parts[1], \n",
    "            episode_link=path.stem\n",
    "        )\n",
    "        prepared_segments = prepare_segments(segments, window=10, stride=3)\n",
    "        embeddings = []\n",
    "        for batch_segments in tqdm(batch(prepared_segments, batch_size), total=len(prepared_segments)/batch_size, leave=False):\n",
    "            embeddings.append(model.encode([x[\"text\"] for x in batch_segments]))\n",
    "        for idx, embedding in enumerate([x for y in embeddings for x in y]):\n",
    "            prepared_segments[idx][\"embedding\"] = embedding\n",
    "            prepared_segments[idx][\"meta\"] = meta_data\n",
    "\n",
    "        with open(output_path, \"wb\") as f:\n",
    "            pickle.dump(prepared_segments, f)"
   ]
  },
  {
   "cell_type": "code",
   "execution_count": null,
   "id": "d30d1378-cc0a-4e2a-9bf6-dffd978a1982",
   "metadata": {},
   "outputs": [],
   "source": []
  }
 ],
 "metadata": {
  "kernelspec": {
   "display_name": "Python 3 (ipykernel)",
   "language": "python",
   "name": "python3"
  },
  "language_info": {
   "codemirror_mode": {
    "name": "ipython",
    "version": 3
   },
   "file_extension": ".py",
   "mimetype": "text/x-python",
   "name": "python",
   "nbconvert_exporter": "python",
   "pygments_lexer": "ipython3",
   "version": "3.9.13"
  }
 },
 "nbformat": 4,
 "nbformat_minor": 5
}

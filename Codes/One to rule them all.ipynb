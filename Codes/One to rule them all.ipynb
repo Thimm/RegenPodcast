{
 "cells": [
  {
   "cell_type": "code",
   "execution_count": 1,
   "id": "3e475815-50c9-40da-a4f4-0f051e517bb1",
   "metadata": {
    "tags": []
   },
   "outputs": [
    {
     "name": "stdout",
     "output_type": "stream",
     "text": [
      "Collecting feedparser\n",
<<<<<<< HEAD
      "  Downloading feedparser-6.0.10-py3-none-any.whl (81 kB)\n",
      "\u001b[2K     \u001b[90m━━━━━━━━━━━━━━━━━━━━━━━━━━━━━━━━━━━━━━━━\u001b[0m \u001b[32m81.1/81.1 kB\u001b[0m \u001b[31m2.9 MB/s\u001b[0m eta \u001b[36m0:00:00\u001b[0m\n",
      "\u001b[?25hCollecting sgmllib3k\n",
      "  Downloading sgmllib3k-1.0.0.tar.gz (5.8 kB)\n",
      "  Preparing metadata (setup.py) ... \u001b[?25ldone\n",
      "\u001b[?25hBuilding wheels for collected packages: sgmllib3k\n",
      "  Building wheel for sgmllib3k (setup.py) ... \u001b[?25ldone\n",
      "\u001b[?25h  Created wheel for sgmllib3k: filename=sgmllib3k-1.0.0-py3-none-any.whl size=6048 sha256=fffd24d46945c5c5be600797d60292a0f8949ec249a0119c031a10432b064408\n",
      "  Stored in directory: /home/jovyan/.cache/pip/wheels/65/7a/a7/78c287f64e401255dff4c13fdbc672fed5efbfd21c530114e1\n",
      "Successfully built sgmllib3k\n",
      "Installing collected packages: sgmllib3k, feedparser\n",
      "Successfully installed feedparser-6.0.10 sgmllib3k-1.0.0\n",
      "Collecting git+https://github.com/openai/whisper.git\n",
      "  Cloning https://github.com/openai/whisper.git to /tmp/pip-req-build-v9gsq_kn\n",
      "  Running command git clone --filter=blob:none --quiet https://github.com/openai/whisper.git /tmp/pip-req-build-v9gsq_kn\n",
      "  Resolved https://github.com/openai/whisper.git to commit 9d646db9d885d7d86fa5f40aa29a48147379ed70\n",
      "  Preparing metadata (setup.py) ... \u001b[?25ldone\n",
      "\u001b[?25hRequirement already satisfied: numpy in /srv/conda/envs/notebook/lib/python3.9/site-packages (from openai-whisper==20230117) (1.23.3)\n",
      "Requirement already satisfied: torch in /srv/conda/envs/notebook/lib/python3.9/site-packages (from openai-whisper==20230117) (1.12.1.post200)\n",
      "Requirement already satisfied: tqdm in /srv/conda/envs/notebook/lib/python3.9/site-packages (from openai-whisper==20230117) (4.64.1)\n",
      "Collecting more-itertools\n",
      "  Downloading more_itertools-9.0.0-py3-none-any.whl (52 kB)\n",
      "\u001b[2K     \u001b[90m━━━━━━━━━━━━━━━━━━━━━━━━━━━━━━━━━━━━━━━━\u001b[0m \u001b[32m52.8/52.8 kB\u001b[0m \u001b[31m4.8 MB/s\u001b[0m eta \u001b[36m0:00:00\u001b[0m\n",
      "\u001b[?25hCollecting transformers>=4.19.0\n",
      "  Downloading transformers-4.25.1-py3-none-any.whl (5.8 MB)\n",
      "\u001b[2K     \u001b[90m━━━━━━━━━━━━━━━━━━━━━━━━━━━━━━━━━━━━━━━━\u001b[0m \u001b[32m5.8/5.8 MB\u001b[0m \u001b[31m102.7 MB/s\u001b[0m eta \u001b[36m0:00:00\u001b[0m00:01\u001b[0m\n",
      "\u001b[?25hCollecting ffmpeg-python==0.2.0\n",
      "  Downloading ffmpeg_python-0.2.0-py3-none-any.whl (25 kB)\n",
      "Requirement already satisfied: future in /srv/conda/envs/notebook/lib/python3.9/site-packages (from ffmpeg-python==0.2.0->openai-whisper==20230117) (0.18.2)\n",
=======
      "  Using cached feedparser-6.0.10-py3-none-any.whl (81 kB)\n",
      "Collecting sgmllib3k\n",
      "  Using cached sgmllib3k-1.0.0-py3-none-any.whl\n",
      "Installing collected packages: sgmllib3k, feedparser\n",
      "Successfully installed feedparser-6.0.10 sgmllib3k-1.0.0\n",
      "Collecting git+https://github.com/openai/whisper.git\n",
      "  Cloning https://github.com/openai/whisper.git to /tmp/pip-req-build-e5cunbuj\n",
      "  Running command git clone --filter=blob:none --quiet https://github.com/openai/whisper.git /tmp/pip-req-build-e5cunbuj\n",
      "  Resolved https://github.com/openai/whisper.git to commit 28769fcfe50755a817ab922a7bc83483159600a9\n",
      "  Preparing metadata (setup.py) ... \u001b[?25ldone\n",
      "\u001b[?25hRequirement already satisfied: numpy in /srv/conda/envs/notebook/lib/python3.9/site-packages (from whisper==1.0) (1.23.3)\n",
      "Requirement already satisfied: torch in /srv/conda/envs/notebook/lib/python3.9/site-packages (from whisper==1.0) (1.12.1.post200)\n",
      "Requirement already satisfied: tqdm in /srv/conda/envs/notebook/lib/python3.9/site-packages (from whisper==1.0) (4.64.1)\n",
      "Collecting more-itertools\n",
      "  Using cached more_itertools-9.0.0-py3-none-any.whl (52 kB)\n",
      "Collecting transformers>=4.19.0\n",
      "  Using cached transformers-4.25.1-py3-none-any.whl (5.8 MB)\n",
      "Collecting ffmpeg-python==0.2.0\n",
      "  Using cached ffmpeg_python-0.2.0-py3-none-any.whl (25 kB)\n",
      "Requirement already satisfied: future in /srv/conda/envs/notebook/lib/python3.9/site-packages (from ffmpeg-python==0.2.0->whisper==1.0) (0.18.2)\n",
      "Requirement already satisfied: packaging>=20.0 in /srv/conda/envs/notebook/lib/python3.9/site-packages (from transformers>=4.19.0->whisper==1.0) (21.3)\n",
      "Requirement already satisfied: pyyaml>=5.1 in /srv/conda/envs/notebook/lib/python3.9/site-packages (from transformers>=4.19.0->whisper==1.0) (5.4.1)\n",
      "Requirement already satisfied: requests in /srv/conda/envs/notebook/lib/python3.9/site-packages (from transformers>=4.19.0->whisper==1.0) (2.28.1)\n",
>>>>>>> c34dc521a3fdd5047cc50659c115d5ed29aa8655
      "Collecting huggingface-hub<1.0,>=0.10.0\n",
      "  Using cached huggingface_hub-0.11.1-py3-none-any.whl (182 kB)\n",
      "Collecting tokenizers!=0.11.3,<0.14,>=0.11.1\n",
      "  Using cached tokenizers-0.13.2-cp39-cp39-manylinux_2_17_x86_64.manylinux2014_x86_64.whl (7.6 MB)\n",
<<<<<<< HEAD
      "Requirement already satisfied: filelock in /srv/conda/envs/notebook/lib/python3.9/site-packages (from transformers>=4.19.0->openai-whisper==20230117) (3.8.0)\n",
      "Requirement already satisfied: packaging>=20.0 in /srv/conda/envs/notebook/lib/python3.9/site-packages (from transformers>=4.19.0->openai-whisper==20230117) (21.3)\n",
      "Requirement already satisfied: requests in /srv/conda/envs/notebook/lib/python3.9/site-packages (from transformers>=4.19.0->openai-whisper==20230117) (2.28.1)\n",
      "Collecting regex!=2019.12.17\n",
      "  Using cached regex-2022.10.31-cp39-cp39-manylinux_2_17_x86_64.manylinux2014_x86_64.whl (769 kB)\n",
      "Requirement already satisfied: pyyaml>=5.1 in /srv/conda/envs/notebook/lib/python3.9/site-packages (from transformers>=4.19.0->openai-whisper==20230117) (5.4.1)\n",
      "Requirement already satisfied: typing_extensions in /srv/conda/envs/notebook/lib/python3.9/site-packages (from torch->openai-whisper==20230117) (4.3.0)\n",
      "Requirement already satisfied: pyparsing!=3.0.5,>=2.0.2 in /srv/conda/envs/notebook/lib/python3.9/site-packages (from packaging>=20.0->transformers>=4.19.0->openai-whisper==20230117) (3.0.9)\n",
      "Requirement already satisfied: idna<4,>=2.5 in /srv/conda/envs/notebook/lib/python3.9/site-packages (from requests->transformers>=4.19.0->openai-whisper==20230117) (3.3)\n",
      "Requirement already satisfied: certifi>=2017.4.17 in /srv/conda/envs/notebook/lib/python3.9/site-packages (from requests->transformers>=4.19.0->openai-whisper==20230117) (2022.9.14)\n",
      "Requirement already satisfied: urllib3<1.27,>=1.21.1 in /srv/conda/envs/notebook/lib/python3.9/site-packages (from requests->transformers>=4.19.0->openai-whisper==20230117) (1.26.11)\n",
      "Requirement already satisfied: charset-normalizer<3,>=2 in /srv/conda/envs/notebook/lib/python3.9/site-packages (from requests->transformers>=4.19.0->openai-whisper==20230117) (2.1.1)\n",
      "Building wheels for collected packages: openai-whisper\n",
      "  Building wheel for openai-whisper (setup.py) ... \u001b[?25ldone\n",
      "\u001b[?25h  Created wheel for openai-whisper: filename=openai_whisper-20230117-py3-none-any.whl size=1178758 sha256=02b4508c160dbc370f673a5110e7b25a6639c8a9a906abfb5696744199b4652d\n",
      "  Stored in directory: /tmp/pip-ephem-wheel-cache-g3sz77sy/wheels/fe/03/29/e7919208d11b4ab32972cb448bb84a9a675d92cd52c9a48341\n",
      "Successfully built openai-whisper\n",
      "Installing collected packages: tokenizers, regex, more-itertools, ffmpeg-python, huggingface-hub, transformers, openai-whisper\n",
      "Successfully installed ffmpeg-python-0.2.0 huggingface-hub-0.11.1 more-itertools-9.0.0 openai-whisper-20230117 regex-2022.10.31 tokenizers-0.13.2 transformers-4.25.1\n",
      "Collecting markdownify\n",
      "  Downloading markdownify-0.11.6-py3-none-any.whl (16 kB)\n",
      "Requirement already satisfied: beautifulsoup4<5,>=4.9 in /srv/conda/envs/notebook/lib/python3.9/site-packages (from markdownify) (4.11.1)\n",
      "Requirement already satisfied: six<2,>=1.15 in /srv/conda/envs/notebook/lib/python3.9/site-packages (from markdownify) (1.16.0)\n",
=======
      "Requirement already satisfied: filelock in /srv/conda/envs/notebook/lib/python3.9/site-packages (from transformers>=4.19.0->whisper==1.0) (3.8.0)\n",
      "Collecting regex!=2019.12.17\n",
      "  Using cached regex-2022.10.31-cp39-cp39-manylinux_2_17_x86_64.manylinux2014_x86_64.whl (769 kB)\n",
      "Requirement already satisfied: typing_extensions in /srv/conda/envs/notebook/lib/python3.9/site-packages (from torch->whisper==1.0) (4.3.0)\n",
      "Requirement already satisfied: pyparsing!=3.0.5,>=2.0.2 in /srv/conda/envs/notebook/lib/python3.9/site-packages (from packaging>=20.0->transformers>=4.19.0->whisper==1.0) (3.0.9)\n",
      "Requirement already satisfied: idna<4,>=2.5 in /srv/conda/envs/notebook/lib/python3.9/site-packages (from requests->transformers>=4.19.0->whisper==1.0) (3.3)\n",
      "Requirement already satisfied: certifi>=2017.4.17 in /srv/conda/envs/notebook/lib/python3.9/site-packages (from requests->transformers>=4.19.0->whisper==1.0) (2022.9.14)\n",
      "Requirement already satisfied: urllib3<1.27,>=1.21.1 in /srv/conda/envs/notebook/lib/python3.9/site-packages (from requests->transformers>=4.19.0->whisper==1.0) (1.26.11)\n",
      "Requirement already satisfied: charset-normalizer<3,>=2 in /srv/conda/envs/notebook/lib/python3.9/site-packages (from requests->transformers>=4.19.0->whisper==1.0) (2.1.1)\n",
      "Building wheels for collected packages: whisper\n",
      "  Building wheel for whisper (setup.py) ... \u001b[?25ldone\n",
      "\u001b[?25h  Created wheel for whisper: filename=whisper-1.0-py3-none-any.whl size=1175324 sha256=9bb398442cbce3e5a95453a3ccda8783cb41d411a23d2d320eb592d24e98030c\n",
      "  Stored in directory: /tmp/pip-ephem-wheel-cache-yoizz2yy/wheels/fe/03/29/e7919208d11b4ab32972cb448bb84a9a675d92cd52c9a48341\n",
      "Successfully built whisper\n",
      "Installing collected packages: tokenizers, regex, more-itertools, ffmpeg-python, huggingface-hub, transformers, whisper\n",
      "Successfully installed ffmpeg-python-0.2.0 huggingface-hub-0.11.1 more-itertools-9.0.0 regex-2022.10.31 tokenizers-0.13.2 transformers-4.25.1 whisper-1.0\n",
      "Collecting markdownify\n",
      "  Using cached markdownify-0.11.6-py3-none-any.whl (16 kB)\n",
      "Requirement already satisfied: six<2,>=1.15 in /srv/conda/envs/notebook/lib/python3.9/site-packages (from markdownify) (1.16.0)\n",
      "Requirement already satisfied: beautifulsoup4<5,>=4.9 in /srv/conda/envs/notebook/lib/python3.9/site-packages (from markdownify) (4.11.1)\n",
>>>>>>> c34dc521a3fdd5047cc50659c115d5ed29aa8655
      "Requirement already satisfied: soupsieve>1.2 in /srv/conda/envs/notebook/lib/python3.9/site-packages (from beautifulsoup4<5,>=4.9->markdownify) (2.3.2.post1)\n",
      "Installing collected packages: markdownify\n",
      "Successfully installed markdownify-0.11.6\n"
     ]
    }
   ],
   "source": [
    "!pip install feedparser\n",
    "!pip install git+https://github.com/openai/whisper.git\n",
    "!pip install markdownify"
   ]
  },
  {
   "cell_type": "code",
   "execution_count": 2,
   "id": "7b0bd728-3f81-4a01-9d5a-57438ae68232",
   "metadata": {
    "tags": []
   },
   "outputs": [],
   "source": [
    "import feedparser\n",
    "import pandas as pd\n",
    "from pathlib import Path\n",
    "import functools\n",
    "import pathlib\n",
    "import shutil\n",
    "import requests\n",
    "from tqdm.auto import tqdm\n",
    "import requests\n",
    "import pickle\n",
    "import whisper\n",
    "import json\n",
    "import torch\n",
    "from requests import HTTPError\n",
    "from requests.exceptions import MissingSchema\n",
    "from podcast_transcription import create_markdown, download_episode, slugify, podlove_object, get_podlove_config\n",
    "import pickle\n",
    "DOWNLOAD_FOLDER = Path(\"data\")\n",
    "FEEDMETA = Path(\"feedmeta\")\n",
    "MARKDOWN = Path(\"markdown\")\n",
    "TRRANSCRIPTIONS = Path(\"transcriptions\")\n",
    "PODLOVE = Path(\"podlove\")\n",
    "PODLOVE.mkdir(exist_ok=True)\n",
    "FEEDMETA.mkdir(exist_ok=True)\n",
    "\n",
    "feeds = [\n",
    "    \"https://anchor.fm/s/df98870/podcast/rss\",\n",
    "    \"https://feeds.buzzsprout.com/1154870.rss\",\n",
    "    \"http://feeds.soundcloud.com/users/soundcloud:users:294272020/sounds.rss\",\n",
    "    \"https://feeds.acast.com/public/shows/5eded114811f0313e89ddaeb\",\n",
    "    \"https://regenerativeagriculturepodcast.com/rss\",\n",
    "    # \"https://regenerativeskills.com/feed/podcast/\",\n",
    "    \"https://feeds.backtracks.fm/feeds/tenacious/agtech-so-what/feed.xml?1667419322\",\n",
    "    \"https://feeds.libsyn.com/301781/rss\",\n",
    "    \"https://anchor.fm/s/10c2c51c/podcast/rss\",\n",
    "    \"https://feeds.buzzsprout.com/1857893.rss\",\n",
    "    \"https://feeds.buzzsprout.com/1303834.rss\",\n",
    "    \"https://feeds.transistor.fm/regenerative-by-design\",\n",
    "    \"https://anchor.fm/s/4b2de9e8/podcast/rss\"\n",
    "]"
   ]
  },
  {
   "cell_type": "code",
   "execution_count": 3,
   "id": "07cfde23-1069-4255-8f60-fea6b21e11c5",
   "metadata": {
    "tags": []
   },
   "outputs": [
    {
     "name": "stdout",
     "output_type": "stream",
     "text": [
      "cuda\n"
     ]
<<<<<<< HEAD
    },
    {
     "name": "stderr",
     "output_type": "stream",
     "text": [
      "100%|█████████████████████████████████████| 1.42G/1.42G [00:23<00:00, 65.5MiB/s]\n"
     ]
=======
>>>>>>> c34dc521a3fdd5047cc50659c115d5ed29aa8655
    }
   ],
   "source": [
    "device = \"cuda\" if torch.cuda.is_available() else \"cpu\"\n",
    "print(device)\n",
    "model = whisper.load_model(\"medium.en\").to(device)\n"
   ]
  },
  {
   "cell_type": "code",
<<<<<<< HEAD
   "execution_count": 7,
=======
   "execution_count": 4,
>>>>>>> c34dc521a3fdd5047cc50659c115d5ed29aa8655
   "id": "f6537b96-c27e-4df2-9012-5ec8bb6a3df5",
   "metadata": {
    "tags": []
   },
   "outputs": [
    {
     "data": {
      "application/vnd.jupyter.widget-view+json": {
<<<<<<< HEAD
       "model_id": "47d9194cd94b49e3960dcb92df0f6410",
=======
       "model_id": "593535890b0c4770a448425754b60e19",
>>>>>>> c34dc521a3fdd5047cc50659c115d5ed29aa8655
       "version_major": 2,
       "version_minor": 0
      },
      "text/plain": [
       "Podcast:   0%|          | 0/12 [00:00<?, ?it/s]"
      ]
     },
     "metadata": {},
     "output_type": "display_data"
    },
    {
     "data": {
      "application/vnd.jupyter.widget-view+json": {
<<<<<<< HEAD
       "model_id": "39c0f88e489847f5a5da32362505600a",
=======
       "model_id": "7053a145e0bd47dc95aa0800e7bc23e5",
>>>>>>> c34dc521a3fdd5047cc50659c115d5ed29aa8655
       "version_major": 2,
       "version_minor": 0
      },
      "text/plain": [
       "Podcast The Natural Lifestylist Podcas:   0%|          | 0/8 [00:00<?, ?it/s]"
      ]
     },
     "metadata": {},
     "output_type": "display_data"
    },
    {
     "data": {
      "application/vnd.jupyter.widget-view+json": {
<<<<<<< HEAD
       "model_id": "e624f18314ab41e18444aec5ee822454",
=======
       "model_id": "65d8c2b8e2014d25babbce5dbee16bde",
>>>>>>> c34dc521a3fdd5047cc50659c115d5ed29aa8655
       "version_major": 2,
       "version_minor": 0
      },
      "text/plain": [
<<<<<<< HEAD
       "Podcast Investing in Regenerative Agri:   0%|          | 0/276 [00:00<?, ?it/s]"
      ]
     },
     "metadata": {},
     "output_type": "display_data"
    },
    {
     "data": {
      "application/vnd.jupyter.widget-view+json": {
       "model_id": "7c253fe4243d42079d3b287b240224a6",
       "version_major": 2,
       "version_minor": 0
      },
      "text/plain": [
       "Podcast Farmerama:   0%|          | 0/155 [00:00<?, ?it/s]"
      ]
     },
     "metadata": {},
     "output_type": "display_data"
    },
    {
     "data": {
      "application/vnd.jupyter.widget-view+json": {
       "model_id": "8f77aa2eb08c4780a08f2f6f213d4136",
       "version_major": 2,
       "version_minor": 0
      },
      "text/plain": [
       "Podcast The Regenerative Agroforestry :   0%|          | 0/55 [00:00<?, ?it/s]"
      ]
     },
     "metadata": {},
     "output_type": "display_data"
    },
    {
     "data": {
      "application/vnd.jupyter.widget-view+json": {
       "model_id": "6d29b4eccf734638aab8b8d92287441f",
       "version_major": 2,
       "version_minor": 0
      },
      "text/plain": [
       "Podcast Regenerative Agriculture Podca:   0%|          | 0/80 [00:00<?, ?it/s]"
      ]
     },
     "metadata": {},
     "output_type": "display_data"
    },
    {
     "data": {
      "application/vnd.jupyter.widget-view+json": {
       "model_id": "0abd8ab8bf174e9184ba79e0c7935fc8",
       "version_major": 2,
       "version_minor": 0
      },
      "text/plain": [
       "Podcast Agtech - So What?:   0%|          | 0/128 [00:00<?, ?it/s]"
      ]
     },
     "metadata": {},
     "output_type": "display_data"
    },
    {
     "data": {
      "application/vnd.jupyter.widget-view+json": {
       "model_id": "713c7a8f264049ef81b4dc8e61efab4c",
       "version_major": 2,
       "version_minor": 0
      },
      "text/plain": [
       "Podcast In Search of Soil:   0%|          | 0/21 [00:00<?, ?it/s]"
      ]
     },
     "metadata": {},
     "output_type": "display_data"
    },
    {
     "data": {
      "application/vnd.jupyter.widget-view+json": {
       "model_id": "02d6d2835068420889e9c775a1321a72",
       "version_major": 2,
       "version_minor": 0
      },
      "text/plain": [
       "Podcast Farm Gate:   0%|          | 0/87 [00:00<?, ?it/s]"
=======
       "Podcast Investing in Regenerative Agri:   0%|          | 0/274 [00:00<?, ?it/s]"
>>>>>>> c34dc521a3fdd5047cc50659c115d5ed29aa8655
      ]
     },
     "metadata": {},
     "output_type": "display_data"
    },
    {
     "data": {
      "application/vnd.jupyter.widget-view+json": {
       "model_id": "",
       "version_major": 2,
       "version_minor": 0
      },
      "text/plain": [
<<<<<<< HEAD
       "  0%|          | 0/46418552 [00:00<?, ?it/s]"
=======
       "  0%|          | 0/52699611 [00:00<?, ?it/s]"
>>>>>>> c34dc521a3fdd5047cc50659c115d5ed29aa8655
      ]
     },
     "metadata": {},
     "output_type": "display_data"
    },
    {
     "data": {
      "application/vnd.jupyter.widget-view+json": {
<<<<<<< HEAD
       "model_id": "f5639f6d0f2e4c88b615390e98d88b40",
=======
       "model_id": "",
>>>>>>> c34dc521a3fdd5047cc50659c115d5ed29aa8655
       "version_major": 2,
       "version_minor": 0
      },
      "text/plain": [
<<<<<<< HEAD
       "Podcast Tasting Terroir:   0%|          | 0/15 [00:00<?, ?it/s]"
=======
       "  0%|          | 0/8687031 [00:00<?, ?it/s]"
>>>>>>> c34dc521a3fdd5047cc50659c115d5ed29aa8655
      ]
     },
     "metadata": {},
     "output_type": "display_data"
    },
    {
     "data": {
      "application/vnd.jupyter.widget-view+json": {
<<<<<<< HEAD
       "model_id": "9919278e0c8b4082bc76b3181da05d09",
=======
       "model_id": "a9b7c182c6ac4a2b8f73e0b0f465a7d9",
       "version_major": 2,
       "version_minor": 0
      },
      "text/plain": [
       "Podcast Farmerama:   0%|          | 0/154 [00:00<?, ?it/s]"
      ]
     },
     "metadata": {},
     "output_type": "display_data"
    },
    {
     "data": {
      "application/vnd.jupyter.widget-view+json": {
       "model_id": "",
       "version_major": 2,
       "version_minor": 0
      },
      "text/plain": [
       "  0%|          | 0/32397687 [00:00<?, ?it/s]"
      ]
     },
     "metadata": {},
     "output_type": "display_data"
    },
    {
     "data": {
      "application/vnd.jupyter.widget-view+json": {
       "model_id": "f644ab0f7a9642fdadf1eaa4c6f61cb3",
       "version_major": 2,
       "version_minor": 0
      },
      "text/plain": [
       "Podcast The Regenerative Agroforestry :   0%|          | 0/55 [00:00<?, ?it/s]"
      ]
     },
     "metadata": {},
     "output_type": "display_data"
    },
    {
     "data": {
      "application/vnd.jupyter.widget-view+json": {
       "model_id": "",
       "version_major": 2,
       "version_minor": 0
      },
      "text/plain": [
       "  0%|          | 0/96300093 [00:00<?, ?it/s]"
      ]
     },
     "metadata": {},
     "output_type": "display_data"
    },
    {
     "data": {
      "application/vnd.jupyter.widget-view+json": {
       "model_id": "b6666411fff0487d9900bc56d410b505",
       "version_major": 2,
       "version_minor": 0
      },
      "text/plain": [
       "Podcast Regenerative Agriculture Podca:   0%|          | 0/80 [00:00<?, ?it/s]"
      ]
     },
     "metadata": {},
     "output_type": "display_data"
    },
    {
     "data": {
      "application/vnd.jupyter.widget-view+json": {
       "model_id": "00a895a833664f35ad093a3724e7f6e0",
       "version_major": 2,
       "version_minor": 0
      },
      "text/plain": [
       "Podcast Agtech - So What?:   0%|          | 0/128 [00:00<?, ?it/s]"
      ]
     },
     "metadata": {},
     "output_type": "display_data"
    },
    {
     "data": {
      "application/vnd.jupyter.widget-view+json": {
       "model_id": "432881a6ba424669adb33c3c7235aa11",
       "version_major": 2,
       "version_minor": 0
      },
      "text/plain": [
       "Podcast In Search of Soil:   0%|          | 0/21 [00:00<?, ?it/s]"
      ]
     },
     "metadata": {},
     "output_type": "display_data"
    },
    {
     "data": {
      "application/vnd.jupyter.widget-view+json": {
       "model_id": "1d45f556e0bf4cbbaaadaa99d0f8f9b6",
       "version_major": 2,
       "version_minor": 0
      },
      "text/plain": [
       "Podcast Farm Gate:   0%|          | 0/86 [00:00<?, ?it/s]"
      ]
     },
     "metadata": {},
     "output_type": "display_data"
    },
    {
     "data": {
      "application/vnd.jupyter.widget-view+json": {
       "model_id": "00297a4241104eb6a5338953fa174330",
       "version_major": 2,
       "version_minor": 0
      },
      "text/plain": [
       "Podcast Tasting Terroir:   0%|          | 0/14 [00:00<?, ?it/s]"
      ]
     },
     "metadata": {},
     "output_type": "display_data"
    },
    {
     "data": {
      "application/vnd.jupyter.widget-view+json": {
       "model_id": "e26d2383469547e0b49b47e74f86b45e",
>>>>>>> c34dc521a3fdd5047cc50659c115d5ed29aa8655
       "version_major": 2,
       "version_minor": 0
      },
      "text/plain": [
       "Podcast The Great Full:   0%|          | 0/24 [00:00<?, ?it/s]"
      ]
     },
     "metadata": {},
     "output_type": "display_data"
    },
    {
     "data": {
      "application/vnd.jupyter.widget-view+json": {
<<<<<<< HEAD
       "model_id": "627bc605b5cd41b2ba50924fa22fcf25",
=======
       "model_id": "1fe6908b5c594a44a6bf124c8bbe75b6",
>>>>>>> c34dc521a3fdd5047cc50659c115d5ed29aa8655
       "version_major": 2,
       "version_minor": 0
      },
      "text/plain": [
       "Podcast Regenerative by Design:   0%|          | 0/29 [00:00<?, ?it/s]"
      ]
     },
     "metadata": {},
     "output_type": "display_data"
    },
    {
     "data": {
      "application/vnd.jupyter.widget-view+json": {
<<<<<<< HEAD
       "model_id": "4d42548aef584b16aef7a6077c9c04e6",
=======
       "model_id": "a3ae1119a76345cc936c5c934df1e689",
>>>>>>> c34dc521a3fdd5047cc50659c115d5ed29aa8655
       "version_major": 2,
       "version_minor": 0
      },
      "text/plain": [
<<<<<<< HEAD
       "Podcast Ranching Reboot:   0%|          | 0/109 [00:00<?, ?it/s]"
=======
       "Podcast Ranching Reboot:   0%|          | 0/107 [00:00<?, ?it/s]"
      ]
     },
     "metadata": {},
     "output_type": "display_data"
    },
    {
     "data": {
      "application/vnd.jupyter.widget-view+json": {
       "model_id": "",
       "version_major": 2,
       "version_minor": 0
      },
      "text/plain": [
       "  0%|          | 0/80718303 [00:00<?, ?it/s]"
>>>>>>> c34dc521a3fdd5047cc50659c115d5ed29aa8655
      ]
     },
     "metadata": {},
     "output_type": "display_data"
    }
   ],
   "source": [
    "for feed in tqdm(feeds, desc=\"Podcast\"):\n",
    "    podcast = feedparser.parse(feed)\n",
    "    podcast_title = podcast[\"feed\"][\"title\"]\n",
    "    podlove_path = PODLOVE / podcast_title \n",
    "    podlove_path.mkdir(exist_ok=True)\n",
    "    podlove_path_config = podlove_path / \"config.json\"\n",
    "    \n",
    "    with open(FEEDMETA / f\"{podcast_title}.meta.pickle\", \"wb\") as f:\n",
    "        pickle.dump(podcast, f)\n",
    "    \n",
    "    for episode in tqdm(podcast[\"entries\"], desc=f\"Podcast {podcast_title[:30]}\"):\n",
    "      \n",
    "        episode_title = slugify(episode[\"title\"])\n",
    "        markdown_path = MARKDOWN / podcast_title \n",
    "        markdown_path.mkdir(exist_ok=True)\n",
    "        markdown_path = markdown_path / f\"{episode_title}.md\"\n",
    "\n",
    "        if not markdown_path.exists():\n",
    "            episode_file_path = DOWNLOAD_FOLDER / f\"{episode_title}.mp3\"\n",
    "            try:\n",
    "                download_episode(\n",
    "                    url=[x for x in episode[\"links\"] if x[\"type\"].startswith(\"audio\")][0][\"href\"],\n",
    "                    filename=episode_file_path\n",
    "                )\n",
    "            except (HTTPError, MissingSchema) as e:\n",
    "                print(episode[\"title\"], e)\n",
    "                continue\n",
    "\n",
    "\n",
    "            transcriptions_path = TRRANSCRIPTIONS / podcast_title \n",
    "            transcriptions_path.mkdir(exist_ok=True)\n",
    "            transcriptions_episode_path = transcriptions_path / f\"{episode_title}.pickle\"\n",
    "            if not transcriptions_episode_path.exists():\n",
    "                transcriptions = model.transcribe(str(episode_file_path))\n",
    "                with open(transcriptions_episode_path, \"wb\") as f:\n",
    "                    pickle.dump(transcriptions, f)\n",
    "            else:\n",
    "                with open(transcriptions_episode_path, \"rb\") as f:\n",
    "                    transcriptions = pickle.load(f)\n",
    "            podlove_path_episode = podlove_path / f\"{episode_title}.json\"\n",
    "            with open(podlove_path_episode, \"w\") as f:\n",
    "                podlove = podlove_object(episode, podcast[\"feed\"], transcriptions, batch_size=3)\n",
    "                f.write(json.dumps(podlove))\n",
    "\n",
    "            with open(markdown_path, \"w\") as f:\n",
    "                markdown = create_markdown(\n",
    "                    transcriptions, \n",
    "                    podcast, \n",
    "                    episode, \n",
    "                    podlove_path_episode, \n",
    "                    podlove_path_config, \n",
    "                    batch_size=3\n",
    "                )\n",
    "                f.write(markdown)\n",
    "\n",
    "            episode_file_path.unlink()"
   ]
  },
  {
   "cell_type": "code",
<<<<<<< HEAD
   "execution_count": 8,
=======
   "execution_count": 5,
>>>>>>> c34dc521a3fdd5047cc50659c115d5ed29aa8655
   "id": "bd5aa574-52b9-4441-aac6-7b0c6030cd10",
   "metadata": {
    "tags": []
   },
   "outputs": [
    {
     "name": "stdout",
     "output_type": "stream",
     "text": [
<<<<<<< HEAD
      "Updating 05ca7fa1..c34dc521\n",
      "error: The following untracked working tree files would be overwritten by merge:\n",
      "\tCodes/01 - Download Podcast.ipynb\n",
      "\tCodes/02 - Whisper.ipynb\n",
      "\tCodes/03 - QA System.ipynb\n",
      "\tCodes/04 - Create index.ipynb\n",
      "\tCodes/05 - Read transcript.ipynb\n",
      "\tCodes/One to rule them all.ipynb\n",
      "\tCodes/podlove.ipynb\n",
      "Please move or remove them before you merge.\n",
      "Aborting\n"
=======
      "remote: Enumerating objects: 2530, done.\u001b[K\n",
      "remote: Counting objects: 100% (16/16), done.\u001b[K\n",
      "remote: Total 2530 (delta 16), reused 16 (delta 16), pack-reused 2514\u001b[K\n",
      "Receiving objects: 100% (2530/2530), 29.60 MiB | 13.73 MiB/s, done.\n",
      "Resolving deltas: 100% (1243/1243), completed with 12 local objects.\n",
      "From github.com:Thimm/thimm.github.io\n",
      " + c80b53d49...860466a57 gh-pages   -> origin/gh-pages  (forced update)\n",
      "Already up to date.\n",
      "[main 05ca7fa1d] New content\n",
      " 5 files changed, 1289 insertions(+)\n",
      " create mode 100644 \"docs/Farmerama/78-community-gardens-in-t\\304\\201maki-makaurau-and-organic-no-till-vineyards.md\"\n",
      " create mode 100644 docs/Investing in Regenerative Agriculture and Food/200-emma-chow-in-conversation-with-koen-van-seijen-regenerating-ourselves-before-working-on-regenerative-agriculture-and-food.md\n",
      " create mode 100644 docs/Investing in Regenerative Agriculture and Food/What-we-learned-in-2022-about-nutrient-density-in-food-farmers-philosophy-enabling-technologies-and-satellites-and-redesigning-products.md\n",
      " create mode 100644 docs/Ranching Reboot/96-damian-mason-it-take-balls-to-be-wrong.md\n",
      " create mode 100644 docs/The Regenerative Agroforestry Podcast/53-practicalities-of-integrating-coppicing-into-your-farm-with-mark-krawczyk.md\n",
      "Enumerating objects: 18, done.\n",
      "Counting objects: 100% (18/18), done.\n",
      "Delta compression using up to 4 threads\n",
      "Compressing objects: 100% (12/12), done.\n",
      "Writing objects: 100% (12/12), 117.10 KiB | 1.52 MiB/s, done.\n",
      "Total 12 (delta 6), reused 0 (delta 0), pack-reused 0\n",
      "remote: Resolving deltas: 100% (6/6), completed with 6 local objects.\u001b[K\n",
      "To github.com:Thimm/thimm.github.io.git\n",
      "   2a663fae7..05ca7fa1d  main -> main\n"
>>>>>>> c34dc521a3fdd5047cc50659c115d5ed29aa8655
     ]
    }
   ],
   "source": [
    "! chmod 400 /home/jovyan/.ssh/id_ed25519\n",
    "! cp -r markdown/* ../docs/\n",
    "! git pull && git add ../docs && git commit -m \"New content\" && git push"
   ]
  },
  {
   "cell_type": "markdown",
   "id": "63dc81c6-e801-485f-91ec-c4870f0e6852",
   "metadata": {},
   "source": [
    "# Update formating"
   ]
  },
  {
   "cell_type": "code",
   "execution_count": null,
   "id": "744b7fb0-9fe3-4cd7-b42c-741864bba604",
   "metadata": {
    "tags": []
   },
   "outputs": [],
   "source": [
    "for feed in tqdm(feeds, desc=\"Podcast\"):\n",
    "    podcast = feedparser.parse(feed)\n",
    "    podcast_title = podcast[\"feed\"][\"title\"]\n",
    "    podlove_path = PODLOVE / podcast_title \n",
    "    podlove_path.mkdir(exist_ok=True)\n",
    "    podlove_path_config = podlove_path / \"config.json\"\n",
    "    with open(podlove_path_config, \"w\") as f:\n",
    "        f.write(json.dumps(get_podlove_config(podcast[\"feed\"])))\n",
    "    \n",
    "    for episode in tqdm(podcast[\"entries\"], desc=f\"Podcast {podcast_title[:30]}\"):\n",
    "        episode_title = slugify(episode[\"title\"])\n",
    "        transcriptions_path = TRRANSCRIPTIONS / podcast_title \n",
    "        transcriptions_path.mkdir(exist_ok=True)\n",
    "        transcriptions_episode_path = transcriptions_path / f\"{episode_title}.pickle\"\n",
    "        with open(transcriptions_episode_path, \"rb\") as f:\n",
    "            transcriptions = pickle.load(f)\n",
    "        \n",
    "        podlove_path_episode = podlove_path / f\"{episode_title}.json\"\n",
    "        with open(podlove_path_episode, \"w\") as f:\n",
    "            podlove = podlove_object(episode, podcast[\"feed\"], transcriptions, batch_size=3)\n",
    "            f.write(json.dumps(podlove))\n",
    "\n",
    "        markdown_path = MARKDOWN / podcast_title \n",
    "        markdown_path.mkdir(exist_ok=True)\n",
    "        markdown_path = markdown_path / f\"{episode_title}.md\"\n",
    "        with open(markdown_path, \"w\") as f:\n",
    "            markdown = create_markdown(\n",
    "                transcriptions, \n",
    "                podcast, \n",
    "                episode, \n",
    "                podlove_path_episode, \n",
    "                podlove_path_config, \n",
    "                batch_size=3)\n",
    "            f.write(markdown)\n",
    "  \n"
   ]
  },
  {
   "cell_type": "code",
   "execution_count": null,
   "id": "be6f7dce-6524-445c-aef6-d5f9d5f7bc7d",
   "metadata": {
    "tags": []
   },
   "outputs": [],
   "source": [
    "! chmod 400 /home/jovyan/.ssh/id_ed25519\n",
    "! cp -r markdown/* ../docs/\n",
    "! cp -r podlove/* ../podlove/\n",
    "! git pull && git add ../docs ../podlove && git commit -m \"New content\" && git push"
   ]
  },
  {
<<<<<<< HEAD
   "cell_type": "code",
   "execution_count": 6,
   "id": "ba1ee712-5d7e-4a1d-8b93-baf42914627c",
   "metadata": {},
   "outputs": [
    {
     "data": {
      "text/plain": [
       "1"
      ]
     },
     "execution_count": 6,
     "metadata": {},
     "output_type": "execute_result"
    }
   ],
   "source": [
    "1"
   ]
  },
  {
=======
>>>>>>> c34dc521a3fdd5047cc50659c115d5ed29aa8655
   "cell_type": "markdown",
   "id": "348e8318-f53c-477a-acb6-13b3276506ab",
   "metadata": {},
   "source": [
    "# Create Podlove File"
   ]
  },
  {
   "cell_type": "code",
   "execution_count": 7,
   "id": "b810d59c-c2f7-41f5-9239-b18a577af75d",
   "metadata": {},
   "outputs": [],
   "source": [
    "! rm -r podlove/*"
   ]
  },
  {
   "cell_type": "code",
   "execution_count": 2,
   "id": "74cb7431-201c-4161-9a72-58b5fdfae654",
   "metadata": {},
   "outputs": [
    {
     "data": {
      "application/vnd.jupyter.widget-view+json": {
       "model_id": "1e422d784f604c5eae70ab2ff9f217a4",
       "version_major": 2,
       "version_minor": 0
      },
      "text/plain": [
       "Podcast:   0%|          | 0/11 [00:00<?, ?it/s]"
      ]
     },
     "metadata": {},
     "output_type": "display_data"
    },
    {
     "data": {
      "application/vnd.jupyter.widget-view+json": {
       "model_id": "400ee93571d748da903e3c9156eb37ad",
       "version_major": 2,
       "version_minor": 0
      },
      "text/plain": [
       "Podcast The Natural Lifestylist Podcas:   0%|          | 0/8 [00:00<?, ?it/s]"
      ]
     },
     "metadata": {},
     "output_type": "display_data"
    },
    {
     "data": {
      "application/vnd.jupyter.widget-view+json": {
       "model_id": "98c6691489b8426c8785a7cab2fb5b74",
       "version_major": 2,
       "version_minor": 0
      },
      "text/plain": [
       "Podcast Investing in Regenerative Agri:   0%|          | 0/266 [00:00<?, ?it/s]"
      ]
     },
     "metadata": {},
     "output_type": "display_data"
    },
    {
     "data": {
      "application/vnd.jupyter.widget-view+json": {
       "model_id": "9a61520a42e840799fb515aa7102817f",
       "version_major": 2,
       "version_minor": 0
      },
      "text/plain": [
       "Podcast Farmerama:   0%|          | 0/152 [00:00<?, ?it/s]"
      ]
     },
     "metadata": {},
     "output_type": "display_data"
    },
    {
     "data": {
      "application/vnd.jupyter.widget-view+json": {
       "model_id": "82639569da8d42b499f818f931efd5fd",
       "version_major": 2,
       "version_minor": 0
      },
      "text/plain": [
       "Podcast The Regenerative Agroforestry :   0%|          | 0/53 [00:00<?, ?it/s]"
      ]
     },
     "metadata": {},
     "output_type": "display_data"
    },
    {
     "data": {
      "application/vnd.jupyter.widget-view+json": {
       "model_id": "7672a3899d844a6fb3f9ed418ea359d6",
       "version_major": 2,
       "version_minor": 0
      },
      "text/plain": [
       "Podcast Regenerative Agriculture Podca:   0%|          | 0/79 [00:00<?, ?it/s]"
      ]
     },
     "metadata": {},
     "output_type": "display_data"
    },
    {
     "data": {
      "application/vnd.jupyter.widget-view+json": {
       "model_id": "93fbdb9a259a4cb3aba64005c2f449cf",
       "version_major": 2,
       "version_minor": 0
      },
      "text/plain": [
       "Podcast Agtech - So What?:   0%|          | 0/125 [00:00<?, ?it/s]"
      ]
     },
     "metadata": {},
     "output_type": "display_data"
    },
    {
     "data": {
      "application/vnd.jupyter.widget-view+json": {
       "model_id": "d217ce34c10e4ae7a7ca7a20882927a3",
       "version_major": 2,
       "version_minor": 0
      },
      "text/plain": [
       "Podcast In Search of Soil:   0%|          | 0/21 [00:00<?, ?it/s]"
      ]
     },
     "metadata": {},
     "output_type": "display_data"
    },
    {
     "data": {
      "application/vnd.jupyter.widget-view+json": {
       "model_id": "42713e8c50e3481fa23fd9dd0f0e119e",
       "version_major": 2,
       "version_minor": 0
      },
      "text/plain": [
       "Podcast Farm Gate:   0%|          | 0/83 [00:00<?, ?it/s]"
      ]
     },
     "metadata": {},
     "output_type": "display_data"
    },
    {
     "data": {
      "application/vnd.jupyter.widget-view+json": {
       "model_id": "efd76f84a7f84d79b47106a928521dfa",
       "version_major": 2,
       "version_minor": 0
      },
      "text/plain": [
       "Podcast Tasting Terroir:   0%|          | 0/12 [00:00<?, ?it/s]"
      ]
     },
     "metadata": {},
     "output_type": "display_data"
    },
    {
     "data": {
      "application/vnd.jupyter.widget-view+json": {
       "model_id": "3b8c3146bdc44b3097c00b2ff2c48c26",
       "version_major": 2,
       "version_minor": 0
      },
      "text/plain": [
       "Podcast The Great Full:   0%|          | 0/24 [00:00<?, ?it/s]"
      ]
     },
     "metadata": {},
     "output_type": "display_data"
    },
    {
     "data": {
      "application/vnd.jupyter.widget-view+json": {
       "model_id": "08d5699c5680457ea88d3f6fd23820f1",
       "version_major": 2,
       "version_minor": 0
      },
      "text/plain": [
       "Podcast Regenerative by Design:   0%|          | 0/27 [00:00<?, ?it/s]"
      ]
     },
     "metadata": {},
     "output_type": "display_data"
    }
   ],
   "source": [
    "for feed in tqdm(feeds, desc=\"Podcast\"):\n",
    "    podcast = feedparser.parse(feed)\n",
    "    podcast_title = podcast[\"feed\"][\"title\"]\n",
    "    podlove_path = PODLOVE / podcast_title \n",
    "    podlove_path.mkdir(exist_ok=True)\n",
    "    \n",
    "    podlove_path_config = podlove_path / \"config.json\"\n",
    "    with open(podlove_path_config, \"w\") as f:\n",
    "        f.write(json.dumps(get_podlove_config(podcast[\"feed\"])))\n",
    "    \n",
    "    for episode in tqdm(podcast[\"entries\"], desc=f\"Podcast {podcast_title[:30]}\"):\n",
    "        episode_title = slugify(episode[\"title\"])\n",
    "        transcriptions_path = TRRANSCRIPTIONS / podcast_title \n",
    "        transcriptions_path.mkdir(exist_ok=True)\n",
    "        transcriptions_episode_path = transcriptions_path / f\"{episode_title}.pickle\"\n",
    "\n",
    "        podlove_path_transcript = podlove_path / f\"{episode_title}.json\"\n",
    "        with open(transcriptions_episode_path, \"rb\") as f:\n",
    "            transcriptions = pickle.load(f)\n",
    "            \n",
    "        with open(podlove_path_transcript, \"w\") as f:\n",
    "            podlove = podlove_object(episode, podcast[\"feed\"], transcriptions, batch_size=3)\n",
    "            f.write(json.dumps(podlove))\n"
   ]
  },
  {
   "cell_type": "code",
   "execution_count": 4,
   "id": "43c59db8-d323-476d-9323-646413db8745",
   "metadata": {},
   "outputs": [
    {
     "data": {
      "text/plain": [
       "[{'rel': 'self',\n",
       "  'type': 'application/atom+xml',\n",
       "  'href': 'https://feeds.transistor.fm/regenerative-by-design',\n",
       "  'title': 'MP3 Audio'},\n",
       " {'rel': 'hub',\n",
       "  'href': 'https://pubsubhubbub.appspot.com/',\n",
       "  'type': 'text/html'},\n",
       " {'rel': 'alternate',\n",
       "  'type': 'text/html',\n",
       "  'href': 'https://snacktivistfoods.com'}]"
      ]
     },
     "execution_count": 4,
     "metadata": {},
     "output_type": "execute_result"
    }
   ],
   "source": [
    "podcast[\"feed\"][\"links\"]"
   ]
  }
 ],
 "metadata": {
  "kernelspec": {
   "display_name": "Python 3 (ipykernel)",
   "language": "python",
   "name": "python3"
  },
  "language_info": {
   "codemirror_mode": {
    "name": "ipython",
    "version": 3
   },
   "file_extension": ".py",
   "mimetype": "text/x-python",
   "name": "python",
   "nbconvert_exporter": "python",
   "pygments_lexer": "ipython3",
<<<<<<< HEAD
   "version": "3.9.13"
=======
   "version": "3.10.6"
>>>>>>> c34dc521a3fdd5047cc50659c115d5ed29aa8655
  }
 },
 "nbformat": 4,
 "nbformat_minor": 5
}

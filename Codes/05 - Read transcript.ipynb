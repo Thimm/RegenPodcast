{
 "cells": [
  {
   "cell_type": "code",
   "execution_count": 1,
   "id": "8bfc3f52-6779-4b2f-8708-e035dacde4d7",
   "metadata": {},
   "outputs": [
    {
     "name": "stdout",
     "output_type": "stream",
     "text": [
      "Requirement already satisfied: markdown in /srv/conda/envs/notebook/lib/python3.9/site-packages (3.4.1)\n",
      "Collecting feedparser\n",
      "  Using cached feedparser-6.0.10-py3-none-any.whl (81 kB)\n",
      "Requirement already satisfied: importlib-metadata>=4.4 in /srv/conda/envs/notebook/lib/python3.9/site-packages (from markdown) (4.11.4)\n",
      "Collecting sgmllib3k\n",
      "  Using cached sgmllib3k-1.0.0-py3-none-any.whl\n",
      "Requirement already satisfied: zipp>=0.5 in /srv/conda/envs/notebook/lib/python3.9/site-packages (from importlib-metadata>=4.4->markdown) (3.8.1)\n",
      "Installing collected packages: sgmllib3k, feedparser\n",
      "Successfully installed feedparser-6.0.10 sgmllib3k-1.0.0\n",
      "Note: you may need to restart the kernel to use updated packages.\n"
     ]
    }
   ],
   "source": [
    "pip install markdown feedparser"
   ]
  },
  {
   "cell_type": "code",
   "execution_count": 2,
   "id": "8b8bb9c2-0c72-4822-8538-370607a42ffa",
   "metadata": {},
   "outputs": [],
   "source": [
    "import pandas as pd\n",
    "from pathlib import Path\n",
    "import pickle\n",
    "from IPython.display import Markdown\n",
    "from datetime import timedelta\n",
    "from tqdm.auto import tqdm\n",
    "import markdown"
   ]
  },
  {
   "cell_type": "code",
   "execution_count": 3,
   "id": "1d8278ce-2244-439b-9070-0fa0696a8dc3",
   "metadata": {},
   "outputs": [],
   "source": [
    "transcript_paths = list(Path(\"transcriptions\").glob(\"**/*.pickle\"))"
   ]
  },
  {
   "cell_type": "code",
   "execution_count": 4,
   "id": "11520f80-205d-428a-a0ca-ba10605b4b44",
   "metadata": {},
   "outputs": [],
   "source": [
    "from podcast_transcription import get_episode_meta, slugify"
   ]
  },
  {
   "cell_type": "code",
   "execution_count": 5,
   "id": "fa2e568f-c450-433f-a674-8f6194776c7e",
   "metadata": {},
   "outputs": [],
   "source": [
    "def create_markdown(path):\n",
    "    with open(path, \"rb\") as f:\n",
    "        trans = pickle.load(f)\n",
    "    meta = get_episode_meta(path.parts[1], path.stem)\n",
    "    try:\n",
    "        href = [x for x in meta[\"links\"] if x[\"type\"] == \"text/html\"][0][\"href\"]\n",
    "        \n",
    "    except IndexError:\n",
    "        href = \"\"\n",
    "        pass\n",
    "    markdown = \"\"\n",
    "    markdown += f\"\"\"### {meta[\"feed_meta\"][\"title\"]}  ({\" \".join(meta[\"published\"].split()[:-1])})\"\"\"\n",
    "\n",
    "    for seg in trans[\"segments\"]:\n",
    "        if href:\n",
    "            href_with_time = f\"{href}#t={timedelta(seconds=int(seg['start']))}\"\n",
    "            markdown += f\"\"\"\n",
    "**[{timedelta(seconds=int(seg['start']))}-{timedelta(seconds=int(seg['end']))}]({href_with_time}):** {seg[\"text\"]}  \"\"\"\n",
    "        else:\n",
    "             markdown += f\"\"\"\n",
    "**{timedelta(seconds=int(seg['start']))}-{timedelta(seconds=int(seg['end']))}:** {seg[\"text\"]}  \"\"\"\n",
    "    return markdown"
   ]
  },
  {
   "cell_type": "code",
   "execution_count": 6,
   "id": "4b096b54-9e3f-4236-a76a-0e1c55df213a",
   "metadata": {},
   "outputs": [],
   "source": [
    "MARKDOWN = Path(\"markdown\")\n",
    "HTML = Path(\"html\")"
   ]
  },
  {
   "cell_type": "code",
   "execution_count": 7,
   "id": "4382b1f6-0374-4739-a721-435ccbf02f29",
   "metadata": {},
   "outputs": [
    {
     "data": {
      "application/vnd.jupyter.widget-view+json": {
       "model_id": "e145d98aa9f240f88fa1eac9c0350b83",
       "version_major": 2,
       "version_minor": 0
      },
      "text/plain": [
       "  0%|          | 0/1068 [00:00<?, ?it/s]"
      ]
     },
     "metadata": {},
     "output_type": "display_data"
    },
    {
     "ename": "IndexError",
     "evalue": "list index out of range",
     "output_type": "error",
     "traceback": [
      "\u001b[0;31m---------------------------------------------------------------------------\u001b[0m",
      "\u001b[0;31mIndexError\u001b[0m                                Traceback (most recent call last)",
      "Cell \u001b[0;32mIn [7], line 2\u001b[0m\n\u001b[1;32m      1\u001b[0m \u001b[38;5;28;01mfor\u001b[39;00m path \u001b[38;5;129;01min\u001b[39;00m tqdm(transcript_paths):\n\u001b[0;32m----> 2\u001b[0m     meta \u001b[38;5;241m=\u001b[39m \u001b[43mget_episode_meta\u001b[49m\u001b[43m(\u001b[49m\u001b[43mpath\u001b[49m\u001b[38;5;241;43m.\u001b[39;49m\u001b[43mparts\u001b[49m\u001b[43m[\u001b[49m\u001b[38;5;241;43m1\u001b[39;49m\u001b[43m]\u001b[49m\u001b[43m,\u001b[49m\u001b[43m \u001b[49m\u001b[43mpath\u001b[49m\u001b[38;5;241;43m.\u001b[39;49m\u001b[43mstem\u001b[49m\u001b[43m)\u001b[49m\n\u001b[1;32m      4\u001b[0m     markdown_path \u001b[38;5;241m=\u001b[39m MARKDOWN \u001b[38;5;241m/\u001b[39m path\u001b[38;5;241m.\u001b[39mparts[\u001b[38;5;241m1\u001b[39m] \n\u001b[1;32m      5\u001b[0m     html_path \u001b[38;5;241m=\u001b[39m HTML \u001b[38;5;241m/\u001b[39m path\u001b[38;5;241m.\u001b[39mparts[\u001b[38;5;241m1\u001b[39m] \n",
      "File \u001b[0;32m~/thimm.github.io/SearchEngine/podcast_transcription.py:56\u001b[0m, in \u001b[0;36mget_episode_meta\u001b[0;34m(feedtitle, episode_link)\u001b[0m\n\u001b[1;32m     54\u001b[0m \u001b[38;5;28;01mdef\u001b[39;00m \u001b[38;5;21mget_episode_meta\u001b[39m(feedtitle, episode_link):\n\u001b[1;32m     55\u001b[0m     meta \u001b[38;5;241m=\u001b[39m load_meta(feedtitle)\n\u001b[0;32m---> 56\u001b[0m     episode_meta \u001b[38;5;241m=\u001b[39m \u001b[43m[\u001b[49m\n\u001b[1;32m     57\u001b[0m \u001b[43m        \u001b[49m\u001b[43mx\u001b[49m\u001b[43m \u001b[49m\u001b[38;5;28;43;01mfor\u001b[39;49;00m\u001b[43m \u001b[49m\u001b[43mx\u001b[49m\u001b[43m \u001b[49m\u001b[38;5;129;43;01min\u001b[39;49;00m\u001b[43m \u001b[49m\u001b[43mmeta\u001b[49m\u001b[43m[\u001b[49m\u001b[38;5;124;43m\"\u001b[39;49m\u001b[38;5;124;43mentries\u001b[39;49m\u001b[38;5;124;43m\"\u001b[39;49m\u001b[43m]\u001b[49m\u001b[43m \u001b[49m\n\u001b[1;32m     58\u001b[0m \u001b[43m        \u001b[49m\u001b[38;5;28;43;01mif\u001b[39;49;00m\u001b[43m \u001b[49m\u001b[38;5;28;43mlist\u001b[39;49m\u001b[43m(\u001b[49m\u001b[38;5;28;43mfilter\u001b[39;49m\u001b[43m(\u001b[49m\u001b[43mfilter_audio_link\u001b[49m\u001b[43m,\u001b[49m\u001b[43m \u001b[49m\u001b[43mx\u001b[49m\u001b[43m[\u001b[49m\u001b[38;5;124;43m\"\u001b[39;49m\u001b[38;5;124;43mlinks\u001b[39;49m\u001b[38;5;124;43m\"\u001b[39;49m\u001b[43m]\u001b[49m\u001b[43m)\u001b[49m\u001b[43m)\u001b[49m\u001b[43m[\u001b[49m\u001b[38;5;241;43m0\u001b[39;49m\u001b[43m]\u001b[49m\u001b[43m[\u001b[49m\u001b[38;5;124;43m\"\u001b[39;49m\u001b[38;5;124;43mhref\u001b[39;49m\u001b[38;5;124;43m\"\u001b[39;49m\u001b[43m]\u001b[49m\u001b[38;5;241;43m.\u001b[39;49m\u001b[43msplit\u001b[49m\u001b[43m(\u001b[49m\u001b[38;5;124;43m\"\u001b[39;49m\u001b[38;5;124;43m/\u001b[39;49m\u001b[38;5;124;43m\"\u001b[39;49m\u001b[43m)\u001b[49m\u001b[43m[\u001b[49m\u001b[38;5;241;43m-\u001b[39;49m\u001b[38;5;241;43m1\u001b[39;49m\u001b[43m]\u001b[49m\u001b[38;5;241;43m.\u001b[39;49m\u001b[43mstartswith\u001b[49m\u001b[43m(\u001b[49m\u001b[43mepisode_link\u001b[49m\u001b[43m)\u001b[49m\n\u001b[1;32m     59\u001b[0m \u001b[43m    \u001b[49m\u001b[43m]\u001b[49m\u001b[43m[\u001b[49m\u001b[38;5;241;43m0\u001b[39;49m\u001b[43m]\u001b[49m\n\u001b[1;32m     60\u001b[0m     episode_meta[\u001b[38;5;124m\"\u001b[39m\u001b[38;5;124mfeed_meta\u001b[39m\u001b[38;5;124m\"\u001b[39m] \u001b[38;5;241m=\u001b[39m meta[\u001b[38;5;124m\"\u001b[39m\u001b[38;5;124mfeed\u001b[39m\u001b[38;5;124m\"\u001b[39m]\n\u001b[1;32m     61\u001b[0m     \u001b[38;5;28;01mreturn\u001b[39;00m episode_meta\n",
      "\u001b[0;31mIndexError\u001b[0m: list index out of range"
     ]
    }
   ],
   "source": [
    "for path in tqdm(transcript_paths):\n",
    "    meta = get_episode_meta(path.parts[1], path.stem)\n",
    "    \n",
    "    markdown_path = MARKDOWN / path.parts[1] \n",
    "    html_path = HTML / path.parts[1] \n",
    "    \n",
    "    markdown_path.mkdir(exist_ok=True, parents=True)\n",
    "    html_path.mkdir(exist_ok=True, parents=True)\n",
    "    \n",
    "    title = slugify(meta['title'])\n",
    "    markdown_path_file = markdown_path / f\"{title}.md\"\n",
    "    html_path_file = html_path / f\"{title}.html\"\n",
    "    if not markdown_path_file.exists():\n",
    "        with open(markdown_path_file, \"w\") as f:\n",
    "            markdown_text = create_markdown(path)\n",
    "            f.write(markdown_text)\n",
    "        with open(html_path_file, \"w\") as f:\n",
    "            f.write(markdown.markdown(markdown_text))\n",
    "            \n",
    "            \n",
    "! cp -r markdown/* ../docs/"
   ]
  },
  {
   "cell_type": "code",
   "execution_count": 1,
   "id": "0681ae2f-c758-4f07-87db-50b2cac97b96",
   "metadata": {},
   "outputs": [
    {
     "name": "stdout",
     "output_type": "stream",
     "text": [
      "remote: Enumerating objects: 1570, done.\u001b[K\n",
      "remote: Counting objects: 100% (1570/1570), done.\u001b[K\n",
      "remote: Compressing objects: 100% (38/38), done.\u001b[K\n",
      "remote: Total 1570 (delta 766), reused 1560 (delta 760), pack-reused 0\u001b[K\n",
      "Receiving objects: 100% (1570/1570), 19.72 MiB | 6.13 MiB/s, done.\n",
      "Resolving deltas: 100% (766/766), completed with 3 local objects.\n",
      "From github.com:Thimm/thimm.github.io\n",
      "   9a52a39..edaa1d2  main       -> origin/main\n",
      " + 8b02177...29a4e7f gh-pages   -> origin/gh-pages  (forced update)\n",
      "Updating 9a52a39..edaa1d2\n",
      "Fast-forward\n",
      " mkdocs.yml | 3 \u001b[32m+\u001b[m\u001b[31m--\u001b[m\n",
      " 1 file changed, 1 insertion(+), 2 deletions(-)\n",
      "[main f1d2e1c] New content\n",
      " 98 files changed, 57478 insertions(+)\n",
      " create mode 100644 docs/Agtech - So What?/100th-episode-special-our-most-popular-guests-on-soil-carbon-regen-ag-and-the-future-of-agtech.md\n",
      " create mode 100644 docs/Agtech - So What?/Ag-insuranceso-what.md\n",
      " create mode 100644 docs/Agtech - So What?/Bonus-ep-ag-insurance-101.md\n",
      " create mode 100644 docs/Agtech - So What?/Bonus-ep-audience-responses-to-the-three-fears-of-farm-data.md\n",
      " create mode 100644 docs/Agtech - So What?/Bonus-ep-later-stage-agtech-startup-wrap-feat-anastasia-volkova-regrow.md\n",
      " create mode 100644 docs/Agtech - So What?/Bonus-ep-the-state-of-fundraising-in-agtech.md\n",
      " create mode 100644 docs/Agtech - So What?/Bonus-ep-the-three-fears-of-farm-data.md\n",
      " create mode 100644 docs/Agtech - So What?/Bonus-investing-in-tech-to-enable-regen-ag.md\n",
      " create mode 100644 docs/Agtech - So What?/Bonus-the-economics-of-valuing-natural-capital-ken-henry-former-treasury-secretary-of-australia.md\n",
      " create mode 100644 docs/Agtech - So What?/Changing-the-risk-profile-of-agriculture-a-farmers-perspective-on-parametric-insurance.md\n",
      " create mode 100644 docs/Agtech - So What?/Defining-the-future-of-ag-advocacy-with-emma-germano-victorian-farmers-federation.md\n",
      " create mode 100644 docs/Agtech - So What?/Farmers-and-startups-lessons-and-tips-for-collaborating.md\n",
      " create mode 100644 docs/Agtech - So What?/From-the-vault-mark-ferguson-on-science-sheep-and-the-tech-enabled-future-of-genetics.md\n",
      " create mode 100644 docs/Agtech - So What?/From-the-vault-mark-wootton-on-carbon-neutral-farming-at-jigsaw-farms.md\n",
      " create mode 100644 docs/Agtech - So What?/Genetics-biosecurity-and-the-cutest-sheep-in-the-world-with-dr-belinda-cardinal-caprotek.md\n",
      " create mode 100644 docs/Agtech - So What?/Getting-off-the-commodities-treadmill-loran-steinlage.md\n",
      " create mode 100644 docs/Agtech - So What?/Investing-beyond-the-farmgate-with-ben-barlow-new-edge-microbials.md\n",
      " create mode 100644 docs/Agtech - So What?/Later-stage-agtech-startup-lessons-1-michael-gilbert-semios.md\n",
      " create mode 100644 docs/Agtech - So What?/Later-stage-agtech-startup-lessons-2-paul-lightfoot-brightfarms.md\n",
      " create mode 100644 docs/Agtech - So What?/Later-stage-agtech-startup-lessons-3-charles-baron-farmers-business-network.md\n",
      " create mode 100644 docs/Agtech - So What?/Legacy-finance-eyes-agtech-with-wells-fargo.md\n",
      " create mode 100644 docs/Agtech - So What?/Making-decisions-in-the-face-of-uncertainty-with-hallie-shoffner.md\n",
      " create mode 100644 docs/Agtech - So What?/Meeting-in-the-middle-on-sustainable-supply-chains-jessie-deelo-vayda.md\n",
      " create mode 100644 docs/Agtech - So What?/Navigating-economic-development-and-the-social-fabric-of-agriculture-with-elizabeth-brennan-wide-open-agriculture.md\n",
      " create mode 100644 docs/Agtech - So What?/On-farm-climate-risks-and-the-future-of-ag-finance-with-clay-govier.md\n",
      " create mode 100644 docs/Agtech - So What?/Services-and-software-for-on-farm-autonomy-with-iftach-birger-of-fieldin.md\n",
      " create mode 100644 docs/Agtech - So What?/Systems-thinking-and-the-legacy-of-big-food-with-dr-nigel-hughes-kellogg.md\n",
      " create mode 100644 docs/Agtech - So What?/The-authenticity-premium-in-agtech-marketing-with-camille-grade-from-bushel-and-travis-martin-from-magnetic-ag.md\n",
      " create mode 100644 docs/Agtech - So What?/The-future-of-fertilizer-nitrogen-part-2-with-jupiter-ionics-and-kula-bio.md\n",
      " create mode 100644 docs/Agtech - So What?/The-future-of-fertilizer-nitrogen-with-jupiter-ionics-and-kula-bio.md\n",
      " create mode 100644 docs/Agtech - So What?/The-future-of-insurance-in-agriculture-with-damon-johnson-global-ag-risk-solutions.md\n",
      " create mode 100644 docs/Agtech - So What?/The-incentives-barriers-and-willingness-to-pay-for-carbon-programs-in-agriculture-with-emma-fuller-corteva-agriscience.md\n",
      " create mode 100644 docs/Agtech - So What?/The-three-categories-of-autonomy-in-agriculture-with-andrew-bate-swarmfarm-robotics.md\n",
      " create mode 100644 docs/Agtech - So What?/The-tricky-business-of-scaling-soil-tech-adam-litle-ceo-sound-agriculture.md\n",
      " create mode 100644 docs/Agtech - So What?/Unscrambling-go-to-market-and-brand-in-alternative-protein-with-tanja-bogumil-perfeggt.md\n",
      " create mode 100644 docs/Agtech - So What?/What-commodity-agriculture-can-learn-from-organic-farming-with-amy-bruch-cyclone-farms.md\n",
      " create mode 100644 docs/Agtech - So What?/Whats-the-role-of-government-in-agtech-ecosystems-salvatore-lavallo-abu-dhabi-investment-office.md\n",
      " create mode 100644 docs/Agtech - So What?/Why-you-should-give-a-fck-about-farming-gabrielle-chan.md\n",
      " create mode 100644 docs/Agtech - So What?/Win-win-business-models-for-farmers-and-startups-with-marissa-cuevas-flores-of-microterra.md\n",
      " create mode 100644 docs/Regenerative Skills/A-look-at-a-multifaceted-agrarian-community-revival-initiative-with-rachael-forster-of-tamar-grow-local-051.md\n",
      " create mode 100644 docs/Regenerative Skills/Applying-permaculture-to-your-life-and-social-interactions-with-isabelle-fortier-of-egoeco-055.md\n",
      " create mode 100644 docs/Regenerative Skills/Building-community-through-natural-building-and-urban-permaculture-with-janell-kapoor-of-ashevillage-sanctuary-and-kleiwerks-itl.md\n",
      " create mode 100644 docs/Regenerative Skills/Building-soil-on-a-large-scale-and-going-beyond-permaculture-with-darren-doherty-of-regrarians-ltd-episode-017.md\n",
      " create mode 100644 docs/Regenerative Skills/Creating-a-healthy-ecosystem-within-through-holistic-nutrition-with-breanne-gibson-of-circular-nutrition-049.md\n",
      " create mode 100644 docs/Regenerative Skills/Desert-regeneration-and-showcasing-examples-of-permaculture-success-with-neal-spackman-of-the-al-baydah-project-and-sustainable-design-masterclass-020.md\n",
      " create mode 100644 docs/Regenerative Skills/Designing-for-abundance-biochar-production-and-plant-propagation-rrt-1.md\n",
      " create mode 100644 docs/Regenerative Skills/Discovering-why-we-farm-the-book-by-author-elvira-dibrigit-028.md\n",
      " create mode 100644 docs/Regenerative Skills/Diversity-and-the-importance-of-tree-guilds-with-brock-barker-from-the-brockoli-patch-farm-034.md\n",
      " create mode 100644 docs/Regenerative Skills/Founding-a-sustainable-living-and-education-site-and-working-with-the-local-community-with-tim-ohara-of-rancho-mastatal-021.md\n",
      " create mode 100644 docs/Regenerative Skills/Getting-around-the-codes-and-permits-for-natural-buildings-with-patrick-hennebery-of-cobworks-004.md\n",
      " create mode 100644 docs/Regenerative Skills/Giving-blank-walls-a-voice-through-natural-plasters-with-gabriel-franklin-founder-of-the-art-of-plaster-025.md\n",
      " create mode 100644 docs/Regenerative Skills/How-does-natural-building-stack-up-to-industrial-alternatives-with-conrad-rogue-of-house-alive-056.md\n",
      " create mode 100644 docs/Regenerative Skills/How-technology-and-chemicals-have-transformed-farming-in-just-one-lifetime-with-roland-james-033.md\n",
      " create mode 100644 docs/Regenerative Skills/How-to-avoid-95-of-straw-bale-house-failures-and-more-from-bill-steen-of-the-canelo-project-episode-016.md\n",
      " create mode 100644 docs/Regenerative Skills/How-to-build-and-plan-a-profitable-permaculture-farm-with-shad-qudsi-of-aititlan-organics.md\n",
      " create mode 100644 docs/Regenerative Skills/How-to-build-with-cordwood-masonry-with-rob-roy-of-the-earthenwood-building-school.md\n",
      " create mode 100644 docs/Regenerative Skills/How-to-live-regeneratively-without-abandoning-society-with-scott-mann-host-of-the-permaculture-podcast-058.md\n",
      " create mode 100644 docs/Regenerative Skills/How-to-make-your-own-earthen-floors-with-sukita-reay-crimmel-of-from-these-hands-and-claylin-llc.md\n",
      " create mode 100644 docs/Regenerative Skills/How-to-regenerate-damaged-and-polluted-waterways-with-tom-duncan-of-aquabiofilter-032.md\n",
      " create mode 100644 docs/Regenerative Skills/How-to-save-huge-on-your-heating-costs-and-other-innovative-experiments-with-paul-wheaton-of-permies-and-richsoilcom-003.md\n",
      " create mode 100644 docs/Regenerative Skills/Insulation-vs-thermal-mass-and-the-advantages-of-hybrid-structures-with-sigi-koko-of-build-naturally-and-down-to-earth-designs.md\n",
      " create mode 100644 docs/Regenerative Skills/Introducing-the-abundant-edge-with-host-oliver-m-goshey-001.md\n",
      " create mode 100644 docs/Regenerative Skills/Its-all-about-goats-and-a-few-other-important-things-but-really-goats-rrt-2.md\n",
      " create mode 100644 docs/Regenerative Skills/Joel-salatin-like-youve-never-heard-him-before-on-his-new-book-your-successful-farm-business-043.md\n",
      " create mode 100644 docs/Regenerative Skills/Kicking-off-our-demo-farm-and-finding-the-abundant-edge-with-jeremy-fellows-039.md\n",
      " create mode 100644 docs/Regenerative Skills/Lessons-learned-from-both-success-and-failure-in-a-permaculture-based-business-with-diego-footer-of-permaculture-voices-episode-015.md\n",
      " create mode 100644 docs/Regenerative Skills/Lucrative-city-farming-on-borrowed-land-with-curtis-stone-author-of-the-urban-farmer-026.md\n",
      " create mode 100644 docs/Regenerative Skills/Making-the-transition-to-a-permaculture-lifestyle-with-william-horvath-of-permaculture-apprentice-002.md\n",
      " create mode 100644 docs/Regenerative Skills/Mastering-the-educational-side-of-permaculture-and-land-management-with-matt-powers-author-of-the-permaculture-student-2-036.md\n",
      " create mode 100644 docs/Regenerative Skills/Myths-and-misconceptions-about-natural-building-with-oliver-m-goshey.md\n",
      " create mode 100644 docs/Regenerative Skills/Natural-regenerative-housing-for-veterans-with-ted-brinegar-of-foxhole-homes-054.md\n",
      " create mode 100644 docs/Regenerative Skills/Permaculture-chocolate-the-highest-quality-anywhere-in-the-world-with-lorenzo-maniet-of-el-porvenir-cacao-farm-045.md\n",
      " create mode 100644 docs/Regenerative Skills/Permaculture-earthworks-demystified-with-douglas-barnes-author-of-the-permaculture-earthworks-handbook-048.md\n",
      " create mode 100644 docs/Regenerative Skills/Placemaking-and-connection-building-to-repair-our-communities-with-ridhi-dcruz-and-mark-lakeman-of-city-repair-029.md\n",
      " create mode 100644 docs/Regenerative Skills/Profitable-permaculture-market-gardening-with-zach-loeks-the-author-of-the-permaculture-market-garden-024.md\n",
      " create mode 100644 docs/Regenerative Skills/Promoting-permaculture-knowledge-and-environmental-activism-with-hannah-eckberg-of-permaculture-magazine-of-north-america-023.md\n",
      " create mode 100644 docs/Regenerative Skills/Pushing-the-boundaries-of-restoration-agriculture-with-mark-shepard-author-of-restoration-agriculture-050.md\n",
      " create mode 100644 docs/Regenerative Skills/Regain-your-freedom-and-self-sufficiency-through-natural-building-with-chris-uncle-mud-mcclellan-from-unclemudcom-018.md\n",
      " create mode 100644 docs/Regenerative Skills/Revolutionary-rocket-stoves-and-re-indigenizing-building-with-kirk-donkey-mobert-of-sundog-school-of-natural-building.md\n",
      " create mode 100644 docs/Regenerative Skills/Taking-permaculture-based-businesses-to-new-heights-holistically-with-erik-ohlsen-of-the-permaculture-skills-center-033.md\n",
      " create mode 100644 docs/Regenerative Skills/The-abundant-edge-design-criteria-for-a-regenerative-lifestyle-with-the-free-pdf-design-criteria-list-046.md\n",
      " create mode 100644 docs/Regenerative Skills/The-beauty-and-functionality-of-tadelakt-and-other-earthen-finishes-with-liz-johndrow-of-earthen-endeavors-and-the-pueblo-project.md\n",
      " create mode 100644 docs/Regenerative Skills/The-beauty-and-usefulness-of-bamboo-with-charlie-rendall-of-return-to-the-forest-044.md\n",
      " create mode 100644 docs/Regenerative Skills/The-hidden-side-of-natural-building-how-to-start-your-own-build-project-and-more-with-oliver-goshey-030.md\n",
      " create mode 100644 docs/Regenerative Skills/The-independence-and-empowerment-of-earth-bag-building-with-atulya-k-bingham-author-of-mud-mountain-035.md\n",
      " create mode 100644 docs/Regenerative Skills/The-infinite-possibilities-of-light-straw-clay-with-lydia-doleman-from-the-flying-hammer-038.md\n",
      " create mode 100644 docs/Regenerative Skills/The-intricacies-of-timber-framing-made-simple-with-timber-framing-instructor-skip-dewhirst-040.md\n",
      " create mode 100644 docs/Regenerative Skills/The-journey-towards-a-permaculture-lifestyle-with-max-benjamin-of-el-jocotel-episode-014.md\n",
      " create mode 100644 docs/Regenerative Skills/The-key-to-client-attraction-for-your-permaculture-design-business-with-pete-widin-of-artisan-environments-llc-031.md\n",
      " create mode 100644 docs/Regenerative Skills/The-most-impressive-permaculturalist-youve-never-heard-of-alex-kronick-of-caoba-farms-041.md\n",
      " create mode 100644 docs/Regenerative Skills/The-myriad-technologies-and-innovations-of-earthships-with-rohan-sutherland-047.md\n",
      " create mode 100644 docs/Regenerative Skills/The-unique-beauty-and-challenges-of-domes-with-kelly-hart-author-of-the-essential-earthbag-construction-059.md\n",
      " create mode 100644 docs/Regenerative Skills/The-unique-factors-of-a-true-profitable-permaculture-farm-with-richard-perkins-of-ridgedale-farm-042.md\n",
      " create mode 100644 docs/Regenerative Skills/The-wide-world-of-human-powered-machines-with-tamara-dean-author-of-the-book-the-human-powered-home-022.md\n",
      " create mode 100644 docs/Regenerative Skills/The-wild-potential-of-mycology-with-peter-mccoy-author-of-radical-mycology-052.md\n",
      " create mode 100644 docs/Regenerative Skills/Tropical-permaculture-experiments-in-diversity-and-economic-resilience-with-scott-gallant-of-rancho-mastatal-019.md\n",
      " create mode 100644 docs/Regenerative Skills/Volunteer-management-and-mixing-regenerative-practices-with-neal-hegarty-of-abundant-edge.md\n",
      " create mode 100644 docs/Regenerative Skills/Why-and-how-to-build-your-own-ponds-with-robert-pavlis-author-of-building-natural-ponds-37.md\n",
      "Enumerating objects: 106, done.\n",
      "Counting objects: 100% (106/106), done.\n",
      "Delta compression using up to 4 threads\n",
      "Compressing objects: 100% (103/103), done.\n",
      "Writing objects: 100% (103/103), 2.09 MiB | 3.36 MiB/s, done.\n",
      "Total 103 (delta 4), reused 0 (delta 0), pack-reused 0\n",
      "remote: Resolving deltas: 100% (4/4), completed with 3 local objects.\u001b[K\n",
      "To github.com:Thimm/thimm.github.io.git\n",
      "   edaa1d2..f1d2e1c  main -> main\n"
     ]
    }
   ],
   "source": [
    "! cp -r markdown/* ../docs/\n",
    "! git pull && git add ../docs && git commit -m \"New content\" && git push"
   ]
  }
 ],
 "metadata": {
  "kernelspec": {
   "display_name": "Python 3 (ipykernel)",
   "language": "python",
   "name": "python3"
  },
  "language_info": {
   "codemirror_mode": {
    "name": "ipython",
    "version": 3
   },
   "file_extension": ".py",
   "mimetype": "text/x-python",
   "name": "python",
   "nbconvert_exporter": "python",
   "pygments_lexer": "ipython3",
   "version": "3.9.13"
  }
 },
 "nbformat": 4,
 "nbformat_minor": 5
}

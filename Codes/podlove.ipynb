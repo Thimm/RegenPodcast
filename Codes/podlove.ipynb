{
 "cells": [
  {
   "cell_type": "code",
   "execution_count": 1,
   "id": "2718ad68-e6dd-444f-8011-7427222a780e",
   "metadata": {},
   "outputs": [
    {
     "ename": "ModuleNotFoundError",
     "evalue": "No module named 'asd'",
     "output_type": "error",
     "traceback": [
      "\u001b[0;31m---------------------------------------------------------------------------\u001b[0m",
      "\u001b[0;31mModuleNotFoundError\u001b[0m                       Traceback (most recent call last)",
      "Cell \u001b[0;32mIn [1], line 1\u001b[0m\n\u001b[0;32m----> 1\u001b[0m \u001b[38;5;28;01mimport\u001b[39;00m \u001b[38;5;21;01masd\u001b[39;00m\n",
      "\u001b[0;31mModuleNotFoundError\u001b[0m: No module named 'asd'"
     ]
    }
   ],
   "source": [
    "import asd"
   ]
  },
  {
   "cell_type": "code",
   "execution_count": 1,
   "id": "9c39cd6d-a732-4da4-b455-a2ab2f181055",
   "metadata": {},
   "outputs": [],
   "source": [
    "import json\n",
    "import feedparser\n",
    "from IPython.display import JSON\n",
    "import requests\n",
    "import datetime\n",
    "feeds = [\n",
    "    \"https://anchor.fm/s/df98870/podcast/rss\",\n",
    "    \"https://feeds.buzzsprout.com/1154870.rss\",\n",
    "    \"http://feeds.soundcloud.com/users/soundcloud:users:294272020/sounds.rss\",\n",
    "    \"https://feeds.acast.com/public/shows/5eded114811f0313e89ddaeb\",\n",
    "    \"https://regenerativeagriculturepodcast.com/rss\",\n",
    "    # \"https://regenerativeskills.com/feed/podcast/\",\n",
    "    \"https://feeds.backtracks.fm/feeds/tenacious/agtech-so-what/feed.xml?1667419322\",\n",
    "    \"https://feeds.libsyn.com/301781/rss\",\n",
    "    \"https://anchor.fm/s/10c2c51c/podcast/rss\",\n",
    "    \"https://feeds.buzzsprout.com/1857893.rss\",\n",
    "    \"https://feeds.buzzsprout.com/1303834.rss\",\n",
    "    \"https://feeds.transistor.fm/regenerative-by-design\"\n",
    "]\n",
    "\n",
    "feed = feeds[1]"
   ]
  },
  {
   "cell_type": "code",
   "execution_count": 2,
   "id": "6cee9c17-e09d-46cc-91b6-b7445cfa03d4",
   "metadata": {},
   "outputs": [],
   "source": [
    "podcast = feedparser.parse(feed)\n",
    "feed_meta = podcast[\"feed\"]"
   ]
  },
  {
   "cell_type": "code",
   "execution_count": 3,
   "id": "6eb81c50-ed60-43fc-b2b0-5ffe81f99f4b",
   "metadata": {},
   "outputs": [],
   "source": [
    "entry = podcast[\"entries\"][1]"
   ]
  },
  {
   "cell_type": "code",
   "execution_count": 101,
   "id": "310b6380-5500-4e51-a6ae-ef2b0c4068b2",
   "metadata": {
    "collapsed": true,
    "jupyter": {
     "outputs_hidden": true
    },
    "tags": []
   },
   "outputs": [
    {
     "data": {
      "application/json": {
       "author": "Tony Riddle",
       "author_detail": {
        "name": "Tony Riddle"
       },
       "authors": [
        {
         "name": "Tony Riddle"
        }
       ],
       "content": [
        {
         "base": "https://anchor.fm/s/df98870/podcast/rss",
         "language": null,
         "type": "text/html",
         "value": "<p><strong>Welcome to The Natural Lifestylist Podcast</strong></p>\n<p><strong>It’s been quite some time since I last released a new podcast, even though this one's been in the bank and I've been itching to put it out. It didn't feel appropriate to put it out, especially in these coronavirus times.</strong></p>\n<p><strong>Then, as if by magic, &nbsp;I was presented with some research that suggests that high levels of air pollution, specifically diesel may be one of the contributing factors to deaths from COVID-19.</strong></p>\n<p><strong>You can check out that research by </strong><a href=\"https://amp.theguardian.com/environment/2020/apr/20/air-pollution-may-be-key-contributor-to-covid-19-deaths-study\"><u><strong>clicking here</strong></u></a><strong>. That was then a brilliant opportunity for me to release this episode since air pollution is a topic that we speak about in our conversation.</strong></p>\n<p><strong>My guest on this episode is James Thornton.</strong></p>\n<p><strong>The New Statesman has named him as one of 10 people who could change the world.</strong></p>\n<p><strong>James Thornton is an environmental lawyer and writer. He is the founding CEO of Client Earth, a global, non-profit, environmental law organization. James launched Client Earth in 2007 sparking fundamental change in the way environmental protections are made and enforced across Europe. Now operating globally, Client Earth uses advocacy, litigation, and research to address the greatest challenges of our time; including nature loss and climate change.</strong></p>\n<p><strong>I hope you enjoy this conversation.</strong></p>\n<p><strong>I absolutely love what Client Earth is about and what they're doing. I've been on board ever since the book landed in my lap. They were one of the organisations that I raised funds for on my crazy barefoot Land's End to John O’Groats shenanigans last year</strong></p>\n<p><strong>If you want to get behind James and support Client Earth you can head over to Amazon and buy the book or you can head to clientearth.org. On the website, you can make donations, fundraise, or even join their leadership circles.</strong></p>\n<p><strong>You can help James, Client Earth, and Mother Earth by sharing this conversation wide and far. Don't just do it for Client Earth, &nbsp;for me, or even for you. But rather the bigger picture of doing this for the next generation and generations to come.</strong></p>\n<p><strong>Don’t forget to check out my weekly </strong><a href=\"https://clients.mindbodyonline.com/classic/ws?studioid=435972&amp;stype=-7&amp;sTG=27&amp;sView=day&amp;sLoc=0\"><u><strong>online Move Breath Chill Experience</strong></u></a><strong> and also </strong><a href=\"https://clients.mindbodyonline.com/classic/ws?studioid=435972&amp;stype=40&amp;prodid=100\"><u><strong>The NATLIFE Tribe</strong></u></a><strong>.</strong></p>\n<p><strong>Until the next time stay wild, stay connected, and stay empowered! You are loved!</strong></p>"
        }
       ],
       "guidislink": false,
       "id": "cd5912c5-aa84-4056-bb46-9965267c7297",
       "image": {
        "href": "https://d3t3ozftmdmh3i.cloudfront.net/production/podcast_uploaded_episode/2244572/2244572-1588034062076-060f29716849a.jpg"
       },
       "itunes_duration": "01:24:07",
       "itunes_episode": "1",
       "itunes_episodetype": "full",
       "itunes_explicit": null,
       "itunes_season": "2",
       "link": "https://anchor.fm/tony-riddle/episodes/James-Thornton---Client-Earth--Protecting-People--Nature--The-Planet-eda40l",
       "links": [
        {
         "href": "https://anchor.fm/tony-riddle/episodes/James-Thornton---Client-Earth--Protecting-People--Nature--The-Planet-eda40l",
         "rel": "alternate",
         "type": "text/html"
        },
        {
         "href": "https://anchor.fm/s/df98870/podcast/play/12963285/https%3A%2F%2Fd3ctxlq1ktw2nl.cloudfront.net%2Fproduction%2F2020-3-27%2F67988692-44100-2-8f9176bf88f9b.mp3",
         "length": "123875412",
         "rel": "enclosure",
         "type": "audio/mpeg"
        }
       ],
       "published": "Mon, 27 Apr 2020 15:30:00 GMT",
       "published_parsed": [
        2020,
        4,
        27,
        15,
        30,
        0,
        0,
        118,
        0
       ],
       "summary": "<p><strong>Welcome to The Natural Lifestylist Podcast</strong></p>\n<p><strong>It’s been quite some time since I last released a new podcast, even though this one's been in the bank and I've been itching to put it out. It didn't feel appropriate to put it out, especially in these coronavirus times.</strong></p>\n<p><strong>Then, as if by magic, &nbsp;I was presented with some research that suggests that high levels of air pollution, specifically diesel may be one of the contributing factors to deaths from COVID-19.</strong></p>\n<p><strong>You can check out that research by </strong><a href=\"https://amp.theguardian.com/environment/2020/apr/20/air-pollution-may-be-key-contributor-to-covid-19-deaths-study\"><u><strong>clicking here</strong></u></a><strong>. That was then a brilliant opportunity for me to release this episode since air pollution is a topic that we speak about in our conversation.</strong></p>\n<p><strong>My guest on this episode is James Thornton.</strong></p>\n<p><strong>The New Statesman has named him as one of 10 people who could change the world.</strong></p>\n<p><strong>James Thornton is an environmental lawyer and writer. He is the founding CEO of Client Earth, a global, non-profit, environmental law organization. James launched Client Earth in 2007 sparking fundamental change in the way environmental protections are made and enforced across Europe. Now operating globally, Client Earth uses advocacy, litigation, and research to address the greatest challenges of our time; including nature loss and climate change.</strong></p>\n<p><strong>I hope you enjoy this conversation.</strong></p>\n<p><strong>I absolutely love what Client Earth is about and what they're doing. I've been on board ever since the book landed in my lap. They were one of the organisations that I raised funds for on my crazy barefoot Land's End to John O’Groats shenanigans last year</strong></p>\n<p><strong>If you want to get behind James and support Client Earth you can head over to Amazon and buy the book or you can head to clientearth.org. On the website, you can make donations, fundraise, or even join their leadership circles.</strong></p>\n<p><strong>You can help James, Client Earth, and Mother Earth by sharing this conversation wide and far. Don't just do it for Client Earth, &nbsp;for me, or even for you. But rather the bigger picture of doing this for the next generation and generations to come.</strong></p>\n<p><strong>Don’t forget to check out my weekly </strong><a href=\"https://clients.mindbodyonline.com/classic/ws?studioid=435972&amp;stype=-7&amp;sTG=27&amp;sView=day&amp;sLoc=0\"><u><strong>online Move Breath Chill Experience</strong></u></a><strong> and also </strong><a href=\"https://clients.mindbodyonline.com/classic/ws?studioid=435972&amp;stype=40&amp;prodid=100\"><u><strong>The NATLIFE Tribe</strong></u></a><strong>.</strong></p>\n<p><strong>Until the next time stay wild, stay connected, and stay empowered! You are loved!</strong></p>",
       "summary_detail": {
        "base": "https://anchor.fm/s/df98870/podcast/rss",
        "language": null,
        "type": "text/html",
        "value": "<p><strong>Welcome to The Natural Lifestylist Podcast</strong></p>\n<p><strong>It’s been quite some time since I last released a new podcast, even though this one's been in the bank and I've been itching to put it out. It didn't feel appropriate to put it out, especially in these coronavirus times.</strong></p>\n<p><strong>Then, as if by magic, &nbsp;I was presented with some research that suggests that high levels of air pollution, specifically diesel may be one of the contributing factors to deaths from COVID-19.</strong></p>\n<p><strong>You can check out that research by </strong><a href=\"https://amp.theguardian.com/environment/2020/apr/20/air-pollution-may-be-key-contributor-to-covid-19-deaths-study\"><u><strong>clicking here</strong></u></a><strong>. That was then a brilliant opportunity for me to release this episode since air pollution is a topic that we speak about in our conversation.</strong></p>\n<p><strong>My guest on this episode is James Thornton.</strong></p>\n<p><strong>The New Statesman has named him as one of 10 people who could change the world.</strong></p>\n<p><strong>James Thornton is an environmental lawyer and writer. He is the founding CEO of Client Earth, a global, non-profit, environmental law organization. James launched Client Earth in 2007 sparking fundamental change in the way environmental protections are made and enforced across Europe. Now operating globally, Client Earth uses advocacy, litigation, and research to address the greatest challenges of our time; including nature loss and climate change.</strong></p>\n<p><strong>I hope you enjoy this conversation.</strong></p>\n<p><strong>I absolutely love what Client Earth is about and what they're doing. I've been on board ever since the book landed in my lap. They were one of the organisations that I raised funds for on my crazy barefoot Land's End to John O’Groats shenanigans last year</strong></p>\n<p><strong>If you want to get behind James and support Client Earth you can head over to Amazon and buy the book or you can head to clientearth.org. On the website, you can make donations, fundraise, or even join their leadership circles.</strong></p>\n<p><strong>You can help James, Client Earth, and Mother Earth by sharing this conversation wide and far. Don't just do it for Client Earth, &nbsp;for me, or even for you. But rather the bigger picture of doing this for the next generation and generations to come.</strong></p>\n<p><strong>Don’t forget to check out my weekly </strong><a href=\"https://clients.mindbodyonline.com/classic/ws?studioid=435972&amp;stype=-7&amp;sTG=27&amp;sView=day&amp;sLoc=0\"><u><strong>online Move Breath Chill Experience</strong></u></a><strong> and also </strong><a href=\"https://clients.mindbodyonline.com/classic/ws?studioid=435972&amp;stype=40&amp;prodid=100\"><u><strong>The NATLIFE Tribe</strong></u></a><strong>.</strong></p>\n<p><strong>Until the next time stay wild, stay connected, and stay empowered! You are loved!</strong></p>"
       },
       "title": "James Thornton - Client Earth. Protecting People, Nature & The Planet.",
       "title_detail": {
        "base": "https://anchor.fm/s/df98870/podcast/rss",
        "language": null,
        "type": "text/plain",
        "value": "James Thornton - Client Earth. Protecting People, Nature & The Planet."
       }
      },
      "text/plain": [
       "<IPython.core.display.JSON object>"
      ]
     },
     "execution_count": 101,
     "metadata": {
      "application/json": {
       "expanded": false,
       "root": "root"
      }
     },
     "output_type": "execute_result"
    }
   ],
   "source": [
    "JSON(entry)"
   ]
  },
  {
   "cell_type": "code",
   "execution_count": 20,
   "id": "6d6cd48d-c722-41d8-a946-0da059271c26",
   "metadata": {
    "collapsed": true,
    "jupyter": {
     "outputs_hidden": true
    },
    "tags": []
   },
   "outputs": [
    {
     "data": {
      "application/json": {
       "author": "Koen van Seijen",
       "author_detail": {
        "name": "Koen van Seijen"
       },
       "authors": [
        {
         "name": "Koen van Seijen"
        }
       ],
       "content": [
        {
         "base": "https://feeds.buzzsprout.com/1154870.rss",
         "language": null,
         "type": "text/html",
         "value": "<p>A conversation with Fred Provenza, professor emeritus of Behavioural Ecology in the Department of Wildland Resources at Utah State University, about domesticated animals, their ability to self-select medicine and food and figure out what they need in terms of energy, vitamins and phytonutrients. We also discuss what they can teach us about rediscovering our nutritional wisdom.<br /><br />This series is supported by the A Team Foundation, who support food and land projects that are ecologically, economically and socially conscious. They contribute to the wider movement that envisions a future where real food is produced by enlightened agriculture and access to it is equal. The A Team are looking to make more investments and grants in the space of bionutrients.<b><em> </em></b>You can find out more on <a href=\"http://ateamfoundation.org/\">ateamfoundation.org</a>.<br />---------------------------------------------------</p><p>Join our Gumroad community, discover the tiers and benefits on <a href=\"https://www.gumroad.com/investinginregenag\">www.gumroad.com/investinginregenag</a>. </p><p>Support our work:</p><ul><li>Share it</li><li>Give a 5-star rating</li><li>Buy us a coffee… or a meal! <a href=\"https://www.ko-fi.com/regenerativeagriculture\">www.Ko-fi.com/regenerativeagriculture</a></li></ul><p>----------------------------------------------------</p><p>Research shows that animals are perfectly able to feed themselves when they have the cultural background and intergenerational education plus the diversity in plants and feed they need. So, what does that teach us about human nutrition and its connection to healthy soils?<br /><br />More about this episode on <a href=\"https://investinginregenerativeagriculture.com/fred-provenza\">https://investinginregenerativeagriculture.com/fred-provenza</a>.</p><p>Find our video course on <a href=\"https://investinginregenerativeagriculture.com/course\">https://investinginregenerativeagriculture.com/course</a>.</p><p>----------------------------------------------------<br /><br /></p><p>The above references an opinion and is for information and educational purposes only. It is not intended to be investment advice. Seek a duly licensed professional for investment advice.<br /><br /></p> <a href=\"https://www.gumroad.com/investinginregenag\" rel=\"payment\">Support the show</a><p><b>Feedback, ideas, suggestions? </b><br />- Twitter <a href=\"https://twitter.com/koenvanseijen\">@KoenvanSeijen</a> <br />- Get in touch <a href=\"https://www.investinginregenerativeagriculture.com/\">www.investinginregenerativeagriculture.com</a><br /><br /><b>Join our newsletter</b> on <a href=\"http://www.eepurl.com/cxU33P\">www.eepurl.com/cxU33P</a>! <br /><br /><a href=\"https://www.gumroad.com/investinginregenag\">Support the show</a><br /><br /><b><em>Thanks for listening and sharing!</em></b></p>"
        }
       ],
       "guidislink": false,
       "id": "Buzzsprout-11525131",
       "image": {
        "href": "https://storage.buzzsprout.com/variants/a0p09y9nz2nhiu2xodiejg68zqee/60854458c4d1acdf4e1c2f79c4137142d85d78e379bdafbd69bd34c85f5819ad.jpg"
       },
       "itunes_duration": "4561",
       "itunes_episode": "193",
       "itunes_episodetype": "full",
       "itunes_explicit": null,
       "itunes_title": "193 Fred Provenza - What should we learn from domesticated animals when it comes to food as medicine",
       "link": "https://investinginregenerativeagriculture.com/fred-provenza",
       "links": [
        {
         "href": "https://investinginregenerativeagriculture.com/fred-provenza",
         "rel": "alternate",
         "type": "text/html"
        },
        {
         "href": "https://www.buzzsprout.com/1154870/11525131-193-fred-provenza-what-should-we-learn-from-domesticated-animals-when-it-comes-to-food-as-medicine.mp3",
         "length": "54768962",
         "rel": "enclosure",
         "type": "audio/mpeg"
        }
       ],
       "podcast_chapters": {
        "type": "application/json",
        "url": "https://feeds.buzzsprout.com/1154870/11525131/chapters.json"
       },
       "published": "Tue, 15 Nov 2022 17:00:00 +0100",
       "published_parsed": [
        2022,
        11,
        15,
        16,
        0,
        0,
        1,
        319,
        0
       ],
       "summary": "<p>A conversation with Fred Provenza, professor emeritus of Behavioural Ecology in the Department of Wildland Resources at Utah State University, about domesticated animals, their ability to self-select medicine and food and figure out what they need in terms of energy, vitamins and phytonutrients. We also discuss what they can teach us about rediscovering our nutritional wisdom.<br /><br />This series is supported by the A Team Foundation, who support food and land projects that are ecologically, economically and socially conscious. They contribute to the wider movement that envisions a future where real food is produced by enlightened agriculture and access to it is equal. The A Team are looking to make more investments and grants in the space of bionutrients.<b><em> </em></b>You can find out more on <a href=\"http://ateamfoundation.org/\">ateamfoundation.org</a>.<br />---------------------------------------------------</p><p>Join our Gumroad community, discover the tiers and benefits on <a href=\"https://www.gumroad.com/investinginregenag\">www.gumroad.com/investinginregenag</a>. </p><p>Support our work:</p><ul><li>Share it</li><li>Give a 5-star rating</li><li>Buy us a coffee… or a meal! <a href=\"https://www.ko-fi.com/regenerativeagriculture\">www.Ko-fi.com/regenerativeagriculture</a></li></ul><p>----------------------------------------------------</p><p>Research shows that animals are perfectly able to feed themselves when they have the cultural background and intergenerational education plus the diversity in plants and feed they need. So, what does that teach us about human nutrition and its connection to healthy soils?<br /><br />More about this episode on <a href=\"https://investinginregenerativeagriculture.com/fred-provenza\">https://investinginregenerativeagriculture.com/fred-provenza</a>.</p><p>Find our video course on <a href=\"https://investinginregenerativeagriculture.com/course\">https://investinginregenerativeagriculture.com/course</a>.</p><p>----------------------------------------------------<br /><br /></p><p>The above references an opinion and is for information and educational purposes only. It is not intended to be investment advice. Seek a duly licensed professional for investment advice.<br /><br /></p> <a href=\"https://www.gumroad.com/investinginregenag\" rel=\"payment\">Support the show</a><p><b>Feedback, ideas, suggestions? </b><br />- Twitter <a href=\"https://twitter.com/koenvanseijen\">@KoenvanSeijen</a> <br />- Get in touch <a href=\"https://www.investinginregenerativeagriculture.com/\">www.investinginregenerativeagriculture.com</a><br /><br /><b>Join our newsletter</b> on <a href=\"http://www.eepurl.com/cxU33P\">www.eepurl.com/cxU33P</a>! <br /><br /><a href=\"https://www.gumroad.com/investinginregenag\">Support the show</a><br /><br /><b><em>Thanks for listening and sharing!</em></b></p>",
       "summary_detail": {
        "base": "https://feeds.buzzsprout.com/1154870.rss",
        "language": null,
        "type": "text/html",
        "value": "<p>A conversation with Fred Provenza, professor emeritus of Behavioural Ecology in the Department of Wildland Resources at Utah State University, about domesticated animals, their ability to self-select medicine and food and figure out what they need in terms of energy, vitamins and phytonutrients. We also discuss what they can teach us about rediscovering our nutritional wisdom.<br /><br />This series is supported by the A Team Foundation, who support food and land projects that are ecologically, economically and socially conscious. They contribute to the wider movement that envisions a future where real food is produced by enlightened agriculture and access to it is equal. The A Team are looking to make more investments and grants in the space of bionutrients.<b><em> </em></b>You can find out more on <a href=\"http://ateamfoundation.org/\">ateamfoundation.org</a>.<br />---------------------------------------------------</p><p>Join our Gumroad community, discover the tiers and benefits on <a href=\"https://www.gumroad.com/investinginregenag\">www.gumroad.com/investinginregenag</a>. </p><p>Support our work:</p><ul><li>Share it</li><li>Give a 5-star rating</li><li>Buy us a coffee… or a meal! <a href=\"https://www.ko-fi.com/regenerativeagriculture\">www.Ko-fi.com/regenerativeagriculture</a></li></ul><p>----------------------------------------------------</p><p>Research shows that animals are perfectly able to feed themselves when they have the cultural background and intergenerational education plus the diversity in plants and feed they need. So, what does that teach us about human nutrition and its connection to healthy soils?<br /><br />More about this episode on <a href=\"https://investinginregenerativeagriculture.com/fred-provenza\">https://investinginregenerativeagriculture.com/fred-provenza</a>.</p><p>Find our video course on <a href=\"https://investinginregenerativeagriculture.com/course\">https://investinginregenerativeagriculture.com/course</a>.</p><p>----------------------------------------------------<br /><br /></p><p>The above references an opinion and is for information and educational purposes only. It is not intended to be investment advice. Seek a duly licensed professional for investment advice.<br /><br /></p> <a href=\"https://www.gumroad.com/investinginregenag\" rel=\"payment\">Support the show</a><p><b>Feedback, ideas, suggestions? </b><br />- Twitter <a href=\"https://twitter.com/koenvanseijen\">@KoenvanSeijen</a> <br />- Get in touch <a href=\"https://www.investinginregenerativeagriculture.com/\">www.investinginregenerativeagriculture.com</a><br /><br /><b>Join our newsletter</b> on <a href=\"http://www.eepurl.com/cxU33P\">www.eepurl.com/cxU33P</a>! <br /><br /><a href=\"https://www.gumroad.com/investinginregenag\">Support the show</a><br /><br /><b><em>Thanks for listening and sharing!</em></b></p>"
       },
       "tags": [
        {
         "label": null,
         "scheme": "http://www.itunes.com/",
         "term": "Diet Change"
        },
        {
         "label": null,
         "scheme": "http://www.itunes.com/",
         "term": "Nutrient Dense Food"
        },
        {
         "label": null,
         "scheme": "http://www.itunes.com/",
         "term": "Nutrient Density in Food"
        },
        {
         "label": null,
         "scheme": "http://www.itunes.com/",
         "term": "Regenerative Agriculture"
        },
        {
         "label": null,
         "scheme": "http://www.itunes.com/",
         "term": "agriculture"
        },
        {
         "label": null,
         "scheme": "http://www.itunes.com/",
         "term": "animals"
        },
        {
         "label": null,
         "scheme": "http://www.itunes.com/",
         "term": "culture"
        },
        {
         "label": null,
         "scheme": "http://www.itunes.com/",
         "term": "enzymes"
        },
        {
         "label": null,
         "scheme": "http://www.itunes.com/",
         "term": "food"
        },
        {
         "label": null,
         "scheme": "http://www.itunes.com/",
         "term": "junk food"
        },
        {
         "label": null,
         "scheme": "http://www.itunes.com/",
         "term": "nutrition"
        },
        {
         "label": null,
         "scheme": "http://www.itunes.com/",
         "term": "phytochemicals"
        },
        {
         "label": null,
         "scheme": "http://www.itunes.com/",
         "term": "vitamins"
        },
        {
         "label": null,
         "scheme": "http://www.itunes.com/",
         "term": "woodrats"
        }
       ],
       "title": "193 Fred Provenza - What should we learn from domesticated animals when it comes to food as medicine",
       "title_detail": {
        "base": "https://feeds.buzzsprout.com/1154870.rss",
        "language": null,
        "type": "text/plain",
        "value": "193 Fred Provenza - What should we learn from domesticated animals when it comes to food as medicine"
       }
      },
      "text/plain": [
       "<IPython.core.display.JSON object>"
      ]
     },
     "execution_count": 20,
     "metadata": {
      "application/json": {
       "expanded": false,
       "root": "root"
      }
     },
     "output_type": "execute_result"
    }
   ],
   "source": [
    "JSON(entry)"
   ]
  },
  {
   "cell_type": "code",
   "execution_count": 37,
   "id": "0f3931fe-1be2-478e-8174-cc385621b2f2",
   "metadata": {
    "jupyter": {
     "source_hidden": true
    },
    "tags": []
   },
   "outputs": [
    {
     "data": {
      "text/plain": [
       "[{'title': 'Why are you doing what you are doing? Why Soil?',\n",
       "  'start': '0:02:19.610000'},\n",
       " {'title': 'Role of culture and intergenerational learning with animals',\n",
       "  'start': '0:18:21.610000'},\n",
       " {'title': 'What does that mean for humans?', 'start': '0:26:43.610000'},\n",
       " {'title': 'Why we are not eating enough healthy whole some foods',\n",
       "  'start': '0:33:33.610000'},\n",
       " {'title': 'What can we learn from how plants manage their economies?',\n",
       "  'start': '0:43:31.610000'},\n",
       " {'title': 'What we lost by selecting for yield', 'start': '0:48:26.610000'},\n",
       " {'title': 'What would you do if you were in charge of a 1B investment portfolio',\n",
       "  'start': '0:57:33.610000'},\n",
       " {'title': 'If you could wave a magic wand and change one thing in the agriculture industry',\n",
       "  'start': '1:08:04.610000'}]"
      ]
     },
     "execution_count": 37,
     "metadata": {},
     "output_type": "execute_result"
    }
   ],
   "source": [
    "def get_chapters(entry):\n",
    "    chapters = requests.get(entry[\"podcast_chapters\"][\"url\"]).json()[\"chapters\"]\n",
    "    for chapter in chapters:\n",
    "        chapter[\"start\"] = str(datetime.timedelta(seconds=chapter.pop(\"startTime\")))\n",
    "\n",
    "    return chapters\n",
    "    \n",
    "def get_audio(entry):\n",
    "    audio = list(filter(lambda x: x if x[\"type\"] == \"audio/mpeg\" else False, entry[\"links\"]))[0]\n",
    "    \n",
    "    return [\n",
    "        {\n",
    "          \"url\": audio[\"href\"],\n",
    "          \"size\": audio[\"length\"],\n",
    "          \"title\": \"MP3 Audio (mp3)\",\n",
    "          \"mimeType\": audio[\"type\"]\n",
    "        }\n",
    "    ]"
   ]
  },
  {
   "cell_type": "code",
   "execution_count": 44,
   "id": "4236a285-11a7-4c83-86e6-1ae3a05a866c",
   "metadata": {
    "collapsed": true,
    "jupyter": {
     "outputs_hidden": true
    },
    "tags": []
   },
   "outputs": [
    {
     "data": {
      "application/json": {
       "author": "Koen van Seijen",
       "author_detail": {
        "name": "Koen van Seijen"
       },
       "authors": [
        {
         "name": "Koen van Seijen"
        }
       ],
       "content": [
        {
         "base": "https://feeds.buzzsprout.com/1154870.rss",
         "language": null,
         "type": "text/html",
         "value": "<p>A conversation with Fred Provenza, professor emeritus of Behavioural Ecology in the Department of Wildland Resources at Utah State University, about domesticated animals, their ability to self-select medicine and food and figure out what they need in terms of energy, vitamins and phytonutrients. We also discuss what they can teach us about rediscovering our nutritional wisdom.<br /><br />This series is supported by the A Team Foundation, who support food and land projects that are ecologically, economically and socially conscious. They contribute to the wider movement that envisions a future where real food is produced by enlightened agriculture and access to it is equal. The A Team are looking to make more investments and grants in the space of bionutrients.<b><em> </em></b>You can find out more on <a href=\"http://ateamfoundation.org/\">ateamfoundation.org</a>.<br />---------------------------------------------------</p><p>Join our Gumroad community, discover the tiers and benefits on <a href=\"https://www.gumroad.com/investinginregenag\">www.gumroad.com/investinginregenag</a>. </p><p>Support our work:</p><ul><li>Share it</li><li>Give a 5-star rating</li><li>Buy us a coffee… or a meal! <a href=\"https://www.ko-fi.com/regenerativeagriculture\">www.Ko-fi.com/regenerativeagriculture</a></li></ul><p>----------------------------------------------------</p><p>Research shows that animals are perfectly able to feed themselves when they have the cultural background and intergenerational education plus the diversity in plants and feed they need. So, what does that teach us about human nutrition and its connection to healthy soils?<br /><br />More about this episode on <a href=\"https://investinginregenerativeagriculture.com/fred-provenza\">https://investinginregenerativeagriculture.com/fred-provenza</a>.</p><p>Find our video course on <a href=\"https://investinginregenerativeagriculture.com/course\">https://investinginregenerativeagriculture.com/course</a>.</p><p>----------------------------------------------------<br /><br /></p><p>The above references an opinion and is for information and educational purposes only. It is not intended to be investment advice. Seek a duly licensed professional for investment advice.<br /><br /></p> <a href=\"https://www.gumroad.com/investinginregenag\" rel=\"payment\">Support the show</a><p><b>Feedback, ideas, suggestions? </b><br />- Twitter <a href=\"https://twitter.com/koenvanseijen\">@KoenvanSeijen</a> <br />- Get in touch <a href=\"https://www.investinginregenerativeagriculture.com/\">www.investinginregenerativeagriculture.com</a><br /><br /><b>Join our newsletter</b> on <a href=\"http://www.eepurl.com/cxU33P\">www.eepurl.com/cxU33P</a>! <br /><br /><a href=\"https://www.gumroad.com/investinginregenag\">Support the show</a><br /><br /><b><em>Thanks for listening and sharing!</em></b></p>"
        }
       ],
       "guidislink": false,
       "id": "Buzzsprout-11525131",
       "image": {
        "href": "https://storage.buzzsprout.com/variants/a0p09y9nz2nhiu2xodiejg68zqee/60854458c4d1acdf4e1c2f79c4137142d85d78e379bdafbd69bd34c85f5819ad.jpg"
       },
       "itunes_duration": "4561",
       "itunes_episode": "193",
       "itunes_episodetype": "full",
       "itunes_explicit": null,
       "itunes_title": "193 Fred Provenza - What should we learn from domesticated animals when it comes to food as medicine",
       "link": "https://investinginregenerativeagriculture.com/fred-provenza",
       "links": [
        {
         "href": "https://investinginregenerativeagriculture.com/fred-provenza",
         "rel": "alternate",
         "type": "text/html"
        },
        {
         "href": "https://www.buzzsprout.com/1154870/11525131-193-fred-provenza-what-should-we-learn-from-domesticated-animals-when-it-comes-to-food-as-medicine.mp3",
         "length": "54768962",
         "rel": "enclosure",
         "type": "audio/mpeg"
        }
       ],
       "podcast_chapters": {
        "type": "application/json",
        "url": "https://feeds.buzzsprout.com/1154870/11525131/chapters.json"
       },
       "published": "Tue, 15 Nov 2022 17:00:00 +0100",
       "published_parsed": [
        2022,
        11,
        15,
        16,
        0,
        0,
        1,
        319,
        0
       ],
       "summary": "<p>A conversation with Fred Provenza, professor emeritus of Behavioural Ecology in the Department of Wildland Resources at Utah State University, about domesticated animals, their ability to self-select medicine and food and figure out what they need in terms of energy, vitamins and phytonutrients. We also discuss what they can teach us about rediscovering our nutritional wisdom.<br /><br />This series is supported by the A Team Foundation, who support food and land projects that are ecologically, economically and socially conscious. They contribute to the wider movement that envisions a future where real food is produced by enlightened agriculture and access to it is equal. The A Team are looking to make more investments and grants in the space of bionutrients.<b><em> </em></b>You can find out more on <a href=\"http://ateamfoundation.org/\">ateamfoundation.org</a>.<br />---------------------------------------------------</p><p>Join our Gumroad community, discover the tiers and benefits on <a href=\"https://www.gumroad.com/investinginregenag\">www.gumroad.com/investinginregenag</a>. </p><p>Support our work:</p><ul><li>Share it</li><li>Give a 5-star rating</li><li>Buy us a coffee… or a meal! <a href=\"https://www.ko-fi.com/regenerativeagriculture\">www.Ko-fi.com/regenerativeagriculture</a></li></ul><p>----------------------------------------------------</p><p>Research shows that animals are perfectly able to feed themselves when they have the cultural background and intergenerational education plus the diversity in plants and feed they need. So, what does that teach us about human nutrition and its connection to healthy soils?<br /><br />More about this episode on <a href=\"https://investinginregenerativeagriculture.com/fred-provenza\">https://investinginregenerativeagriculture.com/fred-provenza</a>.</p><p>Find our video course on <a href=\"https://investinginregenerativeagriculture.com/course\">https://investinginregenerativeagriculture.com/course</a>.</p><p>----------------------------------------------------<br /><br /></p><p>The above references an opinion and is for information and educational purposes only. It is not intended to be investment advice. Seek a duly licensed professional for investment advice.<br /><br /></p> <a href=\"https://www.gumroad.com/investinginregenag\" rel=\"payment\">Support the show</a><p><b>Feedback, ideas, suggestions? </b><br />- Twitter <a href=\"https://twitter.com/koenvanseijen\">@KoenvanSeijen</a> <br />- Get in touch <a href=\"https://www.investinginregenerativeagriculture.com/\">www.investinginregenerativeagriculture.com</a><br /><br /><b>Join our newsletter</b> on <a href=\"http://www.eepurl.com/cxU33P\">www.eepurl.com/cxU33P</a>! <br /><br /><a href=\"https://www.gumroad.com/investinginregenag\">Support the show</a><br /><br /><b><em>Thanks for listening and sharing!</em></b></p>",
       "summary_detail": {
        "base": "https://feeds.buzzsprout.com/1154870.rss",
        "language": null,
        "type": "text/html",
        "value": "<p>A conversation with Fred Provenza, professor emeritus of Behavioural Ecology in the Department of Wildland Resources at Utah State University, about domesticated animals, their ability to self-select medicine and food and figure out what they need in terms of energy, vitamins and phytonutrients. We also discuss what they can teach us about rediscovering our nutritional wisdom.<br /><br />This series is supported by the A Team Foundation, who support food and land projects that are ecologically, economically and socially conscious. They contribute to the wider movement that envisions a future where real food is produced by enlightened agriculture and access to it is equal. The A Team are looking to make more investments and grants in the space of bionutrients.<b><em> </em></b>You can find out more on <a href=\"http://ateamfoundation.org/\">ateamfoundation.org</a>.<br />---------------------------------------------------</p><p>Join our Gumroad community, discover the tiers and benefits on <a href=\"https://www.gumroad.com/investinginregenag\">www.gumroad.com/investinginregenag</a>. </p><p>Support our work:</p><ul><li>Share it</li><li>Give a 5-star rating</li><li>Buy us a coffee… or a meal! <a href=\"https://www.ko-fi.com/regenerativeagriculture\">www.Ko-fi.com/regenerativeagriculture</a></li></ul><p>----------------------------------------------------</p><p>Research shows that animals are perfectly able to feed themselves when they have the cultural background and intergenerational education plus the diversity in plants and feed they need. So, what does that teach us about human nutrition and its connection to healthy soils?<br /><br />More about this episode on <a href=\"https://investinginregenerativeagriculture.com/fred-provenza\">https://investinginregenerativeagriculture.com/fred-provenza</a>.</p><p>Find our video course on <a href=\"https://investinginregenerativeagriculture.com/course\">https://investinginregenerativeagriculture.com/course</a>.</p><p>----------------------------------------------------<br /><br /></p><p>The above references an opinion and is for information and educational purposes only. It is not intended to be investment advice. Seek a duly licensed professional for investment advice.<br /><br /></p> <a href=\"https://www.gumroad.com/investinginregenag\" rel=\"payment\">Support the show</a><p><b>Feedback, ideas, suggestions? </b><br />- Twitter <a href=\"https://twitter.com/koenvanseijen\">@KoenvanSeijen</a> <br />- Get in touch <a href=\"https://www.investinginregenerativeagriculture.com/\">www.investinginregenerativeagriculture.com</a><br /><br /><b>Join our newsletter</b> on <a href=\"http://www.eepurl.com/cxU33P\">www.eepurl.com/cxU33P</a>! <br /><br /><a href=\"https://www.gumroad.com/investinginregenag\">Support the show</a><br /><br /><b><em>Thanks for listening and sharing!</em></b></p>"
       },
       "tags": [
        {
         "label": null,
         "scheme": "http://www.itunes.com/",
         "term": "Diet Change"
        },
        {
         "label": null,
         "scheme": "http://www.itunes.com/",
         "term": "Nutrient Dense Food"
        },
        {
         "label": null,
         "scheme": "http://www.itunes.com/",
         "term": "Nutrient Density in Food"
        },
        {
         "label": null,
         "scheme": "http://www.itunes.com/",
         "term": "Regenerative Agriculture"
        },
        {
         "label": null,
         "scheme": "http://www.itunes.com/",
         "term": "agriculture"
        },
        {
         "label": null,
         "scheme": "http://www.itunes.com/",
         "term": "animals"
        },
        {
         "label": null,
         "scheme": "http://www.itunes.com/",
         "term": "culture"
        },
        {
         "label": null,
         "scheme": "http://www.itunes.com/",
         "term": "enzymes"
        },
        {
         "label": null,
         "scheme": "http://www.itunes.com/",
         "term": "food"
        },
        {
         "label": null,
         "scheme": "http://www.itunes.com/",
         "term": "junk food"
        },
        {
         "label": null,
         "scheme": "http://www.itunes.com/",
         "term": "nutrition"
        },
        {
         "label": null,
         "scheme": "http://www.itunes.com/",
         "term": "phytochemicals"
        },
        {
         "label": null,
         "scheme": "http://www.itunes.com/",
         "term": "vitamins"
        },
        {
         "label": null,
         "scheme": "http://www.itunes.com/",
         "term": "woodrats"
        }
       ],
       "title": "193 Fred Provenza - What should we learn from domesticated animals when it comes to food as medicine",
       "title_detail": {
        "base": "https://feeds.buzzsprout.com/1154870.rss",
        "language": null,
        "type": "text/plain",
        "value": "193 Fred Provenza - What should we learn from domesticated animals when it comes to food as medicine"
       }
      },
      "text/plain": [
       "<IPython.core.display.JSON object>"
      ]
     },
     "execution_count": 44,
     "metadata": {
      "application/json": {
       "expanded": false,
       "root": "root"
      }
     },
     "output_type": "execute_result"
    }
   ],
   "source": [
    "JSON(entry)"
   ]
  },
  {
   "cell_type": "code",
   "execution_count": 67,
   "id": "5f9113cd-3a95-4b37-b289-e6ee7ab9455c",
   "metadata": {},
   "outputs": [],
   "source": [
    "import pickle\n",
    "with open(\"transcriptions/Investing in Regenerative Agriculture and Food/169-cath-tayleur-on-why-measuring-biodiversity-is-one-of-the-key-levers-for-regenerative-agriculture.pickle\", \"rb\") as f:\n",
    "    transcript_raw = pickle.load(f)"
   ]
  },
  {
   "cell_type": "code",
   "execution_count": 71,
   "id": "67b06c84-6733-40bb-9c13-22af0928d33b",
   "metadata": {},
   "outputs": [
    {
     "data": {
      "text/plain": [
       "3375680.0"
      ]
     },
     "execution_count": 71,
     "metadata": {},
     "output_type": "execute_result"
    }
   ],
   "source": []
  },
  {
   "cell_type": "code",
   "execution_count": 75,
   "id": "1d76946c-606e-4a07-9898-820c37c104c4",
   "metadata": {},
   "outputs": [],
   "source": [
    "from podcast_transcription import batch\n",
    "\n",
    "def get_podlove_transcripts(transcript, batch_size=3):\n",
    "    podlove_transcripts = []\n",
    "    for seq in batch(transcript[\"segments\"], batch_size):\n",
    "        start = seq[0][\"start\"]\n",
    "        end = seq[-1][\"end\"]\n",
    "        text = \" \".join([x[\"text\"] for x in seq])\n",
    "        \n",
    "        podlove_transcripts.append({\n",
    "              \"start\": str(datetime.timedelta(seconds=start)),\n",
    "              \"start_ms\": start*1000,\n",
    "              \"end\": str(datetime.timedelta(seconds=end)),\n",
    "              \"end_ms\": end*1000,\n",
    "              \"text\": text\n",
    "            })\n",
    "    return podlove_transcripts"
   ]
  },
  {
   "cell_type": "code",
   "execution_count": 92,
   "id": "99aa6337-9b21-4873-9865-799129278660",
   "metadata": {},
   "outputs": [],
   "source": [
    "def get_podlove_config(feed_meta):\n",
    "    return {\n",
    "        \"version\": 5,\n",
    "        \"subscribe-button\": {\n",
    "        \"feed\": [x for x in feed_meta[\"links\"] if \"rss\" in x[\"type\"] or \"atom\" in x[\"type\"]][0][\"href\"],\n",
    "        \"clients\": [\n",
    "          {\n",
    "            \"id\": \"apple-podcasts\",\n",
    "          },\n",
    "          {\n",
    "            \"id\": \"antenna-pod\"\n",
    "          },\n",
    "          {\n",
    "            \"id\": \"beyond-pod\"\n",
    "          },\n",
    "          {\n",
    "            \"id\": \"castro\"\n",
    "          },\n",
    "          {\n",
    "            \"id\": \"clementine\"\n",
    "          },\n",
    "          {\n",
    "            \"id\": \"downcast\"\n",
    "          },\n",
    "          {\n",
    "            \"id\": \"google-podcasts\",\n",
    "          },\n",
    "          {\n",
    "            \"id\": \"gpodder\"\n",
    "          },\n",
    "          {\n",
    "            \"id\": \"itunes\"\n",
    "          },\n",
    "          {\n",
    "            \"id\": \"i-catcher\"\n",
    "          },\n",
    "          {\n",
    "            \"id\": \"instacast\"\n",
    "          },\n",
    "          {\n",
    "            \"id\": \"overcast\"\n",
    "          },\n",
    "          {\n",
    "            \"id\": \"player-fm\"\n",
    "          },\n",
    "          {\n",
    "            \"id\": \"pocket-casts\"\n",
    "          },\n",
    "          {\n",
    "            \"id\": \"pocket-casts\",\n",
    "          },\n",
    "          {\n",
    "            \"id\": \"pod-grasp\"\n",
    "          },\n",
    "          {\n",
    "            \"id\": \"podcast-addict\"\n",
    "          },\n",
    "          {\n",
    "            \"id\": \"podcast-republic\"\n",
    "          },\n",
    "          {\n",
    "            \"id\": \"podcat\"\n",
    "          },\n",
    "          {\n",
    "            \"id\": \"podscout\"\n",
    "          },\n",
    "          {\n",
    "            \"id\": \"rss-radio\"\n",
    "          },\n",
    "          {\n",
    "            \"id\": \"rss\"\n",
    "          }\n",
    "        ]\n",
    "        },\n",
    "\n",
    "        \"playlist\": \"playlist.json\",\n",
    "\n",
    "        \"share\": {\n",
    "        \"channels\": [\n",
    "          \"facebook\",\n",
    "          \"twitter\",\n",
    "          \"whats-app\",\n",
    "          \"linkedin\",\n",
    "          \"pinterest\",\n",
    "          \"xing\",\n",
    "          \"mail\",\n",
    "          \"link\"\n",
    "        ],\n",
    "        \"sharePlaytime\": true\n",
    "        },\n",
    "\n",
    "        \"features\": {\n",
    "        \"persistTab\": true,\n",
    "        \"persistPlaystate\": true\n",
    "        }\n",
    "    }\n"
   ]
  }
 ],
 "metadata": {
  "kernelspec": {
   "display_name": "Python 3 (ipykernel)",
   "language": "python",
   "name": "python3"
  },
  "language_info": {
   "codemirror_mode": {
    "name": "ipython",
    "version": 3
   },
   "file_extension": ".py",
   "mimetype": "text/x-python",
   "name": "python",
   "nbconvert_exporter": "python",
   "pygments_lexer": "ipython3",
   "version": "3.9.13"
  }
 },
 "nbformat": 4,
 "nbformat_minor": 5
}
